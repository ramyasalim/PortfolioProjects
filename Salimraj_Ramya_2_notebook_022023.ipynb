{
 "cells": [
  {
   "cell_type": "markdown",
   "metadata": {},
   "source": [
    "# ChatData\n",
    "\n",
    "## Sqlite\n",
    "We are using a file system called **sqlite**. It looks and acts like a real single user relational database (RDB). sqlite3 comes packaged with python. You do not need to install the library. You simply import it (as below).\n",
    "\n",
    "- We are using Pandas to write and read to sqlite. Pandas will manage a lot of the complexity of dealing with a RDB. There are other ways of reading and writing to a RDB that are VERY common and often used in production systems.  \n",
    "\n",
    "- The most common other way is to read or write to the RDB row by row. As you can see Pandas puts the entire dataframe into the RDB or extracts a new dataframe from the RDB. These are not row by row operations. These are set operations. Set operations ARE more efficient. However, it is common to use row by row operations to avoid needing large memory computers to hold the dataframes. One row only takes a few bytes. An entire dataframe could be many gigabytes and even petabytes of data. Obviously you will end up with problems with your compute resource if your files are this big. This will not happen to you in this activity and may never happen to you while you are a data analyst. Please just be aware of this. \n",
    "\n",
    "- This activity is primarily about querying a RDB, so, we are using a simple way that Pandas provides. If you want to learn the more complex way, just google 'reading and wrting to a relational database using python'. There are many resources to learn from.\n",
    "\n",
    "- The data types that sqlite supports are quite limited. for example, it does not have a DATE type.  This is not a challenge for this project. However, more sophisticated database systems,such as Postgresql, have a large array of data types, such as \"DATE\", etc. that give those systems additional capability. \n",
    "\n",
    "- All of the SQL queries could also be performed on the Pandas DataFrames directly.  You may want to try this yourself for comparison (but make sure you do the SQL queries first, as this is an exercise in using SQL!).\n",
    "\n",
    "\n",
    "## SQL Magic\n",
    "Within the Jupyter notebook we will be using something called **SQL Magic**.  This provides a convenient way to write SQL queries directly into code cells in the notebook and to read the results back into a Pandas DataFrame.  This makes working with SQL much easier!\n",
    "\n",
    "Note that you may need to update your sqlite version using `conda update -c anaconda sqlite` in order for the SQL Magic to work correctly.\n",
    "\n",
    "## The Data Analysis Lifecycle\n",
    "The sections in this notebook follow the stages of the Data Analysis Lifecycle introduced in an earlier activity.  The stages are:\n",
    "\n",
    "- Acquire\n",
    "- Transform\n",
    "- Organise\n",
    "- Analyse\n",
    "- Communicate\n",
    "- Maintain\n"
   ]
  },
  {
   "cell_type": "markdown",
   "metadata": {},
   "source": [
    "The requirements document for this project is Template SQL queries.xlsx."
   ]
  },
  {
   "cell_type": "markdown",
   "metadata": {},
   "source": [
    "# Preliminary Steps: Create a Database\n",
    "First let's import Sqlite and the other libraries we will need."
   ]
  },
  {
   "cell_type": "code",
   "execution_count": 2,
   "metadata": {},
   "outputs": [],
   "source": [
    "# Import Libraries\n",
    "import numpy as np\n",
    "import pandas as pd\n",
    "import sqlite3"
   ]
  },
  {
   "cell_type": "markdown",
   "metadata": {},
   "source": [
    "### Create the Database\n",
    "Now we will create the Sqlite database.  Here is some code that does this for you.  We use the `%load_ext` magic command to load the SQL Magic extension and then use `%sql` to connect to the database."
   ]
  },
  {
   "cell_type": "code",
   "execution_count": 3,
   "metadata": {},
   "outputs": [],
   "source": [
    "# If the db does not exist, sqlite will create it.\n",
    "con = sqlite3.connect('chatdata.db')\n",
    "\n",
    "# loads sql magic\n",
    "%load_ext sql \n",
    "\n",
    "# connects sql magic command to the correct db\n",
    "%sql sqlite:///chatdata.db "
   ]
  },
  {
   "cell_type": "markdown",
   "metadata": {},
   "source": [
    "#### Drop the `queries` table if it already exists\n",
    "The queries table will be our record of the queries created to answer the questions from the requirements spreadsheet.  As we will be running this Jupyter notebook a few times, let's drop (i.e. remove) the queries table so that we start fresh each time.  Here is the code to do this.  We use the `%%sql` magic command to tell Jupyter that we are going to write SQL in the cell.\n"
   ]
  },
  {
   "cell_type": "code",
   "execution_count": 4,
   "metadata": {},
   "outputs": [
    {
     "name": "stdout",
     "output_type": "stream",
     "text": [
      " * sqlite:///chatdata.db\n",
      "Done.\n"
     ]
    },
    {
     "data": {
      "text/plain": [
       "[]"
      ]
     },
     "execution_count": 4,
     "metadata": {},
     "output_type": "execute_result"
    }
   ],
   "source": [
    "%%sql\n",
    "DROP TABLE IF EXISTS 'queries'"
   ]
  },
  {
   "cell_type": "markdown",
   "metadata": {},
   "source": [
    "# Task 1: Load the Data\n",
    "Now we can start loading the data.  The tables will be created as we load the data.  \n",
    "\n",
    "Note that some of these files are quite large, so make sure you have plenty of free memory!"
   ]
  },
  {
   "cell_type": "markdown",
   "metadata": {},
   "source": [
    "## Lifecycle Stages: Transform and Organise\n",
    "The data has already been processed into 3 clean data files ready for this project:\n",
    "\n",
    "- queries.csv\n",
    "- posts.csv\n",
    "- comments.csv\n",
    "\n",
    "We will load these files into our database."
   ]
  },
  {
   "cell_type": "markdown",
   "metadata": {},
   "source": [
    "## Lifecycle Stage: Acquire\n",
    "The data can be found in the OpenClassrooms instructions for this activity."
   ]
  },
  {
   "cell_type": "markdown",
   "metadata": {},
   "source": [
    "### Load Comments Data into a `comments` table\n",
    "Now we will load the data from the csv files into our sqlite database.\n",
    "\n",
    "First we load the csv file into a Pandas dataframe:"
   ]
  },
  {
   "cell_type": "code",
   "execution_count": 5,
   "metadata": {},
   "outputs": [
    {
     "data": {
      "text/html": [
       "<div>\n",
       "<style scoped>\n",
       "    .dataframe tbody tr th:only-of-type {\n",
       "        vertical-align: middle;\n",
       "    }\n",
       "\n",
       "    .dataframe tbody tr th {\n",
       "        vertical-align: top;\n",
       "    }\n",
       "\n",
       "    .dataframe thead th {\n",
       "        text-align: right;\n",
       "    }\n",
       "</style>\n",
       "<table border=\"1\" class=\"dataframe\">\n",
       "  <thead>\n",
       "    <tr style=\"text-align: right;\">\n",
       "      <th></th>\n",
       "      <th>Id</th>\n",
       "      <th>PostId</th>\n",
       "      <th>Score</th>\n",
       "      <th>Text</th>\n",
       "      <th>CreationDate</th>\n",
       "      <th>UserId</th>\n",
       "    </tr>\n",
       "  </thead>\n",
       "  <tbody>\n",
       "    <tr>\n",
       "      <th>0</th>\n",
       "      <td>723182</td>\n",
       "      <td>385124</td>\n",
       "      <td>0</td>\n",
       "      <td>@BenBolker I don't understand. The fit cannot ...</td>\n",
       "      <td>2019-01-01 00:06:39</td>\n",
       "      <td>78575</td>\n",
       "    </tr>\n",
       "    <tr>\n",
       "      <th>1</th>\n",
       "      <td>723183</td>\n",
       "      <td>385124</td>\n",
       "      <td>3</td>\n",
       "      <td>You can't add *less* than (`-min(y)`), but you...</td>\n",
       "      <td>2019-01-01 00:09:22</td>\n",
       "      <td>2126</td>\n",
       "    </tr>\n",
       "    <tr>\n",
       "      <th>2</th>\n",
       "      <td>723186</td>\n",
       "      <td>385137</td>\n",
       "      <td>0</td>\n",
       "      <td>nice. If you felt like doing the work it would...</td>\n",
       "      <td>2019-01-01 00:32:11</td>\n",
       "      <td>2126</td>\n",
       "    </tr>\n",
       "    <tr>\n",
       "      <th>3</th>\n",
       "      <td>723187</td>\n",
       "      <td>385137</td>\n",
       "      <td>0</td>\n",
       "      <td>i.e. `emdbook::curve3d(-sum(dnbinom(y,mu=mu,si...</td>\n",
       "      <td>2019-01-01 00:40:36</td>\n",
       "      <td>2126</td>\n",
       "    </tr>\n",
       "    <tr>\n",
       "      <th>4</th>\n",
       "      <td>723188</td>\n",
       "      <td>385134</td>\n",
       "      <td>0</td>\n",
       "      <td>Don't you mean \"so variance should be $\\sigma^...</td>\n",
       "      <td>2019-01-01 00:41:28</td>\n",
       "      <td>112141</td>\n",
       "    </tr>\n",
       "  </tbody>\n",
       "</table>\n",
       "</div>"
      ],
      "text/plain": [
       "       Id  PostId  Score                                               Text  \\\n",
       "0  723182  385124      0  @BenBolker I don't understand. The fit cannot ...   \n",
       "1  723183  385124      3  You can't add *less* than (`-min(y)`), but you...   \n",
       "2  723186  385137      0  nice. If you felt like doing the work it would...   \n",
       "3  723187  385137      0  i.e. `emdbook::curve3d(-sum(dnbinom(y,mu=mu,si...   \n",
       "4  723188  385134      0  Don't you mean \"so variance should be $\\sigma^...   \n",
       "\n",
       "          CreationDate  UserId  \n",
       "0  2019-01-01 00:06:39   78575  \n",
       "1  2019-01-01 00:09:22    2126  \n",
       "2  2019-01-01 00:32:11    2126  \n",
       "3  2019-01-01 00:40:36    2126  \n",
       "4  2019-01-01 00:41:28  112141  "
      ]
     },
     "execution_count": 5,
     "metadata": {},
     "output_type": "execute_result"
    }
   ],
   "source": [
    "comments = pd.read_csv('comments.csv')\n",
    "comments.head()"
   ]
  },
  {
   "cell_type": "markdown",
   "metadata": {},
   "source": [
    "Now take the comments dataframe and push the data into the Sqlite database table called 'comments':"
   ]
  },
  {
   "cell_type": "code",
   "execution_count": 6,
   "metadata": {},
   "outputs": [
    {
     "data": {
      "text/html": [
       "<div>\n",
       "<style scoped>\n",
       "    .dataframe tbody tr th:only-of-type {\n",
       "        vertical-align: middle;\n",
       "    }\n",
       "\n",
       "    .dataframe tbody tr th {\n",
       "        vertical-align: top;\n",
       "    }\n",
       "\n",
       "    .dataframe thead th {\n",
       "        text-align: right;\n",
       "    }\n",
       "</style>\n",
       "<table border=\"1\" class=\"dataframe\">\n",
       "  <thead>\n",
       "    <tr style=\"text-align: right;\">\n",
       "      <th></th>\n",
       "      <th>Id</th>\n",
       "      <th>PostId</th>\n",
       "      <th>Score</th>\n",
       "      <th>Text</th>\n",
       "      <th>CreationDate</th>\n",
       "      <th>UserId</th>\n",
       "    </tr>\n",
       "  </thead>\n",
       "  <tbody>\n",
       "    <tr>\n",
       "      <th>0</th>\n",
       "      <td>723182</td>\n",
       "      <td>385124</td>\n",
       "      <td>0</td>\n",
       "      <td>@BenBolker I don't understand. The fit cannot ...</td>\n",
       "      <td>2019-01-01 00:06:39</td>\n",
       "      <td>78575</td>\n",
       "    </tr>\n",
       "    <tr>\n",
       "      <th>1</th>\n",
       "      <td>723183</td>\n",
       "      <td>385124</td>\n",
       "      <td>3</td>\n",
       "      <td>You can't add *less* than (`-min(y)`), but you...</td>\n",
       "      <td>2019-01-01 00:09:22</td>\n",
       "      <td>2126</td>\n",
       "    </tr>\n",
       "    <tr>\n",
       "      <th>2</th>\n",
       "      <td>723186</td>\n",
       "      <td>385137</td>\n",
       "      <td>0</td>\n",
       "      <td>nice. If you felt like doing the work it would...</td>\n",
       "      <td>2019-01-01 00:32:11</td>\n",
       "      <td>2126</td>\n",
       "    </tr>\n",
       "    <tr>\n",
       "      <th>3</th>\n",
       "      <td>723187</td>\n",
       "      <td>385137</td>\n",
       "      <td>0</td>\n",
       "      <td>i.e. `emdbook::curve3d(-sum(dnbinom(y,mu=mu,si...</td>\n",
       "      <td>2019-01-01 00:40:36</td>\n",
       "      <td>2126</td>\n",
       "    </tr>\n",
       "    <tr>\n",
       "      <th>4</th>\n",
       "      <td>723188</td>\n",
       "      <td>385134</td>\n",
       "      <td>0</td>\n",
       "      <td>Don't you mean \"so variance should be $\\sigma^...</td>\n",
       "      <td>2019-01-01 00:41:28</td>\n",
       "      <td>112141</td>\n",
       "    </tr>\n",
       "  </tbody>\n",
       "</table>\n",
       "</div>"
      ],
      "text/plain": [
       "       Id  PostId  Score                                               Text  \\\n",
       "0  723182  385124      0  @BenBolker I don't understand. The fit cannot ...   \n",
       "1  723183  385124      3  You can't add *less* than (`-min(y)`), but you...   \n",
       "2  723186  385137      0  nice. If you felt like doing the work it would...   \n",
       "3  723187  385137      0  i.e. `emdbook::curve3d(-sum(dnbinom(y,mu=mu,si...   \n",
       "4  723188  385134      0  Don't you mean \"so variance should be $\\sigma^...   \n",
       "\n",
       "          CreationDate  UserId  \n",
       "0  2019-01-01 00:06:39   78575  \n",
       "1  2019-01-01 00:09:22    2126  \n",
       "2  2019-01-01 00:32:11    2126  \n",
       "3  2019-01-01 00:40:36    2126  \n",
       "4  2019-01-01 00:41:28  112141  "
      ]
     },
     "execution_count": 6,
     "metadata": {},
     "output_type": "execute_result"
    }
   ],
   "source": [
    "# load comments into sqlite\n",
    "comments.to_sql('comments', con, if_exists='replace', index=False)\n",
    "\n",
    "# read back in to prove that it worked\n",
    "sql = 'SELECT * FROM comments'\n",
    "comments = pd.read_sql(sql, con)\n",
    "comments.head()"
   ]
  },
  {
   "cell_type": "markdown",
   "metadata": {},
   "source": [
    "### Load Other CSVs\n",
    "Now that you have seen the code for loading in the comments.csv now do the same to read and write the posts.csv and users.csv to sqlite. \n",
    "\n",
    "<div style=\"background-color:lemonchiffon; border:1px solid; padding:5px; margin:5px; font-weight:bold\"><font color=\"crimson\">\n",
    "TODO: Enter code in the following cells. Insert as many cells as you want to do this.\n",
    "    </font></div>"
   ]
  },
  {
   "cell_type": "code",
   "execution_count": 7,
   "metadata": {},
   "outputs": [
    {
     "data": {
      "text/html": [
       "<div>\n",
       "<style scoped>\n",
       "    .dataframe tbody tr th:only-of-type {\n",
       "        vertical-align: middle;\n",
       "    }\n",
       "\n",
       "    .dataframe tbody tr th {\n",
       "        vertical-align: top;\n",
       "    }\n",
       "\n",
       "    .dataframe thead th {\n",
       "        text-align: right;\n",
       "    }\n",
       "</style>\n",
       "<table border=\"1\" class=\"dataframe\">\n",
       "  <thead>\n",
       "    <tr style=\"text-align: right;\">\n",
       "      <th></th>\n",
       "      <th>Id</th>\n",
       "      <th>PostTypeId</th>\n",
       "      <th>AcceptedAnswerId</th>\n",
       "      <th>ParentId</th>\n",
       "      <th>CreationDate</th>\n",
       "      <th>Score</th>\n",
       "      <th>ViewCount</th>\n",
       "      <th>Body</th>\n",
       "      <th>OwnerUserId</th>\n",
       "      <th>OwnerDisplayName</th>\n",
       "      <th>...</th>\n",
       "      <th>LastEditorDisplayName</th>\n",
       "      <th>LastEditDate</th>\n",
       "      <th>LastActivityDate</th>\n",
       "      <th>Title</th>\n",
       "      <th>Tags</th>\n",
       "      <th>AnswerCount</th>\n",
       "      <th>CommentCount</th>\n",
       "      <th>FavoriteCount</th>\n",
       "      <th>ClosedDate</th>\n",
       "      <th>CommunityOwnedDate</th>\n",
       "    </tr>\n",
       "  </thead>\n",
       "  <tbody>\n",
       "    <tr>\n",
       "      <th>0</th>\n",
       "      <td>423497</td>\n",
       "      <td>1</td>\n",
       "      <td>423511</td>\n",
       "      <td>0</td>\n",
       "      <td>2019-08-24 09:39:31</td>\n",
       "      <td>2</td>\n",
       "      <td>68</td>\n",
       "      <td>&lt;p&gt;From wikipedia &lt;a href=\"https://en.wikipedi...</td>\n",
       "      <td>64552</td>\n",
       "      <td>NaN</td>\n",
       "      <td>...</td>\n",
       "      <td>NaN</td>\n",
       "      <td>NaN</td>\n",
       "      <td>2019-08-24 11:38:54</td>\n",
       "      <td>When are biased estimators with lower MSE pref...</td>\n",
       "      <td>&lt;bias&gt;&lt;unbiased-estimator&gt;&lt;mse&gt;</td>\n",
       "      <td>1</td>\n",
       "      <td>0</td>\n",
       "      <td>1</td>\n",
       "      <td>2019-08-25 10:25:24</td>\n",
       "      <td>NaN</td>\n",
       "    </tr>\n",
       "    <tr>\n",
       "      <th>1</th>\n",
       "      <td>423498</td>\n",
       "      <td>1</td>\n",
       "      <td>0</td>\n",
       "      <td>0</td>\n",
       "      <td>2019-08-24 09:47:42</td>\n",
       "      <td>1</td>\n",
       "      <td>24</td>\n",
       "      <td>&lt;p&gt;I am currently doing local sensitivity anal...</td>\n",
       "      <td>87231</td>\n",
       "      <td>NaN</td>\n",
       "      <td>...</td>\n",
       "      <td>NaN</td>\n",
       "      <td>2019-09-06 12:52:32</td>\n",
       "      <td>2019-09-06 12:52:32</td>\n",
       "      <td>How to interpret the result from local sensiti...</td>\n",
       "      <td>&lt;sensitivity-analysis&gt;&lt;elasticity&gt;</td>\n",
       "      <td>1</td>\n",
       "      <td>0</td>\n",
       "      <td>0</td>\n",
       "      <td>NaN</td>\n",
       "      <td>NaN</td>\n",
       "    </tr>\n",
       "    <tr>\n",
       "      <th>2</th>\n",
       "      <td>423499</td>\n",
       "      <td>1</td>\n",
       "      <td>0</td>\n",
       "      <td>0</td>\n",
       "      <td>2019-08-24 09:48:26</td>\n",
       "      <td>1</td>\n",
       "      <td>56</td>\n",
       "      <td>&lt;p&gt;I'm an honours student in psychology doing ...</td>\n",
       "      <td>257207</td>\n",
       "      <td>NaN</td>\n",
       "      <td>...</td>\n",
       "      <td>NaN</td>\n",
       "      <td>NaN</td>\n",
       "      <td>2019-08-25 08:54:17</td>\n",
       "      <td>Power Analysis in G-Power - Mixed Model Anova</td>\n",
       "      <td>&lt;anova&gt;&lt;gpower&gt;</td>\n",
       "      <td>2</td>\n",
       "      <td>0</td>\n",
       "      <td>0</td>\n",
       "      <td>NaN</td>\n",
       "      <td>NaN</td>\n",
       "    </tr>\n",
       "    <tr>\n",
       "      <th>3</th>\n",
       "      <td>423500</td>\n",
       "      <td>2</td>\n",
       "      <td>0</td>\n",
       "      <td>215865</td>\n",
       "      <td>2019-08-24 09:57:01</td>\n",
       "      <td>0</td>\n",
       "      <td>0</td>\n",
       "      <td>&lt;p&gt;Maybe you can look this &lt;a href=\"https://me...</td>\n",
       "      <td>106606</td>\n",
       "      <td>NaN</td>\n",
       "      <td>...</td>\n",
       "      <td>NaN</td>\n",
       "      <td>NaN</td>\n",
       "      <td>2019-08-24 09:57:01</td>\n",
       "      <td>NaN</td>\n",
       "      <td>NaN</td>\n",
       "      <td>0</td>\n",
       "      <td>0</td>\n",
       "      <td>0</td>\n",
       "      <td>NaN</td>\n",
       "      <td>NaN</td>\n",
       "    </tr>\n",
       "    <tr>\n",
       "      <th>4</th>\n",
       "      <td>423502</td>\n",
       "      <td>2</td>\n",
       "      <td>0</td>\n",
       "      <td>423286</td>\n",
       "      <td>2019-08-24 10:44:52</td>\n",
       "      <td>3</td>\n",
       "      <td>0</td>\n",
       "      <td>&lt;blockquote&gt;\\n  &lt;p&gt;Q1) Is my approach valid?&lt;/...</td>\n",
       "      <td>220643</td>\n",
       "      <td>NaN</td>\n",
       "      <td>...</td>\n",
       "      <td>NaN</td>\n",
       "      <td>2019-08-24 12:13:46</td>\n",
       "      <td>2019-08-24 12:13:46</td>\n",
       "      <td>NaN</td>\n",
       "      <td>NaN</td>\n",
       "      <td>0</td>\n",
       "      <td>1</td>\n",
       "      <td>0</td>\n",
       "      <td>NaN</td>\n",
       "      <td>NaN</td>\n",
       "    </tr>\n",
       "  </tbody>\n",
       "</table>\n",
       "<p>5 rows × 21 columns</p>\n",
       "</div>"
      ],
      "text/plain": [
       "       Id  PostTypeId  AcceptedAnswerId  ParentId         CreationDate  Score  \\\n",
       "0  423497           1            423511         0  2019-08-24 09:39:31      2   \n",
       "1  423498           1                 0         0  2019-08-24 09:47:42      1   \n",
       "2  423499           1                 0         0  2019-08-24 09:48:26      1   \n",
       "3  423500           2                 0    215865  2019-08-24 09:57:01      0   \n",
       "4  423502           2                 0    423286  2019-08-24 10:44:52      3   \n",
       "\n",
       "   ViewCount                                               Body  OwnerUserId  \\\n",
       "0         68  <p>From wikipedia <a href=\"https://en.wikipedi...        64552   \n",
       "1         24  <p>I am currently doing local sensitivity anal...        87231   \n",
       "2         56  <p>I'm an honours student in psychology doing ...       257207   \n",
       "3          0  <p>Maybe you can look this <a href=\"https://me...       106606   \n",
       "4          0  <blockquote>\\n  <p>Q1) Is my approach valid?</...       220643   \n",
       "\n",
       "  OwnerDisplayName  ...  LastEditorDisplayName         LastEditDate  \\\n",
       "0              NaN  ...                    NaN                  NaN   \n",
       "1              NaN  ...                    NaN  2019-09-06 12:52:32   \n",
       "2              NaN  ...                    NaN                  NaN   \n",
       "3              NaN  ...                    NaN                  NaN   \n",
       "4              NaN  ...                    NaN  2019-08-24 12:13:46   \n",
       "\n",
       "      LastActivityDate                                              Title  \\\n",
       "0  2019-08-24 11:38:54  When are biased estimators with lower MSE pref...   \n",
       "1  2019-09-06 12:52:32  How to interpret the result from local sensiti...   \n",
       "2  2019-08-25 08:54:17      Power Analysis in G-Power - Mixed Model Anova   \n",
       "3  2019-08-24 09:57:01                                                NaN   \n",
       "4  2019-08-24 12:13:46                                                NaN   \n",
       "\n",
       "                                 Tags AnswerCount  CommentCount  \\\n",
       "0     <bias><unbiased-estimator><mse>           1             0   \n",
       "1  <sensitivity-analysis><elasticity>           1             0   \n",
       "2                     <anova><gpower>           2             0   \n",
       "3                                 NaN           0             0   \n",
       "4                                 NaN           0             1   \n",
       "\n",
       "   FavoriteCount           ClosedDate CommunityOwnedDate  \n",
       "0              1  2019-08-25 10:25:24                NaN  \n",
       "1              0                  NaN                NaN  \n",
       "2              0                  NaN                NaN  \n",
       "3              0                  NaN                NaN  \n",
       "4              0                  NaN                NaN  \n",
       "\n",
       "[5 rows x 21 columns]"
      ]
     },
     "execution_count": 7,
     "metadata": {},
     "output_type": "execute_result"
    }
   ],
   "source": [
    "posts = pd.read_csv('posts.csv')\n",
    "posts.head()"
   ]
  },
  {
   "cell_type": "code",
   "execution_count": 8,
   "metadata": {},
   "outputs": [
    {
     "data": {
      "text/html": [
       "<div>\n",
       "<style scoped>\n",
       "    .dataframe tbody tr th:only-of-type {\n",
       "        vertical-align: middle;\n",
       "    }\n",
       "\n",
       "    .dataframe tbody tr th {\n",
       "        vertical-align: top;\n",
       "    }\n",
       "\n",
       "    .dataframe thead th {\n",
       "        text-align: right;\n",
       "    }\n",
       "</style>\n",
       "<table border=\"1\" class=\"dataframe\">\n",
       "  <thead>\n",
       "    <tr style=\"text-align: right;\">\n",
       "      <th></th>\n",
       "      <th>Id</th>\n",
       "      <th>PostTypeId</th>\n",
       "      <th>AcceptedAnswerId</th>\n",
       "      <th>ParentId</th>\n",
       "      <th>CreationDate</th>\n",
       "      <th>Score</th>\n",
       "      <th>ViewCount</th>\n",
       "      <th>Body</th>\n",
       "      <th>OwnerUserId</th>\n",
       "      <th>OwnerDisplayName</th>\n",
       "      <th>...</th>\n",
       "      <th>LastEditorDisplayName</th>\n",
       "      <th>LastEditDate</th>\n",
       "      <th>LastActivityDate</th>\n",
       "      <th>Title</th>\n",
       "      <th>Tags</th>\n",
       "      <th>AnswerCount</th>\n",
       "      <th>CommentCount</th>\n",
       "      <th>FavoriteCount</th>\n",
       "      <th>ClosedDate</th>\n",
       "      <th>CommunityOwnedDate</th>\n",
       "    </tr>\n",
       "  </thead>\n",
       "  <tbody>\n",
       "    <tr>\n",
       "      <th>0</th>\n",
       "      <td>423497</td>\n",
       "      <td>1</td>\n",
       "      <td>423511</td>\n",
       "      <td>0</td>\n",
       "      <td>2019-08-24 09:39:31</td>\n",
       "      <td>2</td>\n",
       "      <td>68</td>\n",
       "      <td>&lt;p&gt;From wikipedia &lt;a href=\"https://en.wikipedi...</td>\n",
       "      <td>64552</td>\n",
       "      <td>None</td>\n",
       "      <td>...</td>\n",
       "      <td>None</td>\n",
       "      <td>None</td>\n",
       "      <td>2019-08-24 11:38:54</td>\n",
       "      <td>When are biased estimators with lower MSE pref...</td>\n",
       "      <td>&lt;bias&gt;&lt;unbiased-estimator&gt;&lt;mse&gt;</td>\n",
       "      <td>1</td>\n",
       "      <td>0</td>\n",
       "      <td>1</td>\n",
       "      <td>2019-08-25 10:25:24</td>\n",
       "      <td>None</td>\n",
       "    </tr>\n",
       "    <tr>\n",
       "      <th>1</th>\n",
       "      <td>423498</td>\n",
       "      <td>1</td>\n",
       "      <td>0</td>\n",
       "      <td>0</td>\n",
       "      <td>2019-08-24 09:47:42</td>\n",
       "      <td>1</td>\n",
       "      <td>24</td>\n",
       "      <td>&lt;p&gt;I am currently doing local sensitivity anal...</td>\n",
       "      <td>87231</td>\n",
       "      <td>None</td>\n",
       "      <td>...</td>\n",
       "      <td>None</td>\n",
       "      <td>2019-09-06 12:52:32</td>\n",
       "      <td>2019-09-06 12:52:32</td>\n",
       "      <td>How to interpret the result from local sensiti...</td>\n",
       "      <td>&lt;sensitivity-analysis&gt;&lt;elasticity&gt;</td>\n",
       "      <td>1</td>\n",
       "      <td>0</td>\n",
       "      <td>0</td>\n",
       "      <td>None</td>\n",
       "      <td>None</td>\n",
       "    </tr>\n",
       "    <tr>\n",
       "      <th>2</th>\n",
       "      <td>423499</td>\n",
       "      <td>1</td>\n",
       "      <td>0</td>\n",
       "      <td>0</td>\n",
       "      <td>2019-08-24 09:48:26</td>\n",
       "      <td>1</td>\n",
       "      <td>56</td>\n",
       "      <td>&lt;p&gt;I'm an honours student in psychology doing ...</td>\n",
       "      <td>257207</td>\n",
       "      <td>None</td>\n",
       "      <td>...</td>\n",
       "      <td>None</td>\n",
       "      <td>None</td>\n",
       "      <td>2019-08-25 08:54:17</td>\n",
       "      <td>Power Analysis in G-Power - Mixed Model Anova</td>\n",
       "      <td>&lt;anova&gt;&lt;gpower&gt;</td>\n",
       "      <td>2</td>\n",
       "      <td>0</td>\n",
       "      <td>0</td>\n",
       "      <td>None</td>\n",
       "      <td>None</td>\n",
       "    </tr>\n",
       "    <tr>\n",
       "      <th>3</th>\n",
       "      <td>423500</td>\n",
       "      <td>2</td>\n",
       "      <td>0</td>\n",
       "      <td>215865</td>\n",
       "      <td>2019-08-24 09:57:01</td>\n",
       "      <td>0</td>\n",
       "      <td>0</td>\n",
       "      <td>&lt;p&gt;Maybe you can look this &lt;a href=\"https://me...</td>\n",
       "      <td>106606</td>\n",
       "      <td>None</td>\n",
       "      <td>...</td>\n",
       "      <td>None</td>\n",
       "      <td>None</td>\n",
       "      <td>2019-08-24 09:57:01</td>\n",
       "      <td>None</td>\n",
       "      <td>None</td>\n",
       "      <td>0</td>\n",
       "      <td>0</td>\n",
       "      <td>0</td>\n",
       "      <td>None</td>\n",
       "      <td>None</td>\n",
       "    </tr>\n",
       "    <tr>\n",
       "      <th>4</th>\n",
       "      <td>423502</td>\n",
       "      <td>2</td>\n",
       "      <td>0</td>\n",
       "      <td>423286</td>\n",
       "      <td>2019-08-24 10:44:52</td>\n",
       "      <td>3</td>\n",
       "      <td>0</td>\n",
       "      <td>&lt;blockquote&gt;\\n  &lt;p&gt;Q1) Is my approach valid?&lt;/...</td>\n",
       "      <td>220643</td>\n",
       "      <td>None</td>\n",
       "      <td>...</td>\n",
       "      <td>None</td>\n",
       "      <td>2019-08-24 12:13:46</td>\n",
       "      <td>2019-08-24 12:13:46</td>\n",
       "      <td>None</td>\n",
       "      <td>None</td>\n",
       "      <td>0</td>\n",
       "      <td>1</td>\n",
       "      <td>0</td>\n",
       "      <td>None</td>\n",
       "      <td>None</td>\n",
       "    </tr>\n",
       "  </tbody>\n",
       "</table>\n",
       "<p>5 rows × 21 columns</p>\n",
       "</div>"
      ],
      "text/plain": [
       "       Id  PostTypeId  AcceptedAnswerId  ParentId         CreationDate  Score  \\\n",
       "0  423497           1            423511         0  2019-08-24 09:39:31      2   \n",
       "1  423498           1                 0         0  2019-08-24 09:47:42      1   \n",
       "2  423499           1                 0         0  2019-08-24 09:48:26      1   \n",
       "3  423500           2                 0    215865  2019-08-24 09:57:01      0   \n",
       "4  423502           2                 0    423286  2019-08-24 10:44:52      3   \n",
       "\n",
       "   ViewCount                                               Body  OwnerUserId  \\\n",
       "0         68  <p>From wikipedia <a href=\"https://en.wikipedi...        64552   \n",
       "1         24  <p>I am currently doing local sensitivity anal...        87231   \n",
       "2         56  <p>I'm an honours student in psychology doing ...       257207   \n",
       "3          0  <p>Maybe you can look this <a href=\"https://me...       106606   \n",
       "4          0  <blockquote>\\n  <p>Q1) Is my approach valid?</...       220643   \n",
       "\n",
       "  OwnerDisplayName  ...  LastEditorDisplayName         LastEditDate  \\\n",
       "0             None  ...                   None                 None   \n",
       "1             None  ...                   None  2019-09-06 12:52:32   \n",
       "2             None  ...                   None                 None   \n",
       "3             None  ...                   None                 None   \n",
       "4             None  ...                   None  2019-08-24 12:13:46   \n",
       "\n",
       "      LastActivityDate                                              Title  \\\n",
       "0  2019-08-24 11:38:54  When are biased estimators with lower MSE pref...   \n",
       "1  2019-09-06 12:52:32  How to interpret the result from local sensiti...   \n",
       "2  2019-08-25 08:54:17      Power Analysis in G-Power - Mixed Model Anova   \n",
       "3  2019-08-24 09:57:01                                               None   \n",
       "4  2019-08-24 12:13:46                                               None   \n",
       "\n",
       "                                 Tags AnswerCount  CommentCount  \\\n",
       "0     <bias><unbiased-estimator><mse>           1             0   \n",
       "1  <sensitivity-analysis><elasticity>           1             0   \n",
       "2                     <anova><gpower>           2             0   \n",
       "3                                None           0             0   \n",
       "4                                None           0             1   \n",
       "\n",
       "   FavoriteCount           ClosedDate CommunityOwnedDate  \n",
       "0              1  2019-08-25 10:25:24               None  \n",
       "1              0                 None               None  \n",
       "2              0                 None               None  \n",
       "3              0                 None               None  \n",
       "4              0                 None               None  \n",
       "\n",
       "[5 rows x 21 columns]"
      ]
     },
     "execution_count": 8,
     "metadata": {},
     "output_type": "execute_result"
    }
   ],
   "source": [
    "# load posts into sqlite\n",
    "posts.to_sql('posts', con, if_exists='replace', index=False)\n",
    "\n",
    "# read back in to prove that it worked\n",
    "sql = 'SELECT * FROM posts'\n",
    "posts = pd.read_sql(sql, con)\n",
    "posts.head()"
   ]
  },
  {
   "cell_type": "code",
   "execution_count": 9,
   "metadata": {},
   "outputs": [
    {
     "data": {
      "text/html": [
       "<div>\n",
       "<style scoped>\n",
       "    .dataframe tbody tr th:only-of-type {\n",
       "        vertical-align: middle;\n",
       "    }\n",
       "\n",
       "    .dataframe tbody tr th {\n",
       "        vertical-align: top;\n",
       "    }\n",
       "\n",
       "    .dataframe thead th {\n",
       "        text-align: right;\n",
       "    }\n",
       "</style>\n",
       "<table border=\"1\" class=\"dataframe\">\n",
       "  <thead>\n",
       "    <tr style=\"text-align: right;\">\n",
       "      <th></th>\n",
       "      <th>Id</th>\n",
       "      <th>Reputation</th>\n",
       "      <th>CreationDate</th>\n",
       "      <th>DisplayName</th>\n",
       "      <th>LastAccessDate</th>\n",
       "      <th>WebsiteUrl</th>\n",
       "      <th>Location</th>\n",
       "      <th>AboutMe</th>\n",
       "      <th>Views</th>\n",
       "      <th>UpVotes</th>\n",
       "      <th>DownVotes</th>\n",
       "      <th>ProfileImageUrl</th>\n",
       "      <th>AccountId</th>\n",
       "    </tr>\n",
       "  </thead>\n",
       "  <tbody>\n",
       "    <tr>\n",
       "      <th>0</th>\n",
       "      <td>157607</td>\n",
       "      <td>31</td>\n",
       "      <td>2017-04-17 14:50:42</td>\n",
       "      <td>user157607</td>\n",
       "      <td>2019-07-23 16:44:08</td>\n",
       "      <td>NaN</td>\n",
       "      <td>NaN</td>\n",
       "      <td>NaN</td>\n",
       "      <td>0</td>\n",
       "      <td>0</td>\n",
       "      <td>0</td>\n",
       "      <td>https://www.gravatar.com/avatar/2efb161849efa4...</td>\n",
       "      <td>10705183</td>\n",
       "    </tr>\n",
       "    <tr>\n",
       "      <th>1</th>\n",
       "      <td>157656</td>\n",
       "      <td>101</td>\n",
       "      <td>2017-04-17 20:08:20</td>\n",
       "      <td>user102859</td>\n",
       "      <td>2019-06-26 13:42:13</td>\n",
       "      <td>NaN</td>\n",
       "      <td>NaN</td>\n",
       "      <td>NaN</td>\n",
       "      <td>3</td>\n",
       "      <td>0</td>\n",
       "      <td>0</td>\n",
       "      <td>https://i.stack.imgur.com/eY4ka.jpg?s=128&amp;g=1</td>\n",
       "      <td>10567606</td>\n",
       "    </tr>\n",
       "    <tr>\n",
       "      <th>2</th>\n",
       "      <td>157704</td>\n",
       "      <td>133</td>\n",
       "      <td>2017-04-18 05:10:47</td>\n",
       "      <td>jupiar</td>\n",
       "      <td>2019-11-25 13:32:27</td>\n",
       "      <td>NaN</td>\n",
       "      <td>Shanghai, China</td>\n",
       "      <td>&lt;p&gt;Originally from the U.K, I have an Undergra...</td>\n",
       "      <td>1</td>\n",
       "      <td>1</td>\n",
       "      <td>0</td>\n",
       "      <td>https://www.gravatar.com/avatar/720e20205122c5...</td>\n",
       "      <td>9501631</td>\n",
       "    </tr>\n",
       "    <tr>\n",
       "      <th>3</th>\n",
       "      <td>157709</td>\n",
       "      <td>155</td>\n",
       "      <td>2017-04-18 06:39:18</td>\n",
       "      <td>farmer</td>\n",
       "      <td>2019-02-17 19:44:24</td>\n",
       "      <td>NaN</td>\n",
       "      <td>NaN</td>\n",
       "      <td>NaN</td>\n",
       "      <td>16</td>\n",
       "      <td>0</td>\n",
       "      <td>0</td>\n",
       "      <td>https://www.gravatar.com/avatar/0f8c4bde3d8f25...</td>\n",
       "      <td>10709837</td>\n",
       "    </tr>\n",
       "    <tr>\n",
       "      <th>4</th>\n",
       "      <td>157755</td>\n",
       "      <td>101</td>\n",
       "      <td>2017-04-18 12:56:17</td>\n",
       "      <td>Miki P</td>\n",
       "      <td>2019-08-12 17:02:21</td>\n",
       "      <td>NaN</td>\n",
       "      <td>NaN</td>\n",
       "      <td>NaN</td>\n",
       "      <td>1</td>\n",
       "      <td>9</td>\n",
       "      <td>0</td>\n",
       "      <td>https://www.gravatar.com/avatar/af088558cd81c5...</td>\n",
       "      <td>7969290</td>\n",
       "    </tr>\n",
       "  </tbody>\n",
       "</table>\n",
       "</div>"
      ],
      "text/plain": [
       "       Id  Reputation         CreationDate DisplayName       LastAccessDate  \\\n",
       "0  157607          31  2017-04-17 14:50:42  user157607  2019-07-23 16:44:08   \n",
       "1  157656         101  2017-04-17 20:08:20  user102859  2019-06-26 13:42:13   \n",
       "2  157704         133  2017-04-18 05:10:47      jupiar  2019-11-25 13:32:27   \n",
       "3  157709         155  2017-04-18 06:39:18      farmer  2019-02-17 19:44:24   \n",
       "4  157755         101  2017-04-18 12:56:17      Miki P  2019-08-12 17:02:21   \n",
       "\n",
       "  WebsiteUrl         Location  \\\n",
       "0        NaN              NaN   \n",
       "1        NaN              NaN   \n",
       "2        NaN  Shanghai, China   \n",
       "3        NaN              NaN   \n",
       "4        NaN              NaN   \n",
       "\n",
       "                                             AboutMe  Views  UpVotes  \\\n",
       "0                                                NaN      0        0   \n",
       "1                                                NaN      3        0   \n",
       "2  <p>Originally from the U.K, I have an Undergra...      1        1   \n",
       "3                                                NaN     16        0   \n",
       "4                                                NaN      1        9   \n",
       "\n",
       "   DownVotes                                    ProfileImageUrl  AccountId  \n",
       "0          0  https://www.gravatar.com/avatar/2efb161849efa4...   10705183  \n",
       "1          0      https://i.stack.imgur.com/eY4ka.jpg?s=128&g=1   10567606  \n",
       "2          0  https://www.gravatar.com/avatar/720e20205122c5...    9501631  \n",
       "3          0  https://www.gravatar.com/avatar/0f8c4bde3d8f25...   10709837  \n",
       "4          0  https://www.gravatar.com/avatar/af088558cd81c5...    7969290  "
      ]
     },
     "execution_count": 9,
     "metadata": {},
     "output_type": "execute_result"
    }
   ],
   "source": [
    "users = pd.read_csv('users.csv')\n",
    "users.head()"
   ]
  },
  {
   "cell_type": "code",
   "execution_count": 10,
   "metadata": {},
   "outputs": [
    {
     "data": {
      "text/html": [
       "<div>\n",
       "<style scoped>\n",
       "    .dataframe tbody tr th:only-of-type {\n",
       "        vertical-align: middle;\n",
       "    }\n",
       "\n",
       "    .dataframe tbody tr th {\n",
       "        vertical-align: top;\n",
       "    }\n",
       "\n",
       "    .dataframe thead th {\n",
       "        text-align: right;\n",
       "    }\n",
       "</style>\n",
       "<table border=\"1\" class=\"dataframe\">\n",
       "  <thead>\n",
       "    <tr style=\"text-align: right;\">\n",
       "      <th></th>\n",
       "      <th>Id</th>\n",
       "      <th>Reputation</th>\n",
       "      <th>CreationDate</th>\n",
       "      <th>DisplayName</th>\n",
       "      <th>LastAccessDate</th>\n",
       "      <th>WebsiteUrl</th>\n",
       "      <th>Location</th>\n",
       "      <th>AboutMe</th>\n",
       "      <th>Views</th>\n",
       "      <th>UpVotes</th>\n",
       "      <th>DownVotes</th>\n",
       "      <th>ProfileImageUrl</th>\n",
       "      <th>AccountId</th>\n",
       "    </tr>\n",
       "  </thead>\n",
       "  <tbody>\n",
       "    <tr>\n",
       "      <th>0</th>\n",
       "      <td>157607</td>\n",
       "      <td>31</td>\n",
       "      <td>2017-04-17 14:50:42</td>\n",
       "      <td>user157607</td>\n",
       "      <td>2019-07-23 16:44:08</td>\n",
       "      <td>None</td>\n",
       "      <td>None</td>\n",
       "      <td>None</td>\n",
       "      <td>0</td>\n",
       "      <td>0</td>\n",
       "      <td>0</td>\n",
       "      <td>https://www.gravatar.com/avatar/2efb161849efa4...</td>\n",
       "      <td>10705183</td>\n",
       "    </tr>\n",
       "    <tr>\n",
       "      <th>1</th>\n",
       "      <td>157656</td>\n",
       "      <td>101</td>\n",
       "      <td>2017-04-17 20:08:20</td>\n",
       "      <td>user102859</td>\n",
       "      <td>2019-06-26 13:42:13</td>\n",
       "      <td>None</td>\n",
       "      <td>None</td>\n",
       "      <td>None</td>\n",
       "      <td>3</td>\n",
       "      <td>0</td>\n",
       "      <td>0</td>\n",
       "      <td>https://i.stack.imgur.com/eY4ka.jpg?s=128&amp;g=1</td>\n",
       "      <td>10567606</td>\n",
       "    </tr>\n",
       "    <tr>\n",
       "      <th>2</th>\n",
       "      <td>157704</td>\n",
       "      <td>133</td>\n",
       "      <td>2017-04-18 05:10:47</td>\n",
       "      <td>jupiar</td>\n",
       "      <td>2019-11-25 13:32:27</td>\n",
       "      <td>None</td>\n",
       "      <td>Shanghai, China</td>\n",
       "      <td>&lt;p&gt;Originally from the U.K, I have an Undergra...</td>\n",
       "      <td>1</td>\n",
       "      <td>1</td>\n",
       "      <td>0</td>\n",
       "      <td>https://www.gravatar.com/avatar/720e20205122c5...</td>\n",
       "      <td>9501631</td>\n",
       "    </tr>\n",
       "    <tr>\n",
       "      <th>3</th>\n",
       "      <td>157709</td>\n",
       "      <td>155</td>\n",
       "      <td>2017-04-18 06:39:18</td>\n",
       "      <td>farmer</td>\n",
       "      <td>2019-02-17 19:44:24</td>\n",
       "      <td>None</td>\n",
       "      <td>None</td>\n",
       "      <td>None</td>\n",
       "      <td>16</td>\n",
       "      <td>0</td>\n",
       "      <td>0</td>\n",
       "      <td>https://www.gravatar.com/avatar/0f8c4bde3d8f25...</td>\n",
       "      <td>10709837</td>\n",
       "    </tr>\n",
       "    <tr>\n",
       "      <th>4</th>\n",
       "      <td>157755</td>\n",
       "      <td>101</td>\n",
       "      <td>2017-04-18 12:56:17</td>\n",
       "      <td>Miki P</td>\n",
       "      <td>2019-08-12 17:02:21</td>\n",
       "      <td>None</td>\n",
       "      <td>None</td>\n",
       "      <td>None</td>\n",
       "      <td>1</td>\n",
       "      <td>9</td>\n",
       "      <td>0</td>\n",
       "      <td>https://www.gravatar.com/avatar/af088558cd81c5...</td>\n",
       "      <td>7969290</td>\n",
       "    </tr>\n",
       "  </tbody>\n",
       "</table>\n",
       "</div>"
      ],
      "text/plain": [
       "       Id  Reputation         CreationDate DisplayName       LastAccessDate  \\\n",
       "0  157607          31  2017-04-17 14:50:42  user157607  2019-07-23 16:44:08   \n",
       "1  157656         101  2017-04-17 20:08:20  user102859  2019-06-26 13:42:13   \n",
       "2  157704         133  2017-04-18 05:10:47      jupiar  2019-11-25 13:32:27   \n",
       "3  157709         155  2017-04-18 06:39:18      farmer  2019-02-17 19:44:24   \n",
       "4  157755         101  2017-04-18 12:56:17      Miki P  2019-08-12 17:02:21   \n",
       "\n",
       "  WebsiteUrl         Location  \\\n",
       "0       None             None   \n",
       "1       None             None   \n",
       "2       None  Shanghai, China   \n",
       "3       None             None   \n",
       "4       None             None   \n",
       "\n",
       "                                             AboutMe  Views  UpVotes  \\\n",
       "0                                               None      0        0   \n",
       "1                                               None      3        0   \n",
       "2  <p>Originally from the U.K, I have an Undergra...      1        1   \n",
       "3                                               None     16        0   \n",
       "4                                               None      1        9   \n",
       "\n",
       "   DownVotes                                    ProfileImageUrl  AccountId  \n",
       "0          0  https://www.gravatar.com/avatar/2efb161849efa4...   10705183  \n",
       "1          0      https://i.stack.imgur.com/eY4ka.jpg?s=128&g=1   10567606  \n",
       "2          0  https://www.gravatar.com/avatar/720e20205122c5...    9501631  \n",
       "3          0  https://www.gravatar.com/avatar/0f8c4bde3d8f25...   10709837  \n",
       "4          0  https://www.gravatar.com/avatar/af088558cd81c5...    7969290  "
      ]
     },
     "execution_count": 10,
     "metadata": {},
     "output_type": "execute_result"
    }
   ],
   "source": [
    "# load users into sqlite\n",
    "users.to_sql('users', con, if_exists='replace', index=False)\n",
    "\n",
    "# read back in to prove that it worked\n",
    "sql = 'SELECT * FROM users'\n",
    "users = pd.read_sql(sql, con)\n",
    "users.head()"
   ]
  },
  {
   "cell_type": "markdown",
   "metadata": {},
   "source": [
    "### **TODO**: Drop Duplicates\n",
    "Look for and drop any duplicates in all 3 of the tables (if they exist). Use Pandas to do this. If you find duplicates, you will need to rewrite the table.\n",
    "\n",
    "<div style=\"background-color:lemonchiffon; border:1px solid; padding:5px; margin:5px; font-weight:bold\"><font color=\"crimson\">\n",
    "TODO: Enter code in the following cells. \n",
    "    </font></div>"
   ]
  },
  {
   "cell_type": "code",
   "execution_count": 11,
   "metadata": {},
   "outputs": [
    {
     "data": {
      "text/html": [
       "<div>\n",
       "<style scoped>\n",
       "    .dataframe tbody tr th:only-of-type {\n",
       "        vertical-align: middle;\n",
       "    }\n",
       "\n",
       "    .dataframe tbody tr th {\n",
       "        vertical-align: top;\n",
       "    }\n",
       "\n",
       "    .dataframe thead th {\n",
       "        text-align: right;\n",
       "    }\n",
       "</style>\n",
       "<table border=\"1\" class=\"dataframe\">\n",
       "  <thead>\n",
       "    <tr style=\"text-align: right;\">\n",
       "      <th></th>\n",
       "      <th>Id</th>\n",
       "      <th>Reputation</th>\n",
       "      <th>CreationDate</th>\n",
       "      <th>DisplayName</th>\n",
       "      <th>LastAccessDate</th>\n",
       "      <th>WebsiteUrl</th>\n",
       "      <th>Location</th>\n",
       "      <th>AboutMe</th>\n",
       "      <th>Views</th>\n",
       "      <th>UpVotes</th>\n",
       "      <th>DownVotes</th>\n",
       "      <th>ProfileImageUrl</th>\n",
       "      <th>AccountId</th>\n",
       "    </tr>\n",
       "  </thead>\n",
       "  <tbody>\n",
       "  </tbody>\n",
       "</table>\n",
       "</div>"
      ],
      "text/plain": [
       "Empty DataFrame\n",
       "Columns: [Id, Reputation, CreationDate, DisplayName, LastAccessDate, WebsiteUrl, Location, AboutMe, Views, UpVotes, DownVotes, ProfileImageUrl, AccountId]\n",
       "Index: []"
      ]
     },
     "execution_count": 11,
     "metadata": {},
     "output_type": "execute_result"
    }
   ],
   "source": [
    "users[users.duplicated(keep=False)]"
   ]
  },
  {
   "cell_type": "code",
   "execution_count": 12,
   "metadata": {},
   "outputs": [
    {
     "data": {
      "text/html": [
       "<div>\n",
       "<style scoped>\n",
       "    .dataframe tbody tr th:only-of-type {\n",
       "        vertical-align: middle;\n",
       "    }\n",
       "\n",
       "    .dataframe tbody tr th {\n",
       "        vertical-align: top;\n",
       "    }\n",
       "\n",
       "    .dataframe thead th {\n",
       "        text-align: right;\n",
       "    }\n",
       "</style>\n",
       "<table border=\"1\" class=\"dataframe\">\n",
       "  <thead>\n",
       "    <tr style=\"text-align: right;\">\n",
       "      <th></th>\n",
       "      <th>Id</th>\n",
       "      <th>PostTypeId</th>\n",
       "      <th>AcceptedAnswerId</th>\n",
       "      <th>ParentId</th>\n",
       "      <th>CreationDate</th>\n",
       "      <th>Score</th>\n",
       "      <th>ViewCount</th>\n",
       "      <th>Body</th>\n",
       "      <th>OwnerUserId</th>\n",
       "      <th>OwnerDisplayName</th>\n",
       "      <th>...</th>\n",
       "      <th>LastEditorDisplayName</th>\n",
       "      <th>LastEditDate</th>\n",
       "      <th>LastActivityDate</th>\n",
       "      <th>Title</th>\n",
       "      <th>Tags</th>\n",
       "      <th>AnswerCount</th>\n",
       "      <th>CommentCount</th>\n",
       "      <th>FavoriteCount</th>\n",
       "      <th>ClosedDate</th>\n",
       "      <th>CommunityOwnedDate</th>\n",
       "    </tr>\n",
       "  </thead>\n",
       "  <tbody>\n",
       "  </tbody>\n",
       "</table>\n",
       "<p>0 rows × 21 columns</p>\n",
       "</div>"
      ],
      "text/plain": [
       "Empty DataFrame\n",
       "Columns: [Id, PostTypeId, AcceptedAnswerId, ParentId, CreationDate, Score, ViewCount, Body, OwnerUserId, OwnerDisplayName, LastEditorUserId, LastEditorDisplayName, LastEditDate, LastActivityDate, Title, Tags, AnswerCount, CommentCount, FavoriteCount, ClosedDate, CommunityOwnedDate]\n",
       "Index: []\n",
       "\n",
       "[0 rows x 21 columns]"
      ]
     },
     "execution_count": 12,
     "metadata": {},
     "output_type": "execute_result"
    }
   ],
   "source": [
    "posts[posts.duplicated(keep=False)]"
   ]
  },
  {
   "cell_type": "code",
   "execution_count": 13,
   "metadata": {},
   "outputs": [
    {
     "data": {
      "text/html": [
       "<div>\n",
       "<style scoped>\n",
       "    .dataframe tbody tr th:only-of-type {\n",
       "        vertical-align: middle;\n",
       "    }\n",
       "\n",
       "    .dataframe tbody tr th {\n",
       "        vertical-align: top;\n",
       "    }\n",
       "\n",
       "    .dataframe thead th {\n",
       "        text-align: right;\n",
       "    }\n",
       "</style>\n",
       "<table border=\"1\" class=\"dataframe\">\n",
       "  <thead>\n",
       "    <tr style=\"text-align: right;\">\n",
       "      <th></th>\n",
       "      <th>Id</th>\n",
       "      <th>PostId</th>\n",
       "      <th>Score</th>\n",
       "      <th>Text</th>\n",
       "      <th>CreationDate</th>\n",
       "      <th>UserId</th>\n",
       "    </tr>\n",
       "  </thead>\n",
       "  <tbody>\n",
       "  </tbody>\n",
       "</table>\n",
       "</div>"
      ],
      "text/plain": [
       "Empty DataFrame\n",
       "Columns: [Id, PostId, Score, Text, CreationDate, UserId]\n",
       "Index: []"
      ]
     },
     "execution_count": 13,
     "metadata": {},
     "output_type": "execute_result"
    }
   ],
   "source": [
    "comments[comments.duplicated(keep=False)]"
   ]
  },
  {
   "cell_type": "markdown",
   "metadata": {},
   "source": [
    "## Review the Data\n",
    "\n",
    "Spend some time reviewing the data.  Understand what data we have, think about how that data can be used to assist in the initiative of understanding how ChatData is used in the real world.  Is the data organised in a way that would lend itself to being manged in a relational database?  How would the different tables be connected?  What are the primary and foreign keys?  Would this give you a 3NF model?\n",
    "\n",
    "Also think about security and ethics.  Is there personal data in here?  Could individuals be identified through this data?  It it ethical to use the data in this way?  You will be asked to comment on these questions later!\n",
    "\n",
    "Use the code below to help you."
   ]
  },
  {
   "cell_type": "code",
   "execution_count": 14,
   "metadata": {},
   "outputs": [
    {
     "data": {
      "text/plain": [
       "Index(['Id', 'Reputation', 'CreationDate', 'DisplayName', 'LastAccessDate',\n",
       "       'WebsiteUrl', 'Location', 'AboutMe', 'Views', 'UpVotes', 'DownVotes',\n",
       "       'ProfileImageUrl', 'AccountId'],\n",
       "      dtype='object')"
      ]
     },
     "execution_count": 14,
     "metadata": {},
     "output_type": "execute_result"
    }
   ],
   "source": [
    "users.columns"
   ]
  },
  {
   "cell_type": "code",
   "execution_count": 15,
   "metadata": {},
   "outputs": [
    {
     "data": {
      "text/html": [
       "<div>\n",
       "<style scoped>\n",
       "    .dataframe tbody tr th:only-of-type {\n",
       "        vertical-align: middle;\n",
       "    }\n",
       "\n",
       "    .dataframe tbody tr th {\n",
       "        vertical-align: top;\n",
       "    }\n",
       "\n",
       "    .dataframe thead th {\n",
       "        text-align: right;\n",
       "    }\n",
       "</style>\n",
       "<table border=\"1\" class=\"dataframe\">\n",
       "  <thead>\n",
       "    <tr style=\"text-align: right;\">\n",
       "      <th></th>\n",
       "      <th>Id</th>\n",
       "      <th>Reputation</th>\n",
       "      <th>CreationDate</th>\n",
       "      <th>DisplayName</th>\n",
       "      <th>LastAccessDate</th>\n",
       "      <th>WebsiteUrl</th>\n",
       "      <th>Location</th>\n",
       "      <th>AboutMe</th>\n",
       "      <th>Views</th>\n",
       "      <th>UpVotes</th>\n",
       "      <th>DownVotes</th>\n",
       "      <th>ProfileImageUrl</th>\n",
       "      <th>AccountId</th>\n",
       "    </tr>\n",
       "  </thead>\n",
       "  <tbody>\n",
       "    <tr>\n",
       "      <th>0</th>\n",
       "      <td>157607</td>\n",
       "      <td>31</td>\n",
       "      <td>2017-04-17 14:50:42</td>\n",
       "      <td>user157607</td>\n",
       "      <td>2019-07-23 16:44:08</td>\n",
       "      <td>None</td>\n",
       "      <td>None</td>\n",
       "      <td>None</td>\n",
       "      <td>0</td>\n",
       "      <td>0</td>\n",
       "      <td>0</td>\n",
       "      <td>https://www.gravatar.com/avatar/2efb161849efa4...</td>\n",
       "      <td>10705183</td>\n",
       "    </tr>\n",
       "    <tr>\n",
       "      <th>1</th>\n",
       "      <td>157656</td>\n",
       "      <td>101</td>\n",
       "      <td>2017-04-17 20:08:20</td>\n",
       "      <td>user102859</td>\n",
       "      <td>2019-06-26 13:42:13</td>\n",
       "      <td>None</td>\n",
       "      <td>None</td>\n",
       "      <td>None</td>\n",
       "      <td>3</td>\n",
       "      <td>0</td>\n",
       "      <td>0</td>\n",
       "      <td>https://i.stack.imgur.com/eY4ka.jpg?s=128&amp;g=1</td>\n",
       "      <td>10567606</td>\n",
       "    </tr>\n",
       "    <tr>\n",
       "      <th>2</th>\n",
       "      <td>157704</td>\n",
       "      <td>133</td>\n",
       "      <td>2017-04-18 05:10:47</td>\n",
       "      <td>jupiar</td>\n",
       "      <td>2019-11-25 13:32:27</td>\n",
       "      <td>None</td>\n",
       "      <td>Shanghai, China</td>\n",
       "      <td>&lt;p&gt;Originally from the U.K, I have an Undergra...</td>\n",
       "      <td>1</td>\n",
       "      <td>1</td>\n",
       "      <td>0</td>\n",
       "      <td>https://www.gravatar.com/avatar/720e20205122c5...</td>\n",
       "      <td>9501631</td>\n",
       "    </tr>\n",
       "    <tr>\n",
       "      <th>3</th>\n",
       "      <td>157709</td>\n",
       "      <td>155</td>\n",
       "      <td>2017-04-18 06:39:18</td>\n",
       "      <td>farmer</td>\n",
       "      <td>2019-02-17 19:44:24</td>\n",
       "      <td>None</td>\n",
       "      <td>None</td>\n",
       "      <td>None</td>\n",
       "      <td>16</td>\n",
       "      <td>0</td>\n",
       "      <td>0</td>\n",
       "      <td>https://www.gravatar.com/avatar/0f8c4bde3d8f25...</td>\n",
       "      <td>10709837</td>\n",
       "    </tr>\n",
       "    <tr>\n",
       "      <th>4</th>\n",
       "      <td>157755</td>\n",
       "      <td>101</td>\n",
       "      <td>2017-04-18 12:56:17</td>\n",
       "      <td>Miki P</td>\n",
       "      <td>2019-08-12 17:02:21</td>\n",
       "      <td>None</td>\n",
       "      <td>None</td>\n",
       "      <td>None</td>\n",
       "      <td>1</td>\n",
       "      <td>9</td>\n",
       "      <td>0</td>\n",
       "      <td>https://www.gravatar.com/avatar/af088558cd81c5...</td>\n",
       "      <td>7969290</td>\n",
       "    </tr>\n",
       "  </tbody>\n",
       "</table>\n",
       "</div>"
      ],
      "text/plain": [
       "       Id  Reputation         CreationDate DisplayName       LastAccessDate  \\\n",
       "0  157607          31  2017-04-17 14:50:42  user157607  2019-07-23 16:44:08   \n",
       "1  157656         101  2017-04-17 20:08:20  user102859  2019-06-26 13:42:13   \n",
       "2  157704         133  2017-04-18 05:10:47      jupiar  2019-11-25 13:32:27   \n",
       "3  157709         155  2017-04-18 06:39:18      farmer  2019-02-17 19:44:24   \n",
       "4  157755         101  2017-04-18 12:56:17      Miki P  2019-08-12 17:02:21   \n",
       "\n",
       "  WebsiteUrl         Location  \\\n",
       "0       None             None   \n",
       "1       None             None   \n",
       "2       None  Shanghai, China   \n",
       "3       None             None   \n",
       "4       None             None   \n",
       "\n",
       "                                             AboutMe  Views  UpVotes  \\\n",
       "0                                               None      0        0   \n",
       "1                                               None      3        0   \n",
       "2  <p>Originally from the U.K, I have an Undergra...      1        1   \n",
       "3                                               None     16        0   \n",
       "4                                               None      1        9   \n",
       "\n",
       "   DownVotes                                    ProfileImageUrl  AccountId  \n",
       "0          0  https://www.gravatar.com/avatar/2efb161849efa4...   10705183  \n",
       "1          0      https://i.stack.imgur.com/eY4ka.jpg?s=128&g=1   10567606  \n",
       "2          0  https://www.gravatar.com/avatar/720e20205122c5...    9501631  \n",
       "3          0  https://www.gravatar.com/avatar/0f8c4bde3d8f25...   10709837  \n",
       "4          0  https://www.gravatar.com/avatar/af088558cd81c5...    7969290  "
      ]
     },
     "execution_count": 15,
     "metadata": {},
     "output_type": "execute_result"
    }
   ],
   "source": [
    "users.head()"
   ]
  },
  {
   "cell_type": "code",
   "execution_count": 16,
   "metadata": {},
   "outputs": [
    {
     "data": {
      "text/plain": [
       "Index(['Id', 'PostId', 'Score', 'Text', 'CreationDate', 'UserId'], dtype='object')"
      ]
     },
     "execution_count": 16,
     "metadata": {},
     "output_type": "execute_result"
    }
   ],
   "source": [
    "comments.columns"
   ]
  },
  {
   "cell_type": "code",
   "execution_count": 17,
   "metadata": {},
   "outputs": [
    {
     "data": {
      "text/html": [
       "<div>\n",
       "<style scoped>\n",
       "    .dataframe tbody tr th:only-of-type {\n",
       "        vertical-align: middle;\n",
       "    }\n",
       "\n",
       "    .dataframe tbody tr th {\n",
       "        vertical-align: top;\n",
       "    }\n",
       "\n",
       "    .dataframe thead th {\n",
       "        text-align: right;\n",
       "    }\n",
       "</style>\n",
       "<table border=\"1\" class=\"dataframe\">\n",
       "  <thead>\n",
       "    <tr style=\"text-align: right;\">\n",
       "      <th></th>\n",
       "      <th>Id</th>\n",
       "      <th>PostId</th>\n",
       "      <th>Score</th>\n",
       "      <th>Text</th>\n",
       "      <th>CreationDate</th>\n",
       "      <th>UserId</th>\n",
       "    </tr>\n",
       "  </thead>\n",
       "  <tbody>\n",
       "    <tr>\n",
       "      <th>0</th>\n",
       "      <td>723182</td>\n",
       "      <td>385124</td>\n",
       "      <td>0</td>\n",
       "      <td>@BenBolker I don't understand. The fit cannot ...</td>\n",
       "      <td>2019-01-01 00:06:39</td>\n",
       "      <td>78575</td>\n",
       "    </tr>\n",
       "    <tr>\n",
       "      <th>1</th>\n",
       "      <td>723183</td>\n",
       "      <td>385124</td>\n",
       "      <td>3</td>\n",
       "      <td>You can't add *less* than (`-min(y)`), but you...</td>\n",
       "      <td>2019-01-01 00:09:22</td>\n",
       "      <td>2126</td>\n",
       "    </tr>\n",
       "    <tr>\n",
       "      <th>2</th>\n",
       "      <td>723186</td>\n",
       "      <td>385137</td>\n",
       "      <td>0</td>\n",
       "      <td>nice. If you felt like doing the work it would...</td>\n",
       "      <td>2019-01-01 00:32:11</td>\n",
       "      <td>2126</td>\n",
       "    </tr>\n",
       "    <tr>\n",
       "      <th>3</th>\n",
       "      <td>723187</td>\n",
       "      <td>385137</td>\n",
       "      <td>0</td>\n",
       "      <td>i.e. `emdbook::curve3d(-sum(dnbinom(y,mu=mu,si...</td>\n",
       "      <td>2019-01-01 00:40:36</td>\n",
       "      <td>2126</td>\n",
       "    </tr>\n",
       "    <tr>\n",
       "      <th>4</th>\n",
       "      <td>723188</td>\n",
       "      <td>385134</td>\n",
       "      <td>0</td>\n",
       "      <td>Don't you mean \"so variance should be $\\sigma^...</td>\n",
       "      <td>2019-01-01 00:41:28</td>\n",
       "      <td>112141</td>\n",
       "    </tr>\n",
       "  </tbody>\n",
       "</table>\n",
       "</div>"
      ],
      "text/plain": [
       "       Id  PostId  Score                                               Text  \\\n",
       "0  723182  385124      0  @BenBolker I don't understand. The fit cannot ...   \n",
       "1  723183  385124      3  You can't add *less* than (`-min(y)`), but you...   \n",
       "2  723186  385137      0  nice. If you felt like doing the work it would...   \n",
       "3  723187  385137      0  i.e. `emdbook::curve3d(-sum(dnbinom(y,mu=mu,si...   \n",
       "4  723188  385134      0  Don't you mean \"so variance should be $\\sigma^...   \n",
       "\n",
       "          CreationDate  UserId  \n",
       "0  2019-01-01 00:06:39   78575  \n",
       "1  2019-01-01 00:09:22    2126  \n",
       "2  2019-01-01 00:32:11    2126  \n",
       "3  2019-01-01 00:40:36    2126  \n",
       "4  2019-01-01 00:41:28  112141  "
      ]
     },
     "execution_count": 17,
     "metadata": {},
     "output_type": "execute_result"
    }
   ],
   "source": [
    "comments.head()"
   ]
  },
  {
   "cell_type": "code",
   "execution_count": 18,
   "metadata": {},
   "outputs": [
    {
     "data": {
      "text/plain": [
       "Index(['Id', 'PostTypeId', 'AcceptedAnswerId', 'ParentId', 'CreationDate',\n",
       "       'Score', 'ViewCount', 'Body', 'OwnerUserId', 'OwnerDisplayName',\n",
       "       'LastEditorUserId', 'LastEditorDisplayName', 'LastEditDate',\n",
       "       'LastActivityDate', 'Title', 'Tags', 'AnswerCount', 'CommentCount',\n",
       "       'FavoriteCount', 'ClosedDate', 'CommunityOwnedDate'],\n",
       "      dtype='object')"
      ]
     },
     "execution_count": 18,
     "metadata": {},
     "output_type": "execute_result"
    }
   ],
   "source": [
    "posts.columns"
   ]
  },
  {
   "cell_type": "code",
   "execution_count": 19,
   "metadata": {},
   "outputs": [
    {
     "data": {
      "text/html": [
       "<div>\n",
       "<style scoped>\n",
       "    .dataframe tbody tr th:only-of-type {\n",
       "        vertical-align: middle;\n",
       "    }\n",
       "\n",
       "    .dataframe tbody tr th {\n",
       "        vertical-align: top;\n",
       "    }\n",
       "\n",
       "    .dataframe thead th {\n",
       "        text-align: right;\n",
       "    }\n",
       "</style>\n",
       "<table border=\"1\" class=\"dataframe\">\n",
       "  <thead>\n",
       "    <tr style=\"text-align: right;\">\n",
       "      <th></th>\n",
       "      <th>Id</th>\n",
       "      <th>PostTypeId</th>\n",
       "      <th>AcceptedAnswerId</th>\n",
       "      <th>ParentId</th>\n",
       "      <th>CreationDate</th>\n",
       "      <th>Score</th>\n",
       "      <th>ViewCount</th>\n",
       "      <th>Body</th>\n",
       "      <th>OwnerUserId</th>\n",
       "      <th>OwnerDisplayName</th>\n",
       "      <th>...</th>\n",
       "      <th>LastEditorDisplayName</th>\n",
       "      <th>LastEditDate</th>\n",
       "      <th>LastActivityDate</th>\n",
       "      <th>Title</th>\n",
       "      <th>Tags</th>\n",
       "      <th>AnswerCount</th>\n",
       "      <th>CommentCount</th>\n",
       "      <th>FavoriteCount</th>\n",
       "      <th>ClosedDate</th>\n",
       "      <th>CommunityOwnedDate</th>\n",
       "    </tr>\n",
       "  </thead>\n",
       "  <tbody>\n",
       "    <tr>\n",
       "      <th>0</th>\n",
       "      <td>423497</td>\n",
       "      <td>1</td>\n",
       "      <td>423511</td>\n",
       "      <td>0</td>\n",
       "      <td>2019-08-24 09:39:31</td>\n",
       "      <td>2</td>\n",
       "      <td>68</td>\n",
       "      <td>&lt;p&gt;From wikipedia &lt;a href=\"https://en.wikipedi...</td>\n",
       "      <td>64552</td>\n",
       "      <td>None</td>\n",
       "      <td>...</td>\n",
       "      <td>None</td>\n",
       "      <td>None</td>\n",
       "      <td>2019-08-24 11:38:54</td>\n",
       "      <td>When are biased estimators with lower MSE pref...</td>\n",
       "      <td>&lt;bias&gt;&lt;unbiased-estimator&gt;&lt;mse&gt;</td>\n",
       "      <td>1</td>\n",
       "      <td>0</td>\n",
       "      <td>1</td>\n",
       "      <td>2019-08-25 10:25:24</td>\n",
       "      <td>None</td>\n",
       "    </tr>\n",
       "    <tr>\n",
       "      <th>1</th>\n",
       "      <td>423498</td>\n",
       "      <td>1</td>\n",
       "      <td>0</td>\n",
       "      <td>0</td>\n",
       "      <td>2019-08-24 09:47:42</td>\n",
       "      <td>1</td>\n",
       "      <td>24</td>\n",
       "      <td>&lt;p&gt;I am currently doing local sensitivity anal...</td>\n",
       "      <td>87231</td>\n",
       "      <td>None</td>\n",
       "      <td>...</td>\n",
       "      <td>None</td>\n",
       "      <td>2019-09-06 12:52:32</td>\n",
       "      <td>2019-09-06 12:52:32</td>\n",
       "      <td>How to interpret the result from local sensiti...</td>\n",
       "      <td>&lt;sensitivity-analysis&gt;&lt;elasticity&gt;</td>\n",
       "      <td>1</td>\n",
       "      <td>0</td>\n",
       "      <td>0</td>\n",
       "      <td>None</td>\n",
       "      <td>None</td>\n",
       "    </tr>\n",
       "    <tr>\n",
       "      <th>2</th>\n",
       "      <td>423499</td>\n",
       "      <td>1</td>\n",
       "      <td>0</td>\n",
       "      <td>0</td>\n",
       "      <td>2019-08-24 09:48:26</td>\n",
       "      <td>1</td>\n",
       "      <td>56</td>\n",
       "      <td>&lt;p&gt;I'm an honours student in psychology doing ...</td>\n",
       "      <td>257207</td>\n",
       "      <td>None</td>\n",
       "      <td>...</td>\n",
       "      <td>None</td>\n",
       "      <td>None</td>\n",
       "      <td>2019-08-25 08:54:17</td>\n",
       "      <td>Power Analysis in G-Power - Mixed Model Anova</td>\n",
       "      <td>&lt;anova&gt;&lt;gpower&gt;</td>\n",
       "      <td>2</td>\n",
       "      <td>0</td>\n",
       "      <td>0</td>\n",
       "      <td>None</td>\n",
       "      <td>None</td>\n",
       "    </tr>\n",
       "    <tr>\n",
       "      <th>3</th>\n",
       "      <td>423500</td>\n",
       "      <td>2</td>\n",
       "      <td>0</td>\n",
       "      <td>215865</td>\n",
       "      <td>2019-08-24 09:57:01</td>\n",
       "      <td>0</td>\n",
       "      <td>0</td>\n",
       "      <td>&lt;p&gt;Maybe you can look this &lt;a href=\"https://me...</td>\n",
       "      <td>106606</td>\n",
       "      <td>None</td>\n",
       "      <td>...</td>\n",
       "      <td>None</td>\n",
       "      <td>None</td>\n",
       "      <td>2019-08-24 09:57:01</td>\n",
       "      <td>None</td>\n",
       "      <td>None</td>\n",
       "      <td>0</td>\n",
       "      <td>0</td>\n",
       "      <td>0</td>\n",
       "      <td>None</td>\n",
       "      <td>None</td>\n",
       "    </tr>\n",
       "    <tr>\n",
       "      <th>4</th>\n",
       "      <td>423502</td>\n",
       "      <td>2</td>\n",
       "      <td>0</td>\n",
       "      <td>423286</td>\n",
       "      <td>2019-08-24 10:44:52</td>\n",
       "      <td>3</td>\n",
       "      <td>0</td>\n",
       "      <td>&lt;blockquote&gt;\\n  &lt;p&gt;Q1) Is my approach valid?&lt;/...</td>\n",
       "      <td>220643</td>\n",
       "      <td>None</td>\n",
       "      <td>...</td>\n",
       "      <td>None</td>\n",
       "      <td>2019-08-24 12:13:46</td>\n",
       "      <td>2019-08-24 12:13:46</td>\n",
       "      <td>None</td>\n",
       "      <td>None</td>\n",
       "      <td>0</td>\n",
       "      <td>1</td>\n",
       "      <td>0</td>\n",
       "      <td>None</td>\n",
       "      <td>None</td>\n",
       "    </tr>\n",
       "  </tbody>\n",
       "</table>\n",
       "<p>5 rows × 21 columns</p>\n",
       "</div>"
      ],
      "text/plain": [
       "       Id  PostTypeId  AcceptedAnswerId  ParentId         CreationDate  Score  \\\n",
       "0  423497           1            423511         0  2019-08-24 09:39:31      2   \n",
       "1  423498           1                 0         0  2019-08-24 09:47:42      1   \n",
       "2  423499           1                 0         0  2019-08-24 09:48:26      1   \n",
       "3  423500           2                 0    215865  2019-08-24 09:57:01      0   \n",
       "4  423502           2                 0    423286  2019-08-24 10:44:52      3   \n",
       "\n",
       "   ViewCount                                               Body  OwnerUserId  \\\n",
       "0         68  <p>From wikipedia <a href=\"https://en.wikipedi...        64552   \n",
       "1         24  <p>I am currently doing local sensitivity anal...        87231   \n",
       "2         56  <p>I'm an honours student in psychology doing ...       257207   \n",
       "3          0  <p>Maybe you can look this <a href=\"https://me...       106606   \n",
       "4          0  <blockquote>\\n  <p>Q1) Is my approach valid?</...       220643   \n",
       "\n",
       "  OwnerDisplayName  ...  LastEditorDisplayName         LastEditDate  \\\n",
       "0             None  ...                   None                 None   \n",
       "1             None  ...                   None  2019-09-06 12:52:32   \n",
       "2             None  ...                   None                 None   \n",
       "3             None  ...                   None                 None   \n",
       "4             None  ...                   None  2019-08-24 12:13:46   \n",
       "\n",
       "      LastActivityDate                                              Title  \\\n",
       "0  2019-08-24 11:38:54  When are biased estimators with lower MSE pref...   \n",
       "1  2019-09-06 12:52:32  How to interpret the result from local sensiti...   \n",
       "2  2019-08-25 08:54:17      Power Analysis in G-Power - Mixed Model Anova   \n",
       "3  2019-08-24 09:57:01                                               None   \n",
       "4  2019-08-24 12:13:46                                               None   \n",
       "\n",
       "                                 Tags AnswerCount  CommentCount  \\\n",
       "0     <bias><unbiased-estimator><mse>           1             0   \n",
       "1  <sensitivity-analysis><elasticity>           1             0   \n",
       "2                     <anova><gpower>           2             0   \n",
       "3                                None           0             0   \n",
       "4                                None           0             1   \n",
       "\n",
       "   FavoriteCount           ClosedDate CommunityOwnedDate  \n",
       "0              1  2019-08-25 10:25:24               None  \n",
       "1              0                 None               None  \n",
       "2              0                 None               None  \n",
       "3              0                 None               None  \n",
       "4              0                 None               None  \n",
       "\n",
       "[5 rows x 21 columns]"
      ]
     },
     "execution_count": 19,
     "metadata": {},
     "output_type": "execute_result"
    }
   ],
   "source": [
    "posts.head()"
   ]
  },
  {
   "cell_type": "markdown",
   "metadata": {},
   "source": [
    "# Working with Sqlite and SQL Magic\n",
    "In this section let's spend a little time understanding a bit more about how we can work with Sqlite within Jupyter.\n",
    "\n",
    "Let's look at 2 ways to query the sqlite database: using SQL Magic or using Pandas.  Either way is fine for this project."
   ]
  },
  {
   "cell_type": "markdown",
   "metadata": {},
   "source": [
    "## Writing queries with SQL Magic\n",
    "\n",
    "You will now need to write some queries to get answers to the questions in the requirements.  \n",
    "\n",
    "For single-line queries, start the cell with `%sql` and simply enter your query:"
   ]
  },
  {
   "cell_type": "code",
   "execution_count": 20,
   "metadata": {},
   "outputs": [
    {
     "name": "stdout",
     "output_type": "stream",
     "text": [
      " * sqlite:///chatdata.db\n",
      "Done.\n"
     ]
    },
    {
     "data": {
      "text/html": [
       "<table>\n",
       "    <tr>\n",
       "        <th>COUNT(*)</th>\n",
       "    </tr>\n",
       "    <tr>\n",
       "        <td>50000</td>\n",
       "    </tr>\n",
       "</table>"
      ],
      "text/plain": [
       "[(50000,)]"
      ]
     },
     "execution_count": 20,
     "metadata": {},
     "output_type": "execute_result"
    }
   ],
   "source": [
    "# This is an example\n",
    "%sql SELECT COUNT(*) FROM comments"
   ]
  },
  {
   "cell_type": "markdown",
   "metadata": {},
   "source": [
    "For multi line sql statements use `%%sql` as follows. This tells Jupyter that *everything* in this cell should be interpreted as sql. So, NO comments other statements are allowed:"
   ]
  },
  {
   "cell_type": "code",
   "execution_count": 21,
   "metadata": {},
   "outputs": [
    {
     "name": "stdout",
     "output_type": "stream",
     "text": [
      " * sqlite:///chatdata.db\n",
      "Done.\n"
     ]
    },
    {
     "data": {
      "text/html": [
       "<table>\n",
       "    <tr>\n",
       "        <th>Id</th>\n",
       "        <th>PostId</th>\n",
       "        <th>Score</th>\n",
       "        <th>Text</th>\n",
       "    </tr>\n",
       "    <tr>\n",
       "        <td>723182</td>\n",
       "        <td>385124</td>\n",
       "        <td>0</td>\n",
       "        <td>@BenBolker I don&#x27;t understand. The fit cannot be done for the negative $y$. So intuitively I&#x27;d think that in order to retain the relativity of the data, one&#x27;d ideally &quot;mirror&quot; or &quot;flip&quot; it to the positive axis? Would it be possible to adjust every point individually? Basically e.g. take $abs(y_i)$ instead of minimums.</td>\n",
       "    </tr>\n",
       "    <tr>\n",
       "        <td>723183</td>\n",
       "        <td>385124</td>\n",
       "        <td>3</td>\n",
       "        <td>You can&#x27;t add *less* than (`-min(y)`), but you could add *more*. I&#x27;m going to stop answering now sorry, because **judging what the &#x27;best&#x27; approach is depends on much more context that we don&#x27;t have** (the goal of the analysis, why you need to fit an exponential, your level of computational and statistical sophistication and that of your audience, etc. ...)</td>\n",
       "    </tr>\n",
       "    <tr>\n",
       "        <td>723186</td>\n",
       "        <td>385137</td>\n",
       "        <td>0</td>\n",
       "        <td>nice. If you felt like doing the work it would be nice to generate an image/contour plot of log-likelihood as a function of (mu, theta) and show the lines corresponding to the two `size` values .</td>\n",
       "    </tr>\n",
       "    <tr>\n",
       "        <td>723187</td>\n",
       "        <td>385137</td>\n",
       "        <td>0</td>\n",
       "        <td>i.e. `emdbook::curve3d(-sum(dnbinom(y,mu=mu,size=size,log=TRUE)),<br>                 xlim=c(2,5),ylim=c(0.2,0.5),<br>                 varnames=c(&quot;mu&quot;,&quot;size&quot;),<br>                 sys3d=&quot;contour&quot;)<br>abline(h=3.2/7,col=&quot;red&quot;)<br>abline(h=fit.what$theta,col=&quot;blue&quot;)<br>` ... although doesn&#x27;t look this is actually the answer - mu-hat is independent of theta-hat ... ?</td>\n",
       "    </tr>\n",
       "    <tr>\n",
       "        <td>723188</td>\n",
       "        <td>385134</td>\n",
       "        <td>0</td>\n",
       "        <td>Don&#x27;t you mean &quot;so variance should be $\\sigma^2/(n\\mu^2)$&quot;</td>\n",
       "    </tr>\n",
       "</table>"
      ],
      "text/plain": [
       "[(723182, 385124, 0, '@BenBolker I don\\'t understand. The fit cannot be done for the negative $y$. So intuitively I\\'d think that in order to retain the relativity of the  ... (24 characters truncated) ... rror\" or \"flip\" it to the positive axis? Would it be possible to adjust every point individually? Basically e.g. take $abs(y_i)$ instead of minimums.'),\n",
       " (723183, 385124, 3, \"You can't add *less* than (`-min(y)`), but you could add *more*. I'm going to stop answering now sorry, because **judging what the 'best' approach is ... (60 characters truncated) ...  of the analysis, why you need to fit an exponential, your level of computational and statistical sophistication and that of your audience, etc. ...)\"),\n",
       " (723186, 385137, 0, 'nice. If you felt like doing the work it would be nice to generate an image/contour plot of log-likelihood as a function of (mu, theta) and show the lines corresponding to the two `size` values .'),\n",
       " (723187, 385137, 0, 'i.e. `emdbook::curve3d(-sum(dnbinom(y,mu=mu,size=size,log=TRUE)),\\n                 xlim=c(2,5),ylim=c(0.2,0.5),\\n                 varnames=c(\"mu\",\"s ... (57 characters truncated) ... ,col=\"red\")\\nabline(h=fit.what$theta,col=\"blue\")\\n` ... although doesn\\'t look this is actually the answer - mu-hat is independent of theta-hat ... ?'),\n",
       " (723188, 385134, 0, 'Don\\'t you mean \"so variance should be $\\\\sigma^2/(n\\\\mu^2)$\"')]"
      ]
     },
     "execution_count": 21,
     "metadata": {},
     "output_type": "execute_result"
    }
   ],
   "source": [
    "%%sql\n",
    "SELECT Id, PostId, Score, Text\n",
    "    FROM comments\n",
    "        LIMIT 5"
   ]
  },
  {
   "cell_type": "markdown",
   "metadata": {},
   "source": [
    "## Writing queries with Pandas\n",
    "Another way to write queries is to use pandas:"
   ]
  },
  {
   "cell_type": "code",
   "execution_count": 22,
   "metadata": {
    "scrolled": true
   },
   "outputs": [
    {
     "data": {
      "text/html": [
       "<div>\n",
       "<style scoped>\n",
       "    .dataframe tbody tr th:only-of-type {\n",
       "        vertical-align: middle;\n",
       "    }\n",
       "\n",
       "    .dataframe tbody tr th {\n",
       "        vertical-align: top;\n",
       "    }\n",
       "\n",
       "    .dataframe thead th {\n",
       "        text-align: right;\n",
       "    }\n",
       "</style>\n",
       "<table border=\"1\" class=\"dataframe\">\n",
       "  <thead>\n",
       "    <tr style=\"text-align: right;\">\n",
       "      <th></th>\n",
       "      <th>Id</th>\n",
       "      <th>PostId</th>\n",
       "      <th>Score</th>\n",
       "      <th>Text</th>\n",
       "    </tr>\n",
       "  </thead>\n",
       "  <tbody>\n",
       "    <tr>\n",
       "      <th>0</th>\n",
       "      <td>723182</td>\n",
       "      <td>385124</td>\n",
       "      <td>0</td>\n",
       "      <td>@BenBolker I don't understand. The fit cannot ...</td>\n",
       "    </tr>\n",
       "    <tr>\n",
       "      <th>1</th>\n",
       "      <td>723183</td>\n",
       "      <td>385124</td>\n",
       "      <td>3</td>\n",
       "      <td>You can't add *less* than (`-min(y)`), but you...</td>\n",
       "    </tr>\n",
       "    <tr>\n",
       "      <th>2</th>\n",
       "      <td>723186</td>\n",
       "      <td>385137</td>\n",
       "      <td>0</td>\n",
       "      <td>nice. If you felt like doing the work it would...</td>\n",
       "    </tr>\n",
       "    <tr>\n",
       "      <th>3</th>\n",
       "      <td>723187</td>\n",
       "      <td>385137</td>\n",
       "      <td>0</td>\n",
       "      <td>i.e. `emdbook::curve3d(-sum(dnbinom(y,mu=mu,si...</td>\n",
       "    </tr>\n",
       "    <tr>\n",
       "      <th>4</th>\n",
       "      <td>723188</td>\n",
       "      <td>385134</td>\n",
       "      <td>0</td>\n",
       "      <td>Don't you mean \"so variance should be $\\sigma^...</td>\n",
       "    </tr>\n",
       "  </tbody>\n",
       "</table>\n",
       "</div>"
      ],
      "text/plain": [
       "       Id  PostId  Score                                               Text\n",
       "0  723182  385124      0  @BenBolker I don't understand. The fit cannot ...\n",
       "1  723183  385124      3  You can't add *less* than (`-min(y)`), but you...\n",
       "2  723186  385137      0  nice. If you felt like doing the work it would...\n",
       "3  723187  385137      0  i.e. `emdbook::curve3d(-sum(dnbinom(y,mu=mu,si...\n",
       "4  723188  385134      0  Don't you mean \"so variance should be $\\sigma^..."
      ]
     },
     "execution_count": 22,
     "metadata": {},
     "output_type": "execute_result"
    }
   ],
   "source": [
    "sql = \"\"\"\n",
    "SELECT Id, PostId, Score, Text\n",
    "    FROM comments\n",
    "        LIMIT 5\n",
    "        \"\"\"\n",
    "result = pd.read_sql(sql, con)\n",
    "result"
   ]
  },
  {
   "cell_type": "markdown",
   "metadata": {},
   "source": [
    "# Creating Tables with Referential Integrity"
   ]
  },
  {
   "cell_type": "markdown",
   "metadata": {},
   "source": [
    "When we loaded the csv files into Sqlite database tables, Sqlite created the tables for us behind the scenes. Let's inspect this a bit more.\n",
    "\n",
    "We can see how Sqlite created the tables by querying the `sqlite_master` table, which Sqlite uses to keep track of what objects have been created in the database:"
   ]
  },
  {
   "cell_type": "code",
   "execution_count": 23,
   "metadata": {},
   "outputs": [
    {
     "name": "stdout",
     "output_type": "stream",
     "text": [
      " * sqlite:///chatdata.db\n",
      "Done.\n"
     ]
    },
    {
     "data": {
      "text/html": [
       "<table>\n",
       "    <tr>\n",
       "        <th>sql</th>\n",
       "    </tr>\n",
       "    <tr>\n",
       "        <td>CREATE TABLE &quot;comments&quot; (<br>&quot;Id&quot; INTEGER,<br>  &quot;PostId&quot; INTEGER,<br>  &quot;Score&quot; INTEGER,<br>  &quot;Text&quot; TEXT,<br>  &quot;CreationDate&quot; TEXT,<br>  &quot;UserId&quot; INTEGER<br>)</td>\n",
       "    </tr>\n",
       "    <tr>\n",
       "        <td>CREATE TABLE &quot;posts&quot; (<br>&quot;Id&quot; INTEGER,<br>  &quot;PostTypeId&quot; INTEGER,<br>  &quot;AcceptedAnswerId&quot; INTEGER,<br>  &quot;ParentId&quot; INTEGER,<br>  &quot;CreationDate&quot; TEXT,<br>  &quot;Score&quot; INTEGER,<br>  &quot;ViewCount&quot; INTEGER,<br>  &quot;Body&quot; TEXT,<br>  &quot;OwnerUserId&quot; INTEGER,<br>  &quot;OwnerDisplayName&quot; TEXT,<br>  &quot;LastEditorUserId&quot; INTEGER,<br>  &quot;LastEditorDisplayName&quot; TEXT,<br>  &quot;LastEditDate&quot; TEXT,<br>  &quot;LastActivityDate&quot; TEXT,<br>  &quot;Title&quot; TEXT,<br>  &quot;Tags&quot; TEXT,<br>  &quot;AnswerCount&quot; INTEGER,<br>  &quot;CommentCount&quot; INTEGER,<br>  &quot;FavoriteCount&quot; INTEGER,<br>  &quot;ClosedDate&quot; TEXT,<br>  &quot;CommunityOwnedDate&quot; TEXT<br>)</td>\n",
       "    </tr>\n",
       "    <tr>\n",
       "        <td>CREATE TABLE &quot;users&quot; (<br>&quot;Id&quot; INTEGER,<br>  &quot;Reputation&quot; INTEGER,<br>  &quot;CreationDate&quot; TEXT,<br>  &quot;DisplayName&quot; TEXT,<br>  &quot;LastAccessDate&quot; TEXT,<br>  &quot;WebsiteUrl&quot; TEXT,<br>  &quot;Location&quot; TEXT,<br>  &quot;AboutMe&quot; TEXT,<br>  &quot;Views&quot; INTEGER,<br>  &quot;UpVotes&quot; INTEGER,<br>  &quot;DownVotes&quot; INTEGER,<br>  &quot;ProfileImageUrl&quot; TEXT,<br>  &quot;AccountId&quot; INTEGER<br>)</td>\n",
       "    </tr>\n",
       "</table>"
      ],
      "text/plain": [
       "[('CREATE TABLE \"comments\" (\\n\"Id\" INTEGER,\\n  \"PostId\" INTEGER,\\n  \"Score\" INTEGER,\\n  \"Text\" TEXT,\\n  \"CreationDate\" TEXT,\\n  \"UserId\" INTEGER\\n)',),\n",
       " ('CREATE TABLE \"posts\" (\\n\"Id\" INTEGER,\\n  \"PostTypeId\" INTEGER,\\n  \"AcceptedAnswerId\" INTEGER,\\n  \"ParentId\" INTEGER,\\n  \"CreationDate\" TEXT,\\n  \"Scor ... (240 characters truncated) ...   \"Tags\" TEXT,\\n  \"AnswerCount\" INTEGER,\\n  \"CommentCount\" INTEGER,\\n  \"FavoriteCount\" INTEGER,\\n  \"ClosedDate\" TEXT,\\n  \"CommunityOwnedDate\" TEXT\\n)',),\n",
       " ('CREATE TABLE \"users\" (\\n\"Id\" INTEGER,\\n  \"Reputation\" INTEGER,\\n  \"CreationDate\" TEXT,\\n  \"DisplayName\" TEXT,\\n  \"LastAccessDate\" TEXT,\\n  \"WebsiteUr ... (17 characters truncated) ... tion\" TEXT,\\n  \"AboutMe\" TEXT,\\n  \"Views\" INTEGER,\\n  \"UpVotes\" INTEGER,\\n  \"DownVotes\" INTEGER,\\n  \"ProfileImageUrl\" TEXT,\\n  \"AccountId\" INTEGER\\n)',)]"
      ]
     },
     "execution_count": 23,
     "metadata": {},
     "output_type": "execute_result"
    }
   ],
   "source": [
    "%%sql\n",
    "select sql from sqlite_master"
   ]
  },
  {
   "cell_type": "markdown",
   "metadata": {},
   "source": [
    "The above results show the `CREATE TABLE` statements that could be used by Sqlite to recreate the tables with the exact same structure.\n",
    "\n",
    "The problem with the CREATE TABLE statements above is that they don't enforce **referential integrity**.  In other words, they don't ensure that every UserId and PostId in the comments table refers to an actual UserId and PostId in the users and posts tables.  At the moment. we can insert any old number here, and even have multiple users with the same Id!  One of the advantages of working with relational databases is that they can enforce the correct uniqueness and relationships in the data, but at the moment we are not using that feature.  So let's fix that...\n",
    "\n",
    "First, let's drop the original tables:\n"
   ]
  },
  {
   "cell_type": "code",
   "execution_count": 24,
   "metadata": {},
   "outputs": [
    {
     "name": "stdout",
     "output_type": "stream",
     "text": [
      " * sqlite:///chatdata.db\n",
      "Done.\n",
      "Done.\n",
      "Done.\n"
     ]
    },
    {
     "data": {
      "text/plain": [
       "[]"
      ]
     },
     "execution_count": 24,
     "metadata": {},
     "output_type": "execute_result"
    }
   ],
   "source": [
    "%%sql\n",
    "DROP TABLE comments;\n",
    "DROP TABLE users;\n",
    "DROP TABLE posts;"
   ]
  },
  {
   "cell_type": "markdown",
   "metadata": {},
   "source": [
    "Prove that this worked by selecting the names of the tables back.  We should have no tables:"
   ]
  },
  {
   "cell_type": "code",
   "execution_count": 25,
   "metadata": {},
   "outputs": [
    {
     "name": "stdout",
     "output_type": "stream",
     "text": [
      " * sqlite:///chatdata.db\n",
      "Done.\n"
     ]
    },
    {
     "data": {
      "text/html": [
       "<table>\n",
       "    <tr>\n",
       "        <th>name</th>\n",
       "    </tr>\n",
       "</table>"
      ],
      "text/plain": [
       "[]"
      ]
     },
     "execution_count": 25,
     "metadata": {},
     "output_type": "execute_result"
    }
   ],
   "source": [
    "%%sql\n",
    "SELECT name FROM sqlite_master WHERE type='table'\n",
    "    ORDER BY name"
   ]
  },
  {
   "cell_type": "markdown",
   "metadata": {},
   "source": [
    "In Sqlite we need to enable the enforcement of foreign key constraints:"
   ]
  },
  {
   "cell_type": "code",
   "execution_count": 26,
   "metadata": {},
   "outputs": [
    {
     "name": "stdout",
     "output_type": "stream",
     "text": [
      " * sqlite:///chatdata.db\n",
      "Done.\n"
     ]
    },
    {
     "data": {
      "text/plain": [
       "[]"
      ]
     },
     "execution_count": 26,
     "metadata": {},
     "output_type": "execute_result"
    }
   ],
   "source": [
    "%%sql\n",
    "PRAGMA foreign_keys=ON;"
   ]
  },
  {
   "cell_type": "markdown",
   "metadata": {},
   "source": [
    "Now recreate the users table with a **primary key constraint** by copying the CREATE TABLE statement from above and adding the NOT NULL PRIMARY KEY clause to the Id:"
   ]
  },
  {
   "cell_type": "code",
   "execution_count": 27,
   "metadata": {},
   "outputs": [
    {
     "name": "stdout",
     "output_type": "stream",
     "text": [
      " * sqlite:///chatdata.db\n",
      "Done.\n"
     ]
    },
    {
     "data": {
      "text/plain": [
       "[]"
      ]
     },
     "execution_count": 27,
     "metadata": {},
     "output_type": "execute_result"
    }
   ],
   "source": [
    "%%sql\n",
    "CREATE TABLE \"users\" (\n",
    "\"Id\" INTEGER NOT NULL PRIMARY KEY,\n",
    "\"Reputation\" INTEGER,\n",
    "\"CreationDate\" TEXT,\n",
    "\"DisplayName\" TEXT,\n",
    "\"LastAccessDate\" TEXT,\n",
    "\"WebsiteUrl\" TEXT,\n",
    "\"Location\" TEXT,\n",
    "\"AboutMe\" TEXT,\n",
    "\"Views\" INTEGER,\n",
    "\"UpVotes\" INTEGER,\n",
    "\"DownVotes\" INTEGER,\n",
    "\"ProfileImageUrl\" TEXT,\n",
    "\"AccountId\" INTEGER\n",
    ");\n"
   ]
  },
  {
   "cell_type": "markdown",
   "metadata": {},
   "source": [
    "Now do the same for the posts table:\n",
    "\n",
    "<div style=\"background-color:lemonchiffon; border:1px solid; padding:5px; margin:5px; font-weight:bold\"><font color=\"crimson\">\n",
    "TODO: Complete the following code cell\n",
    "    </font></div>"
   ]
  },
  {
   "cell_type": "code",
   "execution_count": 28,
   "metadata": {},
   "outputs": [
    {
     "name": "stdout",
     "output_type": "stream",
     "text": [
      " * sqlite:///chatdata.db\n",
      "Done.\n"
     ]
    },
    {
     "data": {
      "text/plain": [
       "[]"
      ]
     },
     "execution_count": 28,
     "metadata": {},
     "output_type": "execute_result"
    }
   ],
   "source": [
    "%%sql\n",
    "CREATE TABLE \"posts\" (\n",
    "\"Id\" INTEGER NOT NULL PRIMARY KEY,\n",
    "\"PostTypeId\" INTEGER,\n",
    "\"AcceptedAnswerId\" INTEGER,\n",
    "\"ParentId\" INTEGER,\n",
    "\"CreationDate\" TEXT,\n",
    "\"Score\" INTEGER,\n",
    "\"ViewCount\" INTEGER,\n",
    "\"Body\" TEXT,\n",
    "\"OwnerUserId\" INTEGER,\n",
    "\"OwnerDisplayName\" TEXT,\n",
    "\"LastEditorUserId\" INTEGER,\n",
    "\"LastEditorDisplayName\" TEXT,\n",
    "\"LastEditDate\" TEXT,\n",
    "\"LastActivityDate\" TEXT,\n",
    "\"Title\" TEXT,\n",
    "\"Tags\" TEXT,\n",
    "\"AnswerCount\" INTEGER,\n",
    "\"CommentCount\" INTEGER,\n",
    "\"FavoriteCount\" INTEGER,\n",
    "\"ClosedDate\" TEXT,\n",
    "\"CommunityOwnedDate\" TEXT\n",
    ");"
   ]
  },
  {
   "cell_type": "markdown",
   "metadata": {},
   "source": [
    "Now for the comments table.  We need to add the primary key constraint on the id here as we did for users and posts, but we also need to add FOREIGN KEY constraints on the UserId and PostId. Read the documentation here and find our how to do that: https://www.sqlite.org/foreignkeys.html.  Then create the comments table with the correct constraints:\n",
    "\n",
    "<div style=\"background-color:lemonchiffon; border:1px solid; padding:5px; margin:5px; font-weight:bold\"><font color=\"crimson\">\n",
    "TODO: Complete the following code cell\n",
    "    </font></div>"
   ]
  },
  {
   "cell_type": "code",
   "execution_count": 29,
   "metadata": {},
   "outputs": [
    {
     "name": "stdout",
     "output_type": "stream",
     "text": [
      " * sqlite:///chatdata.db\n",
      "Done.\n"
     ]
    },
    {
     "data": {
      "text/plain": [
       "[]"
      ]
     },
     "execution_count": 29,
     "metadata": {},
     "output_type": "execute_result"
    }
   ],
   "source": [
    "%%sql\n",
    "CREATE TABLE \"comments\" (\n",
    "\"Id\" INTEGER NOT NULL PRIMARY KEY,\n",
    "\"PostId\" INTEGER,\n",
    "\"Score\" INTEGER,\n",
    "\"Text\" TEXT,\n",
    "\"CreationDate\" TEXT,\n",
    "\"UserId\" INTEGER,\n",
    "FOREIGN KEY(\"UserId\") REFERENCES users(\"Id\")\n",
    "FOREIGN KEY(\"PostId\") REFERENCES posts(\"Id\")\n",
    ");"
   ]
  },
  {
   "cell_type": "markdown",
   "metadata": {},
   "source": [
    "Now we can re-insert the data into these constrained tables.  First users:"
   ]
  },
  {
   "cell_type": "code",
   "execution_count": 30,
   "metadata": {},
   "outputs": [
    {
     "data": {
      "text/plain": [
       "18412"
      ]
     },
     "execution_count": 30,
     "metadata": {},
     "output_type": "execute_result"
    }
   ],
   "source": [
    "# Insert data into the new users table\n",
    "users.to_sql('users', con, if_exists='append', index=False)"
   ]
  },
  {
   "cell_type": "markdown",
   "metadata": {},
   "source": [
    "Now posts:\n",
    "\n",
    "<div style=\"background-color:lemonchiffon; border:1px solid; padding:5px; margin:5px; font-weight:bold\"><font color=\"crimson\">\n",
    "TODO: Complete the following code cell\n",
    "    </font></div>"
   ]
  },
  {
   "cell_type": "code",
   "execution_count": 31,
   "metadata": {},
   "outputs": [
    {
     "data": {
      "text/plain": [
       "42234"
      ]
     },
     "execution_count": 31,
     "metadata": {},
     "output_type": "execute_result"
    }
   ],
   "source": [
    "# Insert data into the new posts table\n",
    "posts.to_sql('posts', con, if_exists='append', index=False)"
   ]
  },
  {
   "cell_type": "markdown",
   "metadata": {},
   "source": [
    "Finally comments, which references the users and posts tables:\n",
    "\n",
    "<div style=\"background-color:lemonchiffon; border:1px solid; padding:5px; margin:5px; font-weight:bold\"><font color=\"crimson\">\n",
    "TODO: Complete the following code cell\n",
    "    </font></div>"
   ]
  },
  {
   "cell_type": "code",
   "execution_count": 32,
   "metadata": {},
   "outputs": [
    {
     "data": {
      "text/plain": [
       "50000"
      ]
     },
     "execution_count": 32,
     "metadata": {},
     "output_type": "execute_result"
    }
   ],
   "source": [
    "# Insert data into the new comments table\n",
    "comments.to_sql('comments', con, if_exists='append', index=False)"
   ]
  },
  {
   "cell_type": "markdown",
   "metadata": {},
   "source": [
    "Now check that we have the 3 new table definitions in Sqlite:"
   ]
  },
  {
   "cell_type": "code",
   "execution_count": 33,
   "metadata": {},
   "outputs": [
    {
     "name": "stdout",
     "output_type": "stream",
     "text": [
      " * sqlite:///chatdata.db\n",
      "Done.\n"
     ]
    },
    {
     "data": {
      "text/html": [
       "<table>\n",
       "    <tr>\n",
       "        <th>name</th>\n",
       "    </tr>\n",
       "    <tr>\n",
       "        <td>comments</td>\n",
       "    </tr>\n",
       "    <tr>\n",
       "        <td>posts</td>\n",
       "    </tr>\n",
       "    <tr>\n",
       "        <td>users</td>\n",
       "    </tr>\n",
       "</table>"
      ],
      "text/plain": [
       "[('comments',), ('posts',), ('users',)]"
      ]
     },
     "execution_count": 33,
     "metadata": {},
     "output_type": "execute_result"
    }
   ],
   "source": [
    "%%sql\n",
    "SELECT name FROM sqlite_master WHERE type='table'\n",
    "    ORDER BY name"
   ]
  },
  {
   "cell_type": "markdown",
   "metadata": {},
   "source": [
    "We now have all the data in tables in Sqlite and the tables will enforce the referential integrity."
   ]
  },
  {
   "cell_type": "markdown",
   "metadata": {},
   "source": [
    "# Example Query and Pattern for Tasks 2 and 3\n",
    "\n",
    "As you work through the next tasks, you will need to:\n",
    "\n",
    "1. Prepare the Sqlite query to answer the question\n",
    "2. Test it\n",
    "3. Insert it into the `queries` table, so we have a record of it for others.\n",
    "\n",
    "This is the process that we want you to follow for this project while completing it. "
   ]
  },
  {
   "cell_type": "markdown",
   "metadata": {},
   "source": [
    "Let's see an example of this by answering the following question:\n",
    "\n",
    "**Which 5 users have viewed the most times and what is the sum of those views per user?**\n",
    "\n",
    "## Prepare the Sqlite query\n",
    "\n",
    "First, let's write the query:"
   ]
  },
  {
   "cell_type": "code",
   "execution_count": 34,
   "metadata": {},
   "outputs": [
    {
     "data": {
      "text/html": [
       "<div>\n",
       "<style scoped>\n",
       "    .dataframe tbody tr th:only-of-type {\n",
       "        vertical-align: middle;\n",
       "    }\n",
       "\n",
       "    .dataframe tbody tr th {\n",
       "        vertical-align: top;\n",
       "    }\n",
       "\n",
       "    .dataframe thead th {\n",
       "        text-align: right;\n",
       "    }\n",
       "</style>\n",
       "<table border=\"1\" class=\"dataframe\">\n",
       "  <thead>\n",
       "    <tr style=\"text-align: right;\">\n",
       "      <th></th>\n",
       "      <th>Id</th>\n",
       "      <th>TotalViews</th>\n",
       "    </tr>\n",
       "  </thead>\n",
       "  <tbody>\n",
       "    <tr>\n",
       "      <th>0</th>\n",
       "      <td>919</td>\n",
       "      <td>85180</td>\n",
       "    </tr>\n",
       "    <tr>\n",
       "      <th>1</th>\n",
       "      <td>4253</td>\n",
       "      <td>35119</td>\n",
       "    </tr>\n",
       "    <tr>\n",
       "      <th>2</th>\n",
       "      <td>805</td>\n",
       "      <td>34637</td>\n",
       "    </tr>\n",
       "    <tr>\n",
       "      <th>3</th>\n",
       "      <td>7290</td>\n",
       "      <td>32639</td>\n",
       "    </tr>\n",
       "    <tr>\n",
       "      <th>4</th>\n",
       "      <td>3277</td>\n",
       "      <td>29255</td>\n",
       "    </tr>\n",
       "  </tbody>\n",
       "</table>\n",
       "</div>"
      ],
      "text/plain": [
       "     Id  TotalViews\n",
       "0   919       85180\n",
       "1  4253       35119\n",
       "2   805       34637\n",
       "3  7290       32639\n",
       "4  3277       29255"
      ]
     },
     "execution_count": 34,
     "metadata": {},
     "output_type": "execute_result"
    }
   ],
   "source": [
    "sql = \"\"\"\n",
    "SELECT Id, SUM(Views) AS TotalViews\n",
    "    FROM Users\n",
    "        GROUP BY Id\n",
    "            ORDER BY TotalViews DESC\n",
    "                LIMIT 5\n",
    "                \"\"\"\n",
    "result = pd.read_sql(sql, con) # con is the connection to the database\n",
    "result"
   ]
  },
  {
   "cell_type": "markdown",
   "metadata": {},
   "source": [
    "## Test the query\n",
    "You can optionally prove the query worked by performing the same query in Pandas:"
   ]
  },
  {
   "cell_type": "code",
   "execution_count": 35,
   "metadata": {},
   "outputs": [
    {
     "data": {
      "text/plain": [
       "Id\n",
       "919     85180\n",
       "4253    35119\n",
       "805     34637\n",
       "7290    32639\n",
       "3277    29255\n",
       "Name: Views, dtype: int64"
      ]
     },
     "execution_count": 35,
     "metadata": {},
     "output_type": "execute_result"
    }
   ],
   "source": [
    "results = users.groupby(['Id']).sum().sort_values('Views', ascending = False)[:5]\n",
    "results['Views']"
   ]
  },
  {
   "cell_type": "markdown",
   "metadata": {},
   "source": [
    "## Insert the query into the `queries` table\n",
    "Now we need to put this query into the `queries` table in sqlite. Remember we want these queries to be accessible to everybody that should have access to them. We do not want people writing and rewriting the same queires over and over again. The easiest thing to do is create a dictionary with the values and insert these into the queries table.  Note that the values are provided as lists as we are inserting a list of values (i.e. a number of rows) into the table.  In this case the number of rows is 1, so we have lists of 1 item.\n",
    "\n",
    "So here, we have a column called 'task' with a list of values, a column called 'action' with a list of values, etc."
   ]
  },
  {
   "cell_type": "code",
   "execution_count": 36,
   "metadata": {},
   "outputs": [
    {
     "data": {
      "text/plain": [
       "{'task': ['Single Table Queries'],\n",
       " 'action': ['Which 5 users have viewed the most times and what is the sum of those views per user?'],\n",
       " 'query': ['\\nSELECT Id, SUM(Views) AS TotalViews\\n    FROM Users\\n        GROUP BY Id\\n            ORDER BY TotalViews DESC\\n                LIMIT 5\\n                ']}"
      ]
     },
     "execution_count": 36,
     "metadata": {},
     "output_type": "execute_result"
    }
   ],
   "source": [
    "query_dict = {\n",
    "              'task': ['Single Table Queries'],\n",
    "              'action': ['Which 5 users have viewed the most times and what is the sum of those views per user?'],\n",
    "              'query': [sql]\n",
    "             }\n",
    "query_dict"
   ]
  },
  {
   "cell_type": "markdown",
   "metadata": {},
   "source": [
    "Now that you have the data structure (query_dict) containing the data, create a pandas dataframe that holds those values:"
   ]
  },
  {
   "cell_type": "code",
   "execution_count": 37,
   "metadata": {},
   "outputs": [
    {
     "data": {
      "text/html": [
       "<div>\n",
       "<style scoped>\n",
       "    .dataframe tbody tr th:only-of-type {\n",
       "        vertical-align: middle;\n",
       "    }\n",
       "\n",
       "    .dataframe tbody tr th {\n",
       "        vertical-align: top;\n",
       "    }\n",
       "\n",
       "    .dataframe thead th {\n",
       "        text-align: right;\n",
       "    }\n",
       "</style>\n",
       "<table border=\"1\" class=\"dataframe\">\n",
       "  <thead>\n",
       "    <tr style=\"text-align: right;\">\n",
       "      <th></th>\n",
       "      <th>task</th>\n",
       "      <th>action</th>\n",
       "      <th>query</th>\n",
       "    </tr>\n",
       "  </thead>\n",
       "  <tbody>\n",
       "    <tr>\n",
       "      <th>0</th>\n",
       "      <td>Single Table Queries</td>\n",
       "      <td>Which 5 users have viewed the most times and w...</td>\n",
       "      <td>\\nSELECT Id, SUM(Views) AS TotalViews\\n    FRO...</td>\n",
       "    </tr>\n",
       "  </tbody>\n",
       "</table>\n",
       "</div>"
      ],
      "text/plain": [
       "                   task                                             action  \\\n",
       "0  Single Table Queries  Which 5 users have viewed the most times and w...   \n",
       "\n",
       "                                               query  \n",
       "0  \\nSELECT Id, SUM(Views) AS TotalViews\\n    FRO...  "
      ]
     },
     "execution_count": 37,
     "metadata": {},
     "output_type": "execute_result"
    }
   ],
   "source": [
    "queries = pd.DataFrame(query_dict)\n",
    "queries"
   ]
  },
  {
   "cell_type": "markdown",
   "metadata": {},
   "source": [
    "Now load that pandas dataframe (queries) into the sqlite table called queries. In this case, you use append NOT replace. You will be adding to this tables as you go thru this project."
   ]
  },
  {
   "cell_type": "code",
   "execution_count": 38,
   "metadata": {},
   "outputs": [
    {
     "data": {
      "text/html": [
       "<div>\n",
       "<style scoped>\n",
       "    .dataframe tbody tr th:only-of-type {\n",
       "        vertical-align: middle;\n",
       "    }\n",
       "\n",
       "    .dataframe tbody tr th {\n",
       "        vertical-align: top;\n",
       "    }\n",
       "\n",
       "    .dataframe thead th {\n",
       "        text-align: right;\n",
       "    }\n",
       "</style>\n",
       "<table border=\"1\" class=\"dataframe\">\n",
       "  <thead>\n",
       "    <tr style=\"text-align: right;\">\n",
       "      <th></th>\n",
       "      <th>task</th>\n",
       "      <th>action</th>\n",
       "      <th>query</th>\n",
       "    </tr>\n",
       "  </thead>\n",
       "  <tbody>\n",
       "    <tr>\n",
       "      <th>0</th>\n",
       "      <td>Single Table Queries</td>\n",
       "      <td>Which 5 users have viewed the most times and w...</td>\n",
       "      <td>\\nSELECT Id, SUM(Views) AS TotalViews\\n    FRO...</td>\n",
       "    </tr>\n",
       "  </tbody>\n",
       "</table>\n",
       "</div>"
      ],
      "text/plain": [
       "                   task                                             action  \\\n",
       "0  Single Table Queries  Which 5 users have viewed the most times and w...   \n",
       "\n",
       "                                               query  \n",
       "0  \\nSELECT Id, SUM(Views) AS TotalViews\\n    FRO...  "
      ]
     },
     "execution_count": 38,
     "metadata": {},
     "output_type": "execute_result"
    }
   ],
   "source": [
    "# load query into sqlite\n",
    "queries.to_sql('queries', con, if_exists='append', index=False)\n",
    "\n",
    "# read back in to prove that it worked\n",
    "sql = 'SELECT * FROM queries'\n",
    "queries = pd.read_sql(sql, con)\n",
    "queries.head()"
   ]
  },
  {
   "cell_type": "markdown",
   "metadata": {},
   "source": [
    "It is likely that as you iterate thru this notebook you will create some duplicate entries in the query table. Not a big deal. Just tell sql or pandas (much easier in pandas) to drop the duplicates! If you drop the duplicates in Pandas you will have to write the entire dataframe back to sqlite. Otherwise it is changed in memory in Pandas but NOT in sqlite on the disk drive (or SDD). Just do this drop at the end of this notebook so that you are not constantly dealing with this. "
   ]
  },
  {
   "cell_type": "markdown",
   "metadata": {},
   "source": [
    "So, to summarise, as you go through the following tasks you need to:\n",
    "\n",
    "- answer the question in sql\n",
    "- prove it in pandas (if you want to)\n",
    "- put the query into the queries table"
   ]
  },
  {
   "cell_type": "markdown",
   "metadata": {},
   "source": [
    "# Task 1 (continued): Insert the CREATE TABLE Statements into the `queries` Table\n",
    "\n",
    "Now that we understand how to populate the `queries` table, let's insert the CREATE TABLE statements into it.  First let's define a function to help us insert into the queries table:\n"
   ]
  },
  {
   "cell_type": "code",
   "execution_count": 39,
   "metadata": {},
   "outputs": [],
   "source": [
    "# Define a function that will insert into the queries table\n",
    "def store_query(task, action, query):\n",
    "    query_dict = {\n",
    "                  'task': [task],\n",
    "                  'action': [action],\n",
    "                  'query': [query]\n",
    "                 }\n",
    "\n",
    "    # put query into the query_dict\n",
    "    queries = pd.DataFrame(query_dict)\n",
    "\n",
    "    # load query into sqlite\n",
    "    queries.to_sql('queries', con, if_exists='append', index=False)    "
   ]
  },
  {
   "cell_type": "markdown",
   "metadata": {},
   "source": [
    "Now we can specify the queries and call the above function to store them.  The first one is done for you."
   ]
  },
  {
   "cell_type": "code",
   "execution_count": 40,
   "metadata": {},
   "outputs": [],
   "source": [
    "sql = \"\"\"\n",
    "    CREATE TABLE \"comments\" (\n",
    "    \"Id\" INTEGER,\n",
    "    \"PostId\" INTEGER,\n",
    "    \"Score\" INTEGER,\n",
    "    \"Text\" TEXT,\n",
    "    \"CreationDate\" TEXT,\n",
    "    \"UserId\" INTEGER\n",
    "    )\n",
    "    \"\"\"\n",
    "store_query(\"Task 1\", \"Create table comments\", sql)"
   ]
  },
  {
   "cell_type": "markdown",
   "metadata": {},
   "source": [
    "Let's prove it works by selecting back from the queries table:"
   ]
  },
  {
   "cell_type": "code",
   "execution_count": 41,
   "metadata": {},
   "outputs": [
    {
     "name": "stdout",
     "output_type": "stream",
     "text": [
      " * sqlite:///chatdata.db\n",
      "Done.\n"
     ]
    },
    {
     "data": {
      "text/html": [
       "<table>\n",
       "    <tr>\n",
       "        <th>task</th>\n",
       "        <th>action</th>\n",
       "        <th>query</th>\n",
       "    </tr>\n",
       "    <tr>\n",
       "        <td>Single Table Queries</td>\n",
       "        <td>Which 5 users have viewed the most times and what is the sum of those views per user?</td>\n",
       "        <td><br>SELECT Id, SUM(Views) AS TotalViews<br>    FROM Users<br>        GROUP BY Id<br>            ORDER BY TotalViews DESC<br>                LIMIT 5<br>                </td>\n",
       "    </tr>\n",
       "    <tr>\n",
       "        <td>Task 1</td>\n",
       "        <td>Create table comments</td>\n",
       "        <td><br>    CREATE TABLE &quot;comments&quot; (<br>    &quot;Id&quot; INTEGER,<br>    &quot;PostId&quot; INTEGER,<br>    &quot;Score&quot; INTEGER,<br>    &quot;Text&quot; TEXT,<br>    &quot;CreationDate&quot; TEXT,<br>    &quot;UserId&quot; INTEGER<br>    )<br>    </td>\n",
       "    </tr>\n",
       "</table>"
      ],
      "text/plain": [
       "[('Single Table Queries', 'Which 5 users have viewed the most times and what is the sum of those views per user?', '\\nSELECT Id, SUM(Views) AS TotalViews\\n    FROM Users\\n        GROUP BY Id\\n            ORDER BY TotalViews DESC\\n                LIMIT 5\\n                '),\n",
       " ('Task 1', 'Create table comments', '\\n    CREATE TABLE \"comments\" (\\n    \"Id\" INTEGER,\\n    \"PostId\" INTEGER,\\n    \"Score\" INTEGER,\\n    \"Text\" TEXT,\\n    \"CreationDate\" TEXT,\\n    \"UserId\" INTEGER\\n    )\\n    ')]"
      ]
     },
     "execution_count": 41,
     "metadata": {},
     "output_type": "execute_result"
    }
   ],
   "source": [
    "# Prove it works\n",
    "%sql SELECT * FROM queries"
   ]
  },
  {
   "cell_type": "markdown",
   "metadata": {},
   "source": [
    "## Insert the other CREATE TABLE statements into the `queries` table.\n",
    "Follow the above pattern to complete these code cells:\n",
    "\n",
    "<div style=\"background-color:lemonchiffon; border:1px solid; padding:5px; margin:5px; font-weight:bold\"><font color=\"crimson\">\n",
    "TODO: Complete the following code cells\n",
    "    </font></div>"
   ]
  },
  {
   "cell_type": "code",
   "execution_count": 42,
   "metadata": {},
   "outputs": [],
   "source": [
    "# Insert the CREATE TABLE for posts into the queries table\n",
    "sql = \"\"\"\n",
    "CREATE TABLE \"posts\" (\n",
    "\"Id\" INTEGER NOT NULL PRIMARY KEY,\n",
    "\"PostTypeId\" INTEGER,\n",
    "\"AcceptedAnswerId\" INTEGER,\n",
    "\"ParentId\" INTEGER,\n",
    "\"CreationDate\" TEXT,\n",
    "\"Score\" INTEGER,\n",
    "\"ViewCount\" INTEGER,\n",
    "\"Body\" TEXT,\n",
    "\"OwnerUserId\" INTEGER,\n",
    "\"OwnerDisplayName\" TEXT,\n",
    "\"LastEditorUserId\" INTEGER,\n",
    "\"LastEditorDisplayName\" TEXT,\n",
    "\"LastEditDate\" TEXT,\n",
    "\"LastActivityDate\" TEXT,\n",
    "\"Title\" TEXT,\n",
    "\"Tags\" TEXT,\n",
    "\"AnswerCount\" INTEGER,\n",
    "\"CommentCount\" INTEGER,\n",
    "\"FavoriteCount\" INTEGER,\n",
    "\"ClosedDate\" TEXT,\n",
    "\"CommunityOwnedDate\" TEXT\n",
    ");\n",
    "\"\"\"\n",
    "store_query(\"Task 1\", \"Create table posts\", sql)"
   ]
  },
  {
   "cell_type": "code",
   "execution_count": 43,
   "metadata": {},
   "outputs": [],
   "source": [
    "# Insert the CREATE TABLE for users into the queries table\n",
    "sql = \"\"\"\n",
    "CREATE TABLE \"users\" (\n",
    "\"Id\" INTEGER NOT NULL PRIMARY KEY,\n",
    "\"Reputation\" INTEGER,\n",
    "\"CreationDate\" TEXT,\n",
    "\"DisplayName\" TEXT,\n",
    "\"LastAccessDate\" TEXT,\n",
    "\"WebsiteUrl\" TEXT,\n",
    "\"Location\" TEXT,\n",
    "\"AboutMe\" TEXT,\n",
    "\"Views\" INTEGER,\n",
    "\"UpVotes\" INTEGER,\n",
    "\"DownVotes\" INTEGER,\n",
    "\"ProfileImageUrl\" TEXT,\n",
    "\"AccountId\" INTEGER\n",
    ");\n",
    "\"\"\"\n",
    "store_query(\"Task 1\", \"Create table users\", sql)"
   ]
  },
  {
   "cell_type": "markdown",
   "metadata": {},
   "source": [
    "## Count the Number of Rows in Each Table\n",
    "Run some queries to count the number of rows in each of the tables.  Don't forget to insert the query into the queries table.\n",
    "\n",
    "<div style=\"background-color:lemonchiffon; border:1px solid; padding:5px; margin:5px; font-weight:bold\"><font color=\"crimson\">\n",
    "TODO: Complete the following code cells\n",
    "    </font></div>"
   ]
  },
  {
   "cell_type": "code",
   "execution_count": 44,
   "metadata": {},
   "outputs": [
    {
     "name": "stdout",
     "output_type": "stream",
     "text": [
      " * sqlite:///chatdata.db\n",
      "Done.\n"
     ]
    },
    {
     "data": {
      "text/html": [
       "<table>\n",
       "    <tr>\n",
       "        <th>COUNT(*)</th>\n",
       "    </tr>\n",
       "    <tr>\n",
       "        <td>50000</td>\n",
       "    </tr>\n",
       "</table>"
      ],
      "text/plain": [
       "[(50000,)]"
      ]
     },
     "execution_count": 44,
     "metadata": {},
     "output_type": "execute_result"
    }
   ],
   "source": [
    "# Count the number of rows in the comments table\n",
    "%sql SELECT COUNT(*) FROM comments;"
   ]
  },
  {
   "cell_type": "code",
   "execution_count": 45,
   "metadata": {},
   "outputs": [],
   "source": [
    "sql = \"SELECT COUNT(*) FROM comments;\"\n",
    "store_query(\"Task 1\", \"Count rows in comments table\", sql)"
   ]
  },
  {
   "cell_type": "code",
   "execution_count": 46,
   "metadata": {},
   "outputs": [
    {
     "name": "stdout",
     "output_type": "stream",
     "text": [
      " * sqlite:///chatdata.db\n",
      "Done.\n"
     ]
    },
    {
     "data": {
      "text/html": [
       "<table>\n",
       "    <tr>\n",
       "        <th>COUNT(*)</th>\n",
       "    </tr>\n",
       "    <tr>\n",
       "        <td>18412</td>\n",
       "    </tr>\n",
       "</table>"
      ],
      "text/plain": [
       "[(18412,)]"
      ]
     },
     "execution_count": 46,
     "metadata": {},
     "output_type": "execute_result"
    }
   ],
   "source": [
    "# Count the number of rows in the users table\n",
    "%sql SELECT COUNT(*) FROM users;"
   ]
  },
  {
   "cell_type": "code",
   "execution_count": 47,
   "metadata": {},
   "outputs": [],
   "source": [
    "sql = \"SELECT COUNT(*) FROM users;\"\n",
    "store_query(\"Task 1\", \"Count rows in users table\", sql)"
   ]
  },
  {
   "cell_type": "code",
   "execution_count": 48,
   "metadata": {},
   "outputs": [
    {
     "name": "stdout",
     "output_type": "stream",
     "text": [
      " * sqlite:///chatdata.db\n",
      "Done.\n"
     ]
    },
    {
     "data": {
      "text/html": [
       "<table>\n",
       "    <tr>\n",
       "        <th>COUNT(*)</th>\n",
       "    </tr>\n",
       "    <tr>\n",
       "        <td>42234</td>\n",
       "    </tr>\n",
       "</table>"
      ],
      "text/plain": [
       "[(42234,)]"
      ]
     },
     "execution_count": 48,
     "metadata": {},
     "output_type": "execute_result"
    }
   ],
   "source": [
    "# Count the number of rows in the posts table\n",
    "%sql SELECT COUNT(*) FROM posts;"
   ]
  },
  {
   "cell_type": "code",
   "execution_count": 49,
   "metadata": {},
   "outputs": [],
   "source": [
    "sql = \"SELECT COUNT(*) FROM posts;\"\n",
    "store_query(\"Task 1\", \"Count rows in posts table\", sql)"
   ]
  },
  {
   "cell_type": "markdown",
   "metadata": {},
   "source": [
    "## Do some Random Checks on the Data\n",
    "Let's write some queries that select 5 random rows from each table.  The queries are provided here:\n",
    "\n",
    "    select * from Comments order by random() limit 5;\n",
    "    select * from Users order by random() limit 5;\n",
    "    select * from Posts order by random() limit 5;\n",
    "\n",
    "Enter the queries into the code cells below and insert the queries into the `queries` table in the same was as you did for the CREATE TABLE statements.\n",
    "\n",
    "<div style=\"background-color:lemonchiffon; border:1px solid; padding:5px; margin:5px; font-weight:bold\"><font color=\"crimson\">\n",
    "TODO: Complete the following code cells\n",
    "    </font></div>"
   ]
  },
  {
   "cell_type": "code",
   "execution_count": 50,
   "metadata": {},
   "outputs": [
    {
     "name": "stdout",
     "output_type": "stream",
     "text": [
      " * sqlite:///chatdata.db\n",
      "Done.\n"
     ]
    },
    {
     "data": {
      "text/html": [
       "<table>\n",
       "    <tr>\n",
       "        <th>Id</th>\n",
       "        <th>PostTypeId</th>\n",
       "        <th>AcceptedAnswerId</th>\n",
       "        <th>ParentId</th>\n",
       "        <th>CreationDate</th>\n",
       "        <th>Score</th>\n",
       "        <th>ViewCount</th>\n",
       "        <th>Body</th>\n",
       "        <th>OwnerUserId</th>\n",
       "        <th>OwnerDisplayName</th>\n",
       "        <th>LastEditorUserId</th>\n",
       "        <th>LastEditorDisplayName</th>\n",
       "        <th>LastEditDate</th>\n",
       "        <th>LastActivityDate</th>\n",
       "        <th>Title</th>\n",
       "        <th>Tags</th>\n",
       "        <th>AnswerCount</th>\n",
       "        <th>CommentCount</th>\n",
       "        <th>FavoriteCount</th>\n",
       "        <th>ClosedDate</th>\n",
       "        <th>CommunityOwnedDate</th>\n",
       "    </tr>\n",
       "    <tr>\n",
       "        <td>433038</td>\n",
       "        <td>1</td>\n",
       "        <td>0</td>\n",
       "        <td>0</td>\n",
       "        <td>2019-10-25 00:37:16</td>\n",
       "        <td>0</td>\n",
       "        <td>12</td>\n",
       "        <td>&lt;p&gt;Been reading Murphy and other books and trying to understand conditional independent statements of a graph: &lt;span class=&quot;math-container&quot;&gt;$I(G)$&lt;/span&gt;, or &lt;span class=&quot;math-container&quot;&gt;$CI(G)$&lt;/span&gt; depending on the reference.&lt;/p&gt;<br><br>&lt;p&gt;They mostly define a conditional independence statements as the set of statements that are true for a graph such that:&lt;/p&gt;<br><br>&lt;p&gt;&lt;span class=&quot;math-container&quot;&gt;$ x_a \\perp x_b| x_c$&lt;/span&gt; for the set of nodes &lt;span class=&quot;math-container&quot;&gt;$a$&lt;/span&gt;, &lt;span class=&quot;math-container&quot;&gt;$b$&lt;/span&gt;, and &lt;span class=&quot;math-container&quot;&gt;$c$&lt;/span&gt; in the graph&lt;/p&gt;<br><br>&lt;p&gt;I was wondering if the CI statements also include purely independent statements. I understand that a directed graphical model can have independent nodes when not conditioned on anything, and I was wondering if the CI statements also included these statements.&lt;/p&gt;<br><br>&lt;p&gt;Meaning, can &lt;span class=&quot;math-container&quot;&gt;$x_c \\equiv \\emptyset$&lt;/span&gt; (edit: Or would be &lt;span class=&quot;math-container&quot;&gt;$x_c \\equiv \\Omega$&lt;/span&gt; since you can&#x27;t condition on the empty set and get a non-zero measure)?&lt;/p&gt;<br><br>&lt;p&gt;Do the CI statements also include &lt;span class=&quot;math-container&quot;&gt;$x_a \\perp x_b$&lt;/span&gt;?&lt;/p&gt;<br><br>&lt;p&gt;Or do CI statements only include statements such that &lt;span class=&quot;math-container&quot;&gt;$x_c$&lt;/span&gt; cannot be empty?&lt;/p&gt;<br></td>\n",
       "        <td>234463</td>\n",
       "        <td>None</td>\n",
       "        <td>234463</td>\n",
       "        <td>None</td>\n",
       "        <td>2019-10-25 00:50:33</td>\n",
       "        <td>2019-10-25 00:50:33</td>\n",
       "        <td>Do Conditional Independence Statements in Probabilistic Graphical Models Include Independence Statements?</td>\n",
       "        <td>&lt;conditional-probability&gt;&lt;graphical-model&gt;</td>\n",
       "        <td>0</td>\n",
       "        <td>0</td>\n",
       "        <td>0</td>\n",
       "        <td>None</td>\n",
       "        <td>None</td>\n",
       "    </tr>\n",
       "    <tr>\n",
       "        <td>417075</td>\n",
       "        <td>2</td>\n",
       "        <td>0</td>\n",
       "        <td>417033</td>\n",
       "        <td>2019-07-12 03:43:06</td>\n",
       "        <td>1</td>\n",
       "        <td>0</td>\n",
       "        <td>&lt;p&gt;Your comment makes it sound like you will:&lt;/p&gt;<br><br>&lt;ul&gt;<br>&lt;li&gt;Model each category as binomial, and &lt;/li&gt;<br>&lt;li&gt;Construct confidence intervals for each category individually.&lt;/li&gt;<br>&lt;/ul&gt;<br><br>&lt;p&gt;In the case this &lt;em&gt;is&lt;/em&gt; what you plan to do, let me first say this is not appropriate.  This will create confidence hypercubes (?) which will be to liberal in their coverage (i.e. they will include parts of parameter space which they should not).&lt;/p&gt;<br><br>&lt;p&gt;In order to properly create confidence sets, you will need the covariance matrix for the proportions. Since the last frequency can be deduced from the first 3 (because they have to sum to 1, so knowing the first 3 determines the last), we can ignore it and just work with the first 3. For a quadrinomial distribution, the covariance matrix is for the first three frequencies is...&lt;/p&gt;<br><br>&lt;p&gt;&lt;span class=&quot;math-container&quot;&gt;$$\\mathbf{\\Sigma}(\\pi)=\\left[\\begin{array}{ccc}{\\pi_{1}\\left(1-\\pi_{1}\\right)} &amp;amp; {-\\pi_{1} \\pi_{2}} &amp;amp; {-\\pi_{1} \\pi_{3}} \\\\ {-\\pi_{1} \\pi_{2}} &amp;amp; {\\pi_{2}\\left(1-\\pi_{2}\\right)} &amp;amp; {-\\pi_{2} \\pi_{3}} \\\\ {-\\pi_{1} \\pi_{3}} &amp;amp; {-\\pi_{2} \\pi_{3}} &amp;amp; {\\pi_{3}\\left(1-\\pi_{3}\\right)}\\end{array}\\right]$$&lt;/span&gt;&lt;/p&gt;<br><br>&lt;p&gt;Let &lt;span class=&quot;math-container&quot;&gt;$\\hat{\\boldsymbol{\\pi}} = [\\hat{\\pi}_1, \\hat{\\pi}_2, \\hat{\\pi}_3]$&lt;/span&gt; be a vector of estimated category frequencies.  To determine if a proposed frequency vector, &lt;span class=&quot;math-container&quot;&gt;$\\boldsymbol{\\pi}_p$&lt;/span&gt; lies in your confidence region, compute&lt;/p&gt;<br><br>&lt;p&gt;&lt;span class=&quot;math-container&quot;&gt;$$S = N\\cdot(\\boldsymbol{\\pi}_p - \\hat{\\boldsymbol{\\pi}})^T \\Sigma^{-1}(\\hat{\\boldsymbol{\\pi}}) (\\boldsymbol{\\pi}_p - \\hat{\\boldsymbol{\\pi}})$$&lt;/span&gt;&lt;/p&gt;<br><br>&lt;p&gt;where &lt;span class=&quot;math-container&quot;&gt;$N$&lt;/span&gt; is the size of your sample.  If &lt;span class=&quot;math-container&quot;&gt;$S&amp;lt; 7.81 $&lt;/span&gt;, then the proposed vector of frequencies lies within the confidence region.  Else, it does not.  (At least, I think I did the math right here, its been a long time since I&#x27;ve done this sort of asymptotic work, so if someone could please correct me if needed). Here is some code to implement this in R.&lt;/p&gt;<br><br>&lt;pre&gt;&lt;code&gt;library(onehot)<br><br>#Random seed for reproducibility<br>set.seed(0)<br>#True frequencies<br>p = c(0.4, 0.3, 0.15, 0.15)<br>#Sample size<br>N = 100<br>#Draw samples<br>x = sample(1:4, N, replace = T, prob = p)<br>#Observed frequencies<br>pi_hat = as.numeric(table(x)/N)<br><br>#Construct the covariance matrix<br>d = data.frame(x = factor(x))<br>encoder = onehot(d)<br>Sigma = cov(predict(encoder,d))<br><br>#Only need the first 3<br>Sigma = Sigma[1:3, 1:3]<br>pi_hat = pi_hat[1:3]<br><br>#Does true frequency lie in region?<br>S = N*t(p[1:3] - pi_hat)%*%solve(Sigma) %*% (p[1:3] - pi_hat)<br><br>S &amp;lt; 7.81<br>#Yes, it does<br><br>#Does some outrageous proposed frequency lie in region?<br><br>outrageous = c(0.5, 0.5,0)<br>S = N*t(outrageous - pi_hat)%*%solve(Sigma) %*% (outrageous - pi_hat)<br>S&amp;lt;7.81<br><br>#No, it does not<br>&lt;/code&gt;&lt;/pre&gt;<br><br>&lt;p&gt;I&#x27;m not sure what you are using to compute the confidence regions, but if you are using R, there is likely a package to do this.  &lt;/p&gt;<br></td>\n",
       "        <td>111259</td>\n",
       "        <td>None</td>\n",
       "        <td>0</td>\n",
       "        <td>None</td>\n",
       "        <td>None</td>\n",
       "        <td>2019-07-12 03:43:06</td>\n",
       "        <td>None</td>\n",
       "        <td>None</td>\n",
       "        <td>0</td>\n",
       "        <td>2</td>\n",
       "        <td>0</td>\n",
       "        <td>None</td>\n",
       "        <td>None</td>\n",
       "    </tr>\n",
       "    <tr>\n",
       "        <td>405626</td>\n",
       "        <td>1</td>\n",
       "        <td>0</td>\n",
       "        <td>0</td>\n",
       "        <td>2019-04-29 10:23:27</td>\n",
       "        <td>0</td>\n",
       "        <td>56</td>\n",
       "        <td>&lt;p&gt;I am having some trouble interpreting my regression output. My model is LN of transaction volume = alpha + &lt;span class=&quot;math-container&quot;&gt;$\\beta_1$&lt;/span&gt;_RER + control variables<br>RER is defined as the change in the average exchange rate from one period (half year) to another. And it is expected to have an impact on the transaction volume.<br>Log-level : %Δy = (100*β1)Δx<br>The coefficient for RER is -12. In my opinion this means that :<br>- An increase of 1 unit in the exchange rate change (100 percentage points) would mean a 1200% drop in transaction volume<br>- An increase of 1p.p. in exchange rate change would mean a 15,98% decrease in transaction volume&lt;/p&gt;<br><br>&lt;p&gt;With standard deviation :&lt;/p&gt;<br><br>&lt;p&gt;STD : 0,0535&lt;/p&gt;<br><br>&lt;p&gt;0,0535 * -12 = 0.642&lt;/p&gt;<br><br>&lt;ul&gt;<br>&lt;li&gt;A one standard deviation increase in RER means a 64% drop in transaction volume<br>Is that correct?<br>I have just very confused because I am interpreting a change in a change and am unsure how to deal with the coefficient.&lt;/li&gt;<br>&lt;/ul&gt;<br></td>\n",
       "        <td>246321</td>\n",
       "        <td>None</td>\n",
       "        <td>128677</td>\n",
       "        <td>None</td>\n",
       "        <td>2019-04-29 14:33:41</td>\n",
       "        <td>2019-04-29 14:33:41</td>\n",
       "        <td>How to interpret coefficient when the dependent variable is a percentage change?</td>\n",
       "        <td>&lt;regression&gt;&lt;interpretation&gt;&lt;percentage&gt;&lt;log&gt;</td>\n",
       "        <td>0</td>\n",
       "        <td>2</td>\n",
       "        <td>0</td>\n",
       "        <td>None</td>\n",
       "        <td>None</td>\n",
       "    </tr>\n",
       "    <tr>\n",
       "        <td>410258</td>\n",
       "        <td>1</td>\n",
       "        <td>0</td>\n",
       "        <td>0</td>\n",
       "        <td>2019-05-27 09:17:16</td>\n",
       "        <td>0</td>\n",
       "        <td>16</td>\n",
       "        <td>&lt;p&gt;At the moment I want to perform a mediated regression analysis using PROCESS. My Independent value (IV), Dependent value (DV) and Mediator (M) are all numerical data. I analyze a simple mediation and use for this reason Model 4 of PROCESS.&lt;/p&gt;<br><br>&lt;p&gt;&lt;strong&gt;My problem is this:&lt;/strong&gt; I want to implement control variables in the regression. However, these control variables are categorical. For this reason I dummified them (k-1). To implement them in PROCESS I put them in the box &quot;Convariate&quot; (as my teacher told me).&lt;br&gt;<br>&lt;strong&gt;Problem:&lt;/strong&gt; I receive the following error in “analysis notes and errors”: “NOTE: Due to estimation problems, some bootstrap samples had to be replaced. The nummer of times this happend was 2797”. (Ik had een 5000 number of bootstrap samples aangevraagd).&lt;/p&gt;<br><br>&lt;p&gt;&lt;strong&gt;Questions:&lt;/strong&gt;&lt;/p&gt;<br><br>&lt;ul&gt;<br>&lt;li&gt;What does this mean exactly?&lt;/li&gt;<br>&lt;li&gt;How can I solve this?&lt;/li&gt;<br>&lt;li&gt;Am I doing it correctly? Hayes doest tell how to put dummies into IV or DV in process, but does not talk about the controle variables and how to put that in process.&lt;/li&gt;<br>&lt;/ul&gt;<br><br>&lt;p&gt;I hope you can help me.&lt;/p&gt;<br><br>&lt;p&gt;Kind regards,&lt;/p&gt;<br></td>\n",
       "        <td>249172</td>\n",
       "        <td>None</td>\n",
       "        <td>0</td>\n",
       "        <td>None</td>\n",
       "        <td>None</td>\n",
       "        <td>2019-05-27 09:17:16</td>\n",
       "        <td>Categorical control variables PROCESS</td>\n",
       "        <td>&lt;regression&gt;&lt;categorical-encoding&gt;</td>\n",
       "        <td>0</td>\n",
       "        <td>0</td>\n",
       "        <td>0</td>\n",
       "        <td>None</td>\n",
       "        <td>None</td>\n",
       "    </tr>\n",
       "    <tr>\n",
       "        <td>408395</td>\n",
       "        <td>2</td>\n",
       "        <td>0</td>\n",
       "        <td>408247</td>\n",
       "        <td>2019-05-14 23:00:35</td>\n",
       "        <td>1</td>\n",
       "        <td>0</td>\n",
       "        <td>&lt;p&gt;Here&#x27;s one way that the second condition could fail to hold.&lt;/p&gt;<br><br>&lt;p&gt;First, consider that &lt;span class=&quot;math-container&quot;&gt;$X&#x27;$&lt;/span&gt; is an instrument, that is, it is independent from the potential outcomes but causes selection into treatment, and, for simplicity, it is independent from &lt;span class=&quot;math-container&quot;&gt;$X$&lt;/span&gt;. It is not necessary to condition on &lt;span class=&quot;math-container&quot;&gt;$X&#x27;$&lt;/span&gt; to arrive at unconfoundedness, so whatever association &lt;span class=&quot;math-container&quot;&gt;$X&#x27;$&lt;/span&gt; has with &lt;span class=&quot;math-container&quot;&gt;$Z$&lt;/span&gt; will remain after conditioning on &lt;span class=&quot;math-container&quot;&gt;$X$&lt;/span&gt;. Because &lt;span class=&quot;math-container&quot;&gt;$X&#x27;$&lt;/span&gt; is unrelated to the potential outcomes given &lt;span class=&quot;math-container&quot;&gt;$X$&lt;/span&gt;, conditioning on the potential outcomes will not change the association between &lt;span class=&quot;math-container&quot;&gt;$X&#x27;$&lt;/span&gt; and &lt;span class=&quot;math-container&quot;&gt;$Z$&lt;/span&gt;, so they will not be conditionally independent.&lt;/p&gt;<br><br>&lt;p&gt;Consider the following example. &lt;span class=&quot;math-container&quot;&gt;$X&#x27;$&lt;/span&gt; is the order of one&#x27;s last name in the alphabet. &lt;span class=&quot;math-container&quot;&gt;$Z$&lt;/span&gt; is whether the patient gets the medicine or not; it is entirely dependent on whether one&#x27;s last name is near the beginning of the alphabet (i.e., on &lt;span class=&quot;math-container&quot;&gt;$X&#x27;$&lt;/span&gt;). &lt;span class=&quot;math-container&quot;&gt;$Y$&lt;/span&gt; is whether the patient survives or not. In this experiment, there is unconfoundedness already; &lt;span class=&quot;math-container&quot;&gt;$X$&lt;/span&gt; is empty. Let&#x27;s condition on &lt;span class=&quot;math-container&quot;&gt;$(Y(0), Y(1))$&lt;/span&gt; by considering one stratum: the doomed (people who will die no matter what; &lt;span class=&quot;math-container&quot;&gt;$Y(0)=Y(1)=0$&lt;/span&gt;. Among the doomed, there is still an association between a patient&#x27;s last name and whether the patient received treatment. This is true in all strata of the potential outcomes. Regardless of what variables you control for, there will always be an association between &lt;span class=&quot;math-container&quot;&gt;$X&#x27;$&lt;/span&gt; and &lt;span class=&quot;math-container&quot;&gt;$Z$&lt;/span&gt;.&lt;/p&gt;<br></td>\n",
       "        <td>116195</td>\n",
       "        <td>None</td>\n",
       "        <td>0</td>\n",
       "        <td>None</td>\n",
       "        <td>None</td>\n",
       "        <td>2019-05-14 23:00:35</td>\n",
       "        <td>None</td>\n",
       "        <td>None</td>\n",
       "        <td>0</td>\n",
       "        <td>0</td>\n",
       "        <td>0</td>\n",
       "        <td>None</td>\n",
       "        <td>None</td>\n",
       "    </tr>\n",
       "</table>"
      ],
      "text/plain": [
       "[(433038, 1, 0, 0, '2019-10-25 00:37:16', 0, 12, '<p>Been reading Murphy and other books and trying to understand conditional independent statements of a graph: <span class=\"math-container\">$I(G)$</s ... (1020 characters truncated) ...  \\\\perp x_b$</span>?</p>\\n\\n<p>Or do CI statements only include statements such that <span class=\"math-container\">$x_c$</span> cannot be empty?</p>\\n', 234463, None, 234463, None, '2019-10-25 00:50:33', '2019-10-25 00:50:33', 'Do Conditional Independence Statements in Probabilistic Graphical Models Include Independence Statements?', '<conditional-probability><graphical-model>', 0, 0, 0, None, None),\n",
       " (417075, 2, 0, 417033, '2019-07-12 03:43:06', 1, 0, '<p>Your comment makes it sound like you will:</p>\\n\\n<ul>\\n<li>Model each category as binomial, and </li>\\n<li>Construct confidence intervals for eac ... (2844 characters truncated) ... /pre>\\n\\n<p>I\\'m not sure what you are using to compute the confidence regions, but if you are using R, there is likely a package to do this.  </p>\\n', 111259, None, 0, None, None, '2019-07-12 03:43:06', None, None, 0, 2, 0, None, None),\n",
       " (405626, 1, 0, 0, '2019-04-29 10:23:27', 0, 56, '<p>I am having some trouble interpreting my regression output. My model is LN of transaction volume = alpha + <span class=\"math-container\">$\\\\beta_1$ ... (703 characters truncated) ... that correct?\\nI have just very confused because I am interpreting a change in a change and am unsure how to deal with the coefficient.</li>\\n</ul>\\n', 246321, None, 128677, None, '2019-04-29 14:33:41', '2019-04-29 14:33:41', 'How to interpret coefficient when the dependent variable is a percentage change?', '<regression><interpretation><percentage><log>', 0, 2, 0, None, None),\n",
       " (410258, 1, 0, 0, '2019-05-27 09:17:16', 0, 16, '<p>At the moment I want to perform a mediated regression analysis using PROCESS. My Independent value (IV), Dependent value (DV) and Mediator (M) are ... (865 characters truncated) ... ut does not talk about the controle variables and how to put that in process.</li>\\n</ul>\\n\\n<p>I hope you can help me.</p>\\n\\n<p>Kind regards,</p>\\n', 249172, None, 0, None, None, '2019-05-27 09:17:16', 'Categorical control variables PROCESS', '<regression><categorical-encoding>', 0, 0, 0, None, None),\n",
       " (408395, 2, 0, 408247, '2019-05-14 23:00:35', 1, 0, '<p>Here\\'s one way that the second condition could fail to hold.</p>\\n\\n<p>First, consider that <span class=\"math-container\">$X\\'$</span> is an instr ... (1793 characters truncated) ... control for, there will always be an association between <span class=\"math-container\">$X\\'$</span> and <span class=\"math-container\">$Z$</span>.</p>\\n', 116195, None, 0, None, None, '2019-05-14 23:00:35', None, None, 0, 0, 0, None, None)]"
      ]
     },
     "execution_count": 50,
     "metadata": {},
     "output_type": "execute_result"
    }
   ],
   "source": [
    "# Run the query to select 5 random rows from the posts table\n",
    "%sql select * from Posts order by random() limit 5;"
   ]
  },
  {
   "cell_type": "code",
   "execution_count": 51,
   "metadata": {},
   "outputs": [],
   "source": [
    "sql = \"select * from Posts order by random() limit 5;\"\n",
    "store_query(\"Task 1\", \"Select 5 random rows from posts table\", sql)"
   ]
  },
  {
   "cell_type": "code",
   "execution_count": 52,
   "metadata": {},
   "outputs": [
    {
     "name": "stdout",
     "output_type": "stream",
     "text": [
      " * sqlite:///chatdata.db\n",
      "Done.\n"
     ]
    },
    {
     "data": {
      "text/html": [
       "<table>\n",
       "    <tr>\n",
       "        <th>Id</th>\n",
       "        <th>PostId</th>\n",
       "        <th>Score</th>\n",
       "        <th>Text</th>\n",
       "        <th>CreationDate</th>\n",
       "        <th>UserId</th>\n",
       "    </tr>\n",
       "    <tr>\n",
       "        <td>725895</td>\n",
       "        <td>386541</td>\n",
       "        <td>0</td>\n",
       "        <td>Yes, but in a mixture model you will usually only observe the $x$s.  The rest are unobserved &quot;latent variables&quot; which are effectively parameter values that you infer via Bayes theorem.</td>\n",
       "        <td>2019-01-10 13:36:49</td>\n",
       "        <td>173082</td>\n",
       "    </tr>\n",
       "    <tr>\n",
       "        <td>750883</td>\n",
       "        <td>129954</td>\n",
       "        <td>0</td>\n",
       "        <td>When sample size&gt;5000, run `shapiro.test` in R will get error `sample size must be between 3 and 5000`.Then, what else test should be used?</td>\n",
       "        <td>2019-04-04 09:25:33</td>\n",
       "        <td>163314</td>\n",
       "    </tr>\n",
       "    <tr>\n",
       "        <td>742061</td>\n",
       "        <td>395611</td>\n",
       "        <td>1</td>\n",
       "        <td>Neighbors, not clusters.</td>\n",
       "        <td>2019-03-05 07:08:42</td>\n",
       "        <td>7828</td>\n",
       "    </tr>\n",
       "    <tr>\n",
       "        <td>741951</td>\n",
       "        <td>340799</td>\n",
       "        <td>0</td>\n",
       "        <td>try using Particle filter with Gaussian process measurement model. It should work fine.<br><br>Check my thesis. https://aaltodoc.aalto.fi/handle/123456789/35513</td>\n",
       "        <td>2019-03-04 19:46:39</td>\n",
       "        <td>92906</td>\n",
       "    </tr>\n",
       "    <tr>\n",
       "        <td>733307</td>\n",
       "        <td>390524</td>\n",
       "        <td>0</td>\n",
       "        <td>1. The negative binomial is discrete; if you were considering the normal, presumably your variable is continuous. $\\,$ 2.  How are you dealing with the fact that such times are often censored?</td>\n",
       "        <td>2019-02-03 05:35:03</td>\n",
       "        <td>805</td>\n",
       "    </tr>\n",
       "</table>"
      ],
      "text/plain": [
       "[(725895, 386541, 0, 'Yes, but in a mixture model you will usually only observe the $x$s.  The rest are unobserved \"latent variables\" which are effectively parameter values that you infer via Bayes theorem.', '2019-01-10 13:36:49', 173082),\n",
       " (750883, 129954, 0, 'When sample size>5000, run `shapiro.test` in R will get error `sample size must be between 3 and 5000`.Then, what else test should be used?', '2019-04-04 09:25:33', 163314),\n",
       " (742061, 395611, 1, 'Neighbors, not clusters.', '2019-03-05 07:08:42', 7828),\n",
       " (741951, 340799, 0, 'try using Particle filter with Gaussian process measurement model. It should work fine.\\n\\nCheck my thesis. https://aaltodoc.aalto.fi/handle/123456789/35513', '2019-03-04 19:46:39', 92906),\n",
       " (733307, 390524, 0, '1. The negative binomial is discrete; if you were considering the normal, presumably your variable is continuous. $\\\\,$ 2.  How are you dealing with the fact that such times are often censored?', '2019-02-03 05:35:03', 805)]"
      ]
     },
     "execution_count": 52,
     "metadata": {},
     "output_type": "execute_result"
    }
   ],
   "source": [
    "# Run the query to select 5 random rows from the comments table\n",
    "%sql select * from Comments order by random() limit 5;"
   ]
  },
  {
   "cell_type": "code",
   "execution_count": 53,
   "metadata": {},
   "outputs": [],
   "source": [
    "sql = \"select * from Comments order by random() limit 5;\"\n",
    "store_query(\"Task 1\", \"Select 5 random rows from comments table\", sql)"
   ]
  },
  {
   "cell_type": "code",
   "execution_count": 54,
   "metadata": {},
   "outputs": [
    {
     "name": "stdout",
     "output_type": "stream",
     "text": [
      " * sqlite:///chatdata.db\n",
      "Done.\n"
     ]
    },
    {
     "data": {
      "text/html": [
       "<table>\n",
       "    <tr>\n",
       "        <th>Id</th>\n",
       "        <th>Reputation</th>\n",
       "        <th>CreationDate</th>\n",
       "        <th>DisplayName</th>\n",
       "        <th>LastAccessDate</th>\n",
       "        <th>WebsiteUrl</th>\n",
       "        <th>Location</th>\n",
       "        <th>AboutMe</th>\n",
       "        <th>Views</th>\n",
       "        <th>UpVotes</th>\n",
       "        <th>DownVotes</th>\n",
       "        <th>ProfileImageUrl</th>\n",
       "        <th>AccountId</th>\n",
       "    </tr>\n",
       "    <tr>\n",
       "        <td>25741</td>\n",
       "        <td>1009</td>\n",
       "        <td>2013-05-16 17:24:21</td>\n",
       "        <td>Martin Thoma</td>\n",
       "        <td>2019-11-28 14:31:57</td>\n",
       "        <td>http://www.martin-thoma.de</td>\n",
       "        <td>München, Deutschland</td>\n",
       "        <td>&lt;p&gt;I also have a blog about &lt;a href=&quot;http://martin-thoma.com&quot; rel=&quot;nofollow noreferrer&quot;&gt;Code, the Web and Cyberculture&lt;/a&gt; and a &lt;a href=&quot;http://careers.stackoverflow.com/thoma&quot;&gt;career profile&lt;/a&gt; on Stackoverflow.&lt;/p&gt;<br><br>&lt;p&gt;My interests are mainly &lt;a href=&quot;/questions/tagged/machine-learning&quot; class=&quot;post-tag&quot; title=&quot;show questions tagged &amp;#39;machine-learning&amp;#39;&quot; rel=&quot;tag&quot;&gt;machine-learning&lt;/a&gt;, &lt;a href=&quot;/questions/tagged/neural-networks&quot; class=&quot;post-tag&quot; title=&quot;show questions tagged &amp;#39;neural-networks&amp;#39;&quot; rel=&quot;tag&quot;&gt;neural-networks&lt;/a&gt;, &lt;a href=&quot;/questions/tagged/data-analysis&quot; class=&quot;post-tag&quot; title=&quot;show questions tagged &amp;#39;data-analysis&amp;#39;&quot; rel=&quot;tag&quot;&gt;data-analysis&lt;/a&gt;.&lt;/p&gt;<br></td>\n",
       "        <td>401</td>\n",
       "        <td>44</td>\n",
       "        <td>7</td>\n",
       "        <td>None</td>\n",
       "        <td>271958</td>\n",
       "    </tr>\n",
       "    <tr>\n",
       "        <td>266944</td>\n",
       "        <td>121</td>\n",
       "        <td>2019-11-26 21:28:28</td>\n",
       "        <td>zim333311</td>\n",
       "        <td>2019-12-01 03:37:52</td>\n",
       "        <td>None</td>\n",
       "        <td>None</td>\n",
       "        <td>None</td>\n",
       "        <td>1</td>\n",
       "        <td>0</td>\n",
       "        <td>0</td>\n",
       "        <td>https://www.gravatar.com/avatar/698aed5d850937365af339fbcb9d06da?s=128&amp;d=identicon&amp;r=PG</td>\n",
       "        <td>412119</td>\n",
       "    </tr>\n",
       "    <tr>\n",
       "        <td>252316</td>\n",
       "        <td>103</td>\n",
       "        <td>2019-06-29 17:33:04</td>\n",
       "        <td>WolfgangP</td>\n",
       "        <td>2019-10-15 04:05:18</td>\n",
       "        <td>None</td>\n",
       "        <td>Boston, Massachusetts, USA</td>\n",
       "        <td>None</td>\n",
       "        <td>0</td>\n",
       "        <td>1</td>\n",
       "        <td>0</td>\n",
       "        <td>https://www.gravatar.com/avatar/75cd821af1d77539a3fe6e34cb2b45c9?s=128&amp;d=identicon&amp;r=PG</td>\n",
       "        <td>33697</td>\n",
       "    </tr>\n",
       "    <tr>\n",
       "        <td>262231</td>\n",
       "        <td>111</td>\n",
       "        <td>2019-10-10 10:59:12</td>\n",
       "        <td>Andreas T</td>\n",
       "        <td>2019-10-18 05:24:06</td>\n",
       "        <td>None</td>\n",
       "        <td>None</td>\n",
       "        <td>None</td>\n",
       "        <td>0</td>\n",
       "        <td>0</td>\n",
       "        <td>0</td>\n",
       "        <td>https://www.gravatar.com/avatar/69f90ea46a8896e7435cd259e018adb9?s=128&amp;d=identicon&amp;r=PG</td>\n",
       "        <td>1799456</td>\n",
       "    </tr>\n",
       "    <tr>\n",
       "        <td>603</td>\n",
       "        <td>20005</td>\n",
       "        <td>2010-07-29 15:38:09</td>\n",
       "        <td>user603</td>\n",
       "        <td>2019-11-30 21:02:46</td>\n",
       "        <td>https://www.researchgate.net/profile/Kaveh_Vakili/?ev=hdr_xprf</td>\n",
       "        <td>Leuven, Belgium</td>\n",
       "        <td>&lt;blockquote&gt;<br>  &lt;p&gt;[...] from this point of view, when you contemplate what to do about<br>  outliers, you’re like Marlow, in “Heart of Darkness,” when he is<br>  travelling up-river to find Kurtz. “Watching a coast as it slips by<br>  the ship,” Conrad writes,&lt;/p&gt;<br>  <br>  &lt;blockquote&gt;<br>    &lt;p&gt;is like thinking about an enigma. There it is before you—smiling,<br>    frowning, inviting, grand, mean, insipid, or savage, and always mute<br>    with an air of whispering, ‘Come and find out.’&lt;/p&gt;<br>  &lt;/blockquote&gt;<br>&lt;/blockquote&gt;<br></td>\n",
       "        <td>3166</td>\n",
       "        <td>1325</td>\n",
       "        <td>97</td>\n",
       "        <td>None</td>\n",
       "        <td>63945</td>\n",
       "    </tr>\n",
       "</table>"
      ],
      "text/plain": [
       "[(25741, 1009, '2013-05-16 17:24:21', 'Martin Thoma', '2019-11-28 14:31:57', 'http://www.martin-thoma.de', 'München, Deutschland', '<p>I also have a blog about <a href=\"http://martin-thoma.com\" rel=\"nofollow noreferrer\">Code, the Web and Cyberculture</a> and a <a href=\"http://care ... (397 characters truncated) ... , <a href=\"/questions/tagged/data-analysis\" class=\"post-tag\" title=\"show questions tagged &#39;data-analysis&#39;\" rel=\"tag\">data-analysis</a>.</p>\\n', 401, 44, 7, None, 271958),\n",
       " (266944, 121, '2019-11-26 21:28:28', 'zim333311', '2019-12-01 03:37:52', None, None, None, 1, 0, 0, 'https://www.gravatar.com/avatar/698aed5d850937365af339fbcb9d06da?s=128&d=identicon&r=PG', 412119),\n",
       " (252316, 103, '2019-06-29 17:33:04', 'WolfgangP', '2019-10-15 04:05:18', None, 'Boston, Massachusetts, USA', None, 0, 1, 0, 'https://www.gravatar.com/avatar/75cd821af1d77539a3fe6e34cb2b45c9?s=128&d=identicon&r=PG', 33697),\n",
       " (262231, 111, '2019-10-10 10:59:12', 'Andreas T', '2019-10-18 05:24:06', None, None, None, 0, 0, 0, 'https://www.gravatar.com/avatar/69f90ea46a8896e7435cd259e018adb9?s=128&d=identicon&r=PG', 1799456),\n",
       " (603, 20005, '2010-07-29 15:38:09', 'user603', '2019-11-30 21:02:46', 'https://www.researchgate.net/profile/Kaveh_Vakili/?ev=hdr_xprf', 'Leuven, Belgium', '<blockquote>\\n  <p>[...] from this point of view, when you contemplate what to do about\\n  outliers, you’re like Marlow, in “Heart of Darkness,” when ... (220 characters truncated) ... inviting, grand, mean, insipid, or savage, and always mute\\n    with an air of whispering, ‘Come and find out.’</p>\\n  </blockquote>\\n</blockquote>\\n', 3166, 1325, 97, None, 63945)]"
      ]
     },
     "execution_count": 54,
     "metadata": {},
     "output_type": "execute_result"
    }
   ],
   "source": [
    "# Run the query to select 5 random rows from the users table\n",
    "%sql select * from Users order by random() limit 5;"
   ]
  },
  {
   "cell_type": "code",
   "execution_count": 55,
   "metadata": {},
   "outputs": [],
   "source": [
    "sql = \"select * from Users order by random() limit 5;\"\n",
    "store_query(\"Task 1\", \"Select 5 random rows from users table\", sql)"
   ]
  },
  {
   "cell_type": "markdown",
   "metadata": {},
   "source": [
    "# Task 2: Create Single Table Queries\n"
   ]
  },
  {
   "cell_type": "markdown",
   "metadata": {},
   "source": [
    "## Lifecycle Stage: Analyze\n",
    "We can now start the analysis with our single-table queries.  First we need to create a new computed column to help with one of the queries.  The code below creates a column called LEN_BODY which is the length of the BODY text:\n"
   ]
  },
  {
   "cell_type": "code",
   "execution_count": 56,
   "metadata": {},
   "outputs": [
    {
     "name": "stdout",
     "output_type": "stream",
     "text": [
      " * sqlite:///chatdata.db\n",
      "Done.\n"
     ]
    },
    {
     "data": {
      "text/plain": [
       "[]"
      ]
     },
     "execution_count": 56,
     "metadata": {},
     "output_type": "execute_result"
    }
   ],
   "source": [
    "%%sql\n",
    "ALTER TABLE POSTS ADD COLUMN LEN_BODY INT"
   ]
  },
  {
   "cell_type": "code",
   "execution_count": 57,
   "metadata": {},
   "outputs": [
    {
     "name": "stdout",
     "output_type": "stream",
     "text": [
      " * sqlite:///chatdata.db\n",
      "42234 rows affected.\n"
     ]
    },
    {
     "data": {
      "text/plain": [
       "[]"
      ]
     },
     "execution_count": 57,
     "metadata": {},
     "output_type": "execute_result"
    }
   ],
   "source": [
    "%%sql\n",
    "UPDATE POSTS SET LEN_BODY = LENGTH(BODY)"
   ]
  },
  {
   "cell_type": "markdown",
   "metadata": {},
   "source": [
    "### Single Table Queries\n",
    "From the Template SQL Queries there are a series of queries requested. You are responsible for coding the result. Use the pattern above to accomplish the coding objective.  Copy and paste the question (column B Action) into a markdown cell and answer the query. Use the pattern that you have been using above. \n",
    "\n",
    "<div style=\"background-color:lemonchiffon; border:1px solid; padding:5px; margin:5px; font-weight:bold\"><font color=\"crimson\">\n",
    "TODO: Enter your code below.  Just keep on inserting cells as you need them.\n",
    "    </font></div>"
   ]
  },
  {
   "cell_type": "markdown",
   "metadata": {},
   "source": [
    "How many posts have 0 comments?"
   ]
  },
  {
   "cell_type": "code",
   "execution_count": 58,
   "metadata": {},
   "outputs": [
    {
     "name": "stdout",
     "output_type": "stream",
     "text": [
      " * sqlite:///chatdata.db\n",
      "Done.\n"
     ]
    },
    {
     "data": {
      "text/html": [
       "<table>\n",
       "    <tr>\n",
       "        <th>zero_comment_count</th>\n",
       "    </tr>\n",
       "    <tr>\n",
       "        <td>21713</td>\n",
       "    </tr>\n",
       "</table>"
      ],
      "text/plain": [
       "[(21713,)]"
      ]
     },
     "execution_count": 58,
     "metadata": {},
     "output_type": "execute_result"
    }
   ],
   "source": [
    "%%sql\n",
    "SELECT \n",
    "    COUNT(p.commentcount) AS zero_comment_count \n",
    "FROM \n",
    "    posts AS p \n",
    "WHERE \n",
    "    p.commentcount = 0;"
   ]
  },
  {
   "cell_type": "code",
   "execution_count": 59,
   "metadata": {},
   "outputs": [],
   "source": [
    "sql = \"\"\"SELECT \n",
    "    COUNT(p.commentcount) AS zero_comment_count \n",
    "FROM \n",
    "    posts AS p \n",
    "WHERE \n",
    "    p.commentcount = 0;\"\"\"\n",
    "store_query(\"Task 2\", \"How many posts have 0 comments?\", sql)"
   ]
  },
  {
   "cell_type": "markdown",
   "metadata": {},
   "source": [
    "How many posts have 1 comments?"
   ]
  },
  {
   "cell_type": "code",
   "execution_count": 60,
   "metadata": {},
   "outputs": [
    {
     "name": "stdout",
     "output_type": "stream",
     "text": [
      " * sqlite:///chatdata.db\n",
      "Done.\n"
     ]
    },
    {
     "data": {
      "text/html": [
       "<table>\n",
       "    <tr>\n",
       "        <th>one_comment_count</th>\n",
       "    </tr>\n",
       "    <tr>\n",
       "        <td>6460</td>\n",
       "    </tr>\n",
       "</table>"
      ],
      "text/plain": [
       "[(6460,)]"
      ]
     },
     "execution_count": 60,
     "metadata": {},
     "output_type": "execute_result"
    }
   ],
   "source": [
    "%%sql\n",
    "SELECT \n",
    "    COUNT(p.commentcount) AS one_comment_count \n",
    "FROM \n",
    "    posts AS p \n",
    "WHERE \n",
    "    p.commentcount = 1;"
   ]
  },
  {
   "cell_type": "code",
   "execution_count": 61,
   "metadata": {},
   "outputs": [],
   "source": [
    "sql = \"\"\"SELECT \n",
    "    COUNT(p.commentcount) AS one_comment_count \n",
    "FROM \n",
    "    posts AS p \n",
    "WHERE \n",
    "    p.commentcount = 1;\"\"\"\n",
    "store_query(\"Task 2\", \"How many posts have 1 comments?\", sql)"
   ]
  },
  {
   "cell_type": "markdown",
   "metadata": {},
   "source": [
    "How many posts have 2 comments or more?"
   ]
  },
  {
   "cell_type": "code",
   "execution_count": 62,
   "metadata": {},
   "outputs": [
    {
     "name": "stdout",
     "output_type": "stream",
     "text": [
      " * sqlite:///chatdata.db\n",
      "Done.\n"
     ]
    },
    {
     "data": {
      "text/html": [
       "<table>\n",
       "    <tr>\n",
       "        <th>two_plus_comments_count</th>\n",
       "    </tr>\n",
       "    <tr>\n",
       "        <td>14061</td>\n",
       "    </tr>\n",
       "</table>"
      ],
      "text/plain": [
       "[(14061,)]"
      ]
     },
     "execution_count": 62,
     "metadata": {},
     "output_type": "execute_result"
    }
   ],
   "source": [
    "%%sql\n",
    "SELECT \n",
    "    COUNT(commentcount) AS two_plus_comments_count \n",
    "FROM \n",
    "    posts AS p \n",
    "WHERE \n",
    "    p.commentcount >= 2;"
   ]
  },
  {
   "cell_type": "code",
   "execution_count": 63,
   "metadata": {},
   "outputs": [],
   "source": [
    "sql = \"\"\"SELECT \n",
    "    COUNT(commentcount) AS two_plus_comments_count \n",
    "FROM \n",
    "    posts AS p \n",
    "WHERE \n",
    "    p.commentcount >= 2;\"\"\"\n",
    "store_query(\"Task 2\", \"How many posts have 2 comments or more?\", sql)"
   ]
  },
  {
   "cell_type": "markdown",
   "metadata": {},
   "source": [
    "Find the 5 posts with the highest viewcount"
   ]
  },
  {
   "cell_type": "code",
   "execution_count": 64,
   "metadata": {},
   "outputs": [
    {
     "name": "stdout",
     "output_type": "stream",
     "text": [
      " * sqlite:///chatdata.db\n",
      "Done.\n"
     ]
    },
    {
     "data": {
      "text/html": [
       "<table>\n",
       "    <tr>\n",
       "        <th>Id</th>\n",
       "        <th>ViewCount</th>\n",
       "    </tr>\n",
       "    <tr>\n",
       "        <td>388566</td>\n",
       "        <td>19542</td>\n",
       "    </tr>\n",
       "    <tr>\n",
       "        <td>394118</td>\n",
       "        <td>16317</td>\n",
       "    </tr>\n",
       "    <tr>\n",
       "        <td>431370</td>\n",
       "        <td>11723</td>\n",
       "    </tr>\n",
       "    <tr>\n",
       "        <td>398646</td>\n",
       "        <td>9850</td>\n",
       "    </tr>\n",
       "    <tr>\n",
       "        <td>434128</td>\n",
       "        <td>6718</td>\n",
       "    </tr>\n",
       "</table>"
      ],
      "text/plain": [
       "[(388566, 19542),\n",
       " (394118, 16317),\n",
       " (431370, 11723),\n",
       " (398646, 9850),\n",
       " (434128, 6718)]"
      ]
     },
     "execution_count": 64,
     "metadata": {},
     "output_type": "execute_result"
    }
   ],
   "source": [
    "%%sql\n",
    "SELECT \n",
    "    p.id, \n",
    "    p.viewcount\n",
    "FROM \n",
    "    posts AS p \n",
    "ORDER BY \n",
    "    p.viewcount DESC \n",
    "LIMIT \n",
    "    5;"
   ]
  },
  {
   "cell_type": "code",
   "execution_count": 65,
   "metadata": {},
   "outputs": [],
   "source": [
    "sql = \"\"\"SELECT \n",
    "    p.id, \n",
    "    p.viewcount\n",
    "FROM \n",
    "    posts AS p \n",
    "ORDER BY \n",
    "    p.viewcount DESC \n",
    "LIMIT \n",
    "    5;\"\"\"\n",
    "store_query(\"Task 2\", \"Find the 5 posts with the highest viewcount\", sql)"
   ]
  },
  {
   "cell_type": "markdown",
   "metadata": {},
   "source": [
    "Find the top 5 posts with the highest scores"
   ]
  },
  {
   "cell_type": "code",
   "execution_count": 66,
   "metadata": {},
   "outputs": [
    {
     "name": "stdout",
     "output_type": "stream",
     "text": [
      " * sqlite:///chatdata.db\n",
      "Done.\n"
     ]
    },
    {
     "data": {
      "text/html": [
       "<table>\n",
       "    <tr>\n",
       "        <th>Id</th>\n",
       "        <th>Score</th>\n",
       "    </tr>\n",
       "    <tr>\n",
       "        <td>431397</td>\n",
       "        <td>101</td>\n",
       "    </tr>\n",
       "    <tr>\n",
       "        <td>394128</td>\n",
       "        <td>100</td>\n",
       "    </tr>\n",
       "    <tr>\n",
       "        <td>426878</td>\n",
       "        <td>93</td>\n",
       "    </tr>\n",
       "    <tr>\n",
       "        <td>388578</td>\n",
       "        <td>80</td>\n",
       "    </tr>\n",
       "    <tr>\n",
       "        <td>431370</td>\n",
       "        <td>77</td>\n",
       "    </tr>\n",
       "</table>"
      ],
      "text/plain": [
       "[(431397, 101), (394128, 100), (426878, 93), (388578, 80), (431370, 77)]"
      ]
     },
     "execution_count": 66,
     "metadata": {},
     "output_type": "execute_result"
    }
   ],
   "source": [
    "%%sql\n",
    "SELECT \n",
    "    p.id, \n",
    "    p.score \n",
    "FROM \n",
    "    posts AS p \n",
    "ORDER BY \n",
    "    p.score DESC \n",
    "LIMIT \n",
    "    5;"
   ]
  },
  {
   "cell_type": "code",
   "execution_count": 67,
   "metadata": {},
   "outputs": [],
   "source": [
    "sql = \"\"\"SELECT \n",
    "    p.id, \n",
    "    p.score \n",
    "FROM \n",
    "    posts AS p \n",
    "ORDER BY \n",
    "    p.score DESC \n",
    "LIMIT \n",
    "    5;\"\"\"\n",
    "store_query(\"Task 2\", \"Find the top 5 posts with the highest scores\", sql)"
   ]
  },
  {
   "cell_type": "markdown",
   "metadata": {},
   "source": [
    "What are the 5 most frequent scores on posts?"
   ]
  },
  {
   "cell_type": "code",
   "execution_count": 68,
   "metadata": {},
   "outputs": [
    {
     "name": "stdout",
     "output_type": "stream",
     "text": [
      " * sqlite:///chatdata.db\n",
      "Done.\n"
     ]
    },
    {
     "data": {
      "text/html": [
       "<table>\n",
       "    <tr>\n",
       "        <th>Score</th>\n",
       "        <th>score_count</th>\n",
       "    </tr>\n",
       "    <tr>\n",
       "        <td>0</td>\n",
       "        <td>19888</td>\n",
       "    </tr>\n",
       "    <tr>\n",
       "        <td>1</td>\n",
       "        <td>11867</td>\n",
       "    </tr>\n",
       "    <tr>\n",
       "        <td>2</td>\n",
       "        <td>5094</td>\n",
       "    </tr>\n",
       "    <tr>\n",
       "        <td>3</td>\n",
       "        <td>2228</td>\n",
       "    </tr>\n",
       "    <tr>\n",
       "        <td>4</td>\n",
       "        <td>1059</td>\n",
       "    </tr>\n",
       "</table>"
      ],
      "text/plain": [
       "[(0, 19888), (1, 11867), (2, 5094), (3, 2228), (4, 1059)]"
      ]
     },
     "execution_count": 68,
     "metadata": {},
     "output_type": "execute_result"
    }
   ],
   "source": [
    "%%sql\n",
    "SELECT \n",
    "    p.score, \n",
    "    COUNT(p.score) AS score_count \n",
    "FROM \n",
    "    posts AS p \n",
    "GROUP BY \n",
    "    p.score \n",
    "ORDER BY \n",
    "    COUNT(p.score) DESC \n",
    "LIMIT \n",
    "    5;"
   ]
  },
  {
   "cell_type": "code",
   "execution_count": 69,
   "metadata": {},
   "outputs": [],
   "source": [
    "sql = \"\"\"SELECT \n",
    "    p.score, \n",
    "    COUNT(p.score) AS score_count \n",
    "FROM \n",
    "    posts AS p \n",
    "GROUP BY \n",
    "    p.score \n",
    "ORDER BY \n",
    "    COUNT(p.score) DESC \n",
    "LIMIT \n",
    "    5;\"\"\"\n",
    "store_query(\"Task 2\", \"What are the 5 most frequent scores on posts?\", sql)"
   ]
  },
  {
   "cell_type": "markdown",
   "metadata": {},
   "source": [
    "How many posts have the keyword \"data\" in their tags?"
   ]
  },
  {
   "cell_type": "code",
   "execution_count": 70,
   "metadata": {},
   "outputs": [
    {
     "name": "stdout",
     "output_type": "stream",
     "text": [
      " * sqlite:///chatdata.db\n",
      "Done.\n"
     ]
    },
    {
     "data": {
      "text/html": [
       "<table>\n",
       "    <tr>\n",
       "        <th>tag_contains_data_keyword</th>\n",
       "    </tr>\n",
       "    <tr>\n",
       "        <td>2242</td>\n",
       "    </tr>\n",
       "</table>"
      ],
      "text/plain": [
       "[(2242,)]"
      ]
     },
     "execution_count": 70,
     "metadata": {},
     "output_type": "execute_result"
    }
   ],
   "source": [
    "%%sql\n",
    "SELECT \n",
    "    COUNT(tags) AS tag_contains_data_keyword \n",
    "FROM \n",
    "    posts AS p \n",
    "WHERE \n",
    "    lower(p.tags) LIKE \"%data%\";"
   ]
  },
  {
   "cell_type": "code",
   "execution_count": 71,
   "metadata": {},
   "outputs": [],
   "source": [
    "sql = \"\"\"SELECT \n",
    "    COUNT(tags) AS tag_contains_data_keyword \n",
    "FROM \n",
    "    posts AS p \n",
    "WHERE \n",
    "    lower(p.tags) LIKE \"%data%\";\"\"\"\n",
    "store_query(\"Task 2\", \"How many posts have the keyword data in their tags?\", sql)"
   ]
  },
  {
   "cell_type": "markdown",
   "metadata": {},
   "source": [
    "What are the 5 most frequent commentcount for posts?"
   ]
  },
  {
   "cell_type": "code",
   "execution_count": 72,
   "metadata": {},
   "outputs": [
    {
     "name": "stdout",
     "output_type": "stream",
     "text": [
      " * sqlite:///chatdata.db\n",
      "Done.\n"
     ]
    },
    {
     "data": {
      "text/html": [
       "<table>\n",
       "    <tr>\n",
       "        <th>CommentCount</th>\n",
       "        <th>commentcount_count</th>\n",
       "    </tr>\n",
       "    <tr>\n",
       "        <td>0</td>\n",
       "        <td>21713</td>\n",
       "    </tr>\n",
       "    <tr>\n",
       "        <td>1</td>\n",
       "        <td>6460</td>\n",
       "    </tr>\n",
       "    <tr>\n",
       "        <td>2</td>\n",
       "        <td>4966</td>\n",
       "    </tr>\n",
       "    <tr>\n",
       "        <td>3</td>\n",
       "        <td>3063</td>\n",
       "    </tr>\n",
       "    <tr>\n",
       "        <td>4</td>\n",
       "        <td>2026</td>\n",
       "    </tr>\n",
       "</table>"
      ],
      "text/plain": [
       "[(0, 21713), (1, 6460), (2, 4966), (3, 3063), (4, 2026)]"
      ]
     },
     "execution_count": 72,
     "metadata": {},
     "output_type": "execute_result"
    }
   ],
   "source": [
    "%%sql\n",
    "SELECT \n",
    "    p.commentcount, \n",
    "    COUNT(p.commentcount) AS commentcount_count \n",
    "FROM \n",
    "    posts AS p \n",
    "GROUP BY \n",
    "    p.commentcount \n",
    "ORDER BY \n",
    "    COUNT(p.commentcount) DESC \n",
    "LIMIT \n",
    "    5;"
   ]
  },
  {
   "cell_type": "code",
   "execution_count": 73,
   "metadata": {},
   "outputs": [],
   "source": [
    "sql = \"\"\"SELECT \n",
    "    p.commentcount, \n",
    "    COUNT(p.commentcount) AS commentcount_count \n",
    "FROM \n",
    "    posts AS p \n",
    "GROUP BY \n",
    "    p.commentcount \n",
    "ORDER BY \n",
    "    COUNT(p.commentcount) DESC \n",
    "LIMIT \n",
    "    5;\"\"\"\n",
    "store_query(\"Task 2\", \"What are the 5 most frequent commentcount for posts?\", sql)"
   ]
  },
  {
   "cell_type": "markdown",
   "metadata": {},
   "source": [
    "How many posts have an accepted answer?"
   ]
  },
  {
   "cell_type": "code",
   "execution_count": 74,
   "metadata": {},
   "outputs": [
    {
     "name": "stdout",
     "output_type": "stream",
     "text": [
      " * sqlite:///chatdata.db\n",
      "Done.\n"
     ]
    },
    {
     "data": {
      "text/html": [
       "<table>\n",
       "    <tr>\n",
       "        <th>accepted_answer_count</th>\n",
       "    </tr>\n",
       "    <tr>\n",
       "        <td>5341</td>\n",
       "    </tr>\n",
       "</table>"
      ],
      "text/plain": [
       "[(5341,)]"
      ]
     },
     "execution_count": 74,
     "metadata": {},
     "output_type": "execute_result"
    }
   ],
   "source": [
    "%%sql\n",
    "SELECT \n",
    "    COUNT(p.acceptedanswerid) AS accepted_answer_count \n",
    "FROM \n",
    "    posts AS p \n",
    "WHERE \n",
    "    p.acceptedanswerid != 0;"
   ]
  },
  {
   "cell_type": "code",
   "execution_count": 75,
   "metadata": {},
   "outputs": [],
   "source": [
    "sql = \"\"\"SELECT \n",
    "    COUNT(p.acceptedanswerid) AS accepted_answer_count \n",
    "FROM \n",
    "    posts AS p \n",
    "WHERE \n",
    "    p.acceptedanswerid != 0;\"\"\"\n",
    "store_query(\"Task 2\", \"How many posts have an accepted answer?\", sql)"
   ]
  },
  {
   "cell_type": "markdown",
   "metadata": {},
   "source": [
    "What is the average reputation of table users?"
   ]
  },
  {
   "cell_type": "code",
   "execution_count": 76,
   "metadata": {},
   "outputs": [
    {
     "name": "stdout",
     "output_type": "stream",
     "text": [
      " * sqlite:///chatdata.db\n",
      "Done.\n"
     ]
    },
    {
     "data": {
      "text/html": [
       "<table>\n",
       "    <tr>\n",
       "        <th>average_reputation</th>\n",
       "    </tr>\n",
       "    <tr>\n",
       "        <td>312.3509124484032</td>\n",
       "    </tr>\n",
       "</table>"
      ],
      "text/plain": [
       "[(312.3509124484032,)]"
      ]
     },
     "execution_count": 76,
     "metadata": {},
     "output_type": "execute_result"
    }
   ],
   "source": [
    "%%sql\n",
    "SELECT \n",
    "    AVG(u.reputation) AS average_reputation \n",
    "FROM \n",
    "    users AS u;"
   ]
  },
  {
   "cell_type": "code",
   "execution_count": 77,
   "metadata": {},
   "outputs": [],
   "source": [
    "sql = \"\"\"SELECT \n",
    "    AVG(u.reputation) AS average_reputation \n",
    "FROM \n",
    "    users AS u;\"\"\"\n",
    "store_query(\"Task 2\", \"What is the average reputation of table users?\", sql)"
   ]
  },
  {
   "cell_type": "markdown",
   "metadata": {},
   "source": [
    "What are the min and max reputation of users?"
   ]
  },
  {
   "cell_type": "code",
   "execution_count": 78,
   "metadata": {},
   "outputs": [
    {
     "name": "stdout",
     "output_type": "stream",
     "text": [
      " * sqlite:///chatdata.db\n",
      "Done.\n"
     ]
    },
    {
     "data": {
      "text/html": [
       "<table>\n",
       "    <tr>\n",
       "        <th>min_reputation</th>\n",
       "        <th>max_reputation</th>\n",
       "    </tr>\n",
       "    <tr>\n",
       "        <td>1</td>\n",
       "        <td>228662</td>\n",
       "    </tr>\n",
       "</table>"
      ],
      "text/plain": [
       "[(1, 228662)]"
      ]
     },
     "execution_count": 78,
     "metadata": {},
     "output_type": "execute_result"
    }
   ],
   "source": [
    "%%sql\n",
    "SELECT \n",
    "    MIN(u.reputation) AS min_reputation, \n",
    "    MAX(u.reputation) AS max_reputation \n",
    "FROM \n",
    "    users AS u;"
   ]
  },
  {
   "cell_type": "code",
   "execution_count": 79,
   "metadata": {},
   "outputs": [],
   "source": [
    "sql = \"\"\"SELECT \n",
    "    MIN(u.reputation) AS min_reputation, \n",
    "    MAX(u.reputation) AS max_reputation \n",
    "FROM \n",
    "    users AS u;\"\"\"\n",
    "store_query(\"Task 2\", \"What are the min and max reputation of users?\", sql)"
   ]
  },
  {
   "cell_type": "markdown",
   "metadata": {},
   "source": [
    "What is the length of the body of 5 most viewed posts?"
   ]
  },
  {
   "cell_type": "code",
   "execution_count": 80,
   "metadata": {},
   "outputs": [
    {
     "name": "stdout",
     "output_type": "stream",
     "text": [
      " * sqlite:///chatdata.db\n",
      "Done.\n"
     ]
    },
    {
     "data": {
      "text/html": [
       "<table>\n",
       "    <tr>\n",
       "        <th>LEN_BODY</th>\n",
       "        <th>ViewCount</th>\n",
       "    </tr>\n",
       "    <tr>\n",
       "        <td>2270</td>\n",
       "        <td>19542</td>\n",
       "    </tr>\n",
       "    <tr>\n",
       "        <td>512</td>\n",
       "        <td>16317</td>\n",
       "    </tr>\n",
       "    <tr>\n",
       "        <td>811</td>\n",
       "        <td>11723</td>\n",
       "    </tr>\n",
       "    <tr>\n",
       "        <td>2148</td>\n",
       "        <td>9850</td>\n",
       "    </tr>\n",
       "    <tr>\n",
       "        <td>1172</td>\n",
       "        <td>6718</td>\n",
       "    </tr>\n",
       "</table>"
      ],
      "text/plain": [
       "[(2270, 19542), (512, 16317), (811, 11723), (2148, 9850), (1172, 6718)]"
      ]
     },
     "execution_count": 80,
     "metadata": {},
     "output_type": "execute_result"
    }
   ],
   "source": [
    "%%sql\n",
    "SELECT \n",
    "    p.len_body, \n",
    "    p.viewcount \n",
    "FROM \n",
    "    posts AS p \n",
    "ORDER BY \n",
    "    p.viewcount DESC \n",
    "LIMIT \n",
    "    5;"
   ]
  },
  {
   "cell_type": "code",
   "execution_count": 81,
   "metadata": {},
   "outputs": [],
   "source": [
    "sql = \"\"\"SELECT \n",
    "    p.len_body, \n",
    "    p.viewcount \n",
    "FROM \n",
    "    posts AS p \n",
    "ORDER BY \n",
    "    p.viewcount DESC \n",
    "LIMIT \n",
    "    5;\"\"\"\n",
    "store_query(\"Task 2\", \"What is the length of the body of 5 most viewed posts?\", sql)"
   ]
  },
  {
   "cell_type": "markdown",
   "metadata": {},
   "source": [
    "How many different locations are there in the users table?"
   ]
  },
  {
   "cell_type": "code",
   "execution_count": 82,
   "metadata": {},
   "outputs": [
    {
     "name": "stdout",
     "output_type": "stream",
     "text": [
      " * sqlite:///chatdata.db\n",
      "Done.\n"
     ]
    },
    {
     "data": {
      "text/html": [
       "<table>\n",
       "    <tr>\n",
       "        <th>unique_locations</th>\n",
       "    </tr>\n",
       "    <tr>\n",
       "        <td>1900</td>\n",
       "    </tr>\n",
       "</table>"
      ],
      "text/plain": [
       "[(1900,)]"
      ]
     },
     "execution_count": 82,
     "metadata": {},
     "output_type": "execute_result"
    }
   ],
   "source": [
    "%%sql\n",
    "SELECT \n",
    "    COUNT(DISTINCT u.location) AS unique_locations \n",
    "FROM \n",
    "    users AS u;"
   ]
  },
  {
   "cell_type": "code",
   "execution_count": 83,
   "metadata": {},
   "outputs": [],
   "source": [
    "sql = \"\"\"SELECT \n",
    "    COUNT(DISTINCT u.location) AS unique_locations \n",
    "FROM \n",
    "    users AS u;\"\"\"\n",
    "store_query(\"Task 2\", \"How many different locations are there in the users table?\", sql)"
   ]
  },
  {
   "cell_type": "markdown",
   "metadata": {},
   "source": [
    "What are the top 5 locations of users?"
   ]
  },
  {
   "cell_type": "code",
   "execution_count": 84,
   "metadata": {},
   "outputs": [
    {
     "name": "stdout",
     "output_type": "stream",
     "text": [
      " * sqlite:///chatdata.db\n",
      "Done.\n"
     ]
    },
    {
     "data": {
      "text/html": [
       "<table>\n",
       "    <tr>\n",
       "        <th>location</th>\n",
       "        <th>location_count</th>\n",
       "    </tr>\n",
       "    <tr>\n",
       "        <td>Germany</td>\n",
       "        <td>117</td>\n",
       "    </tr>\n",
       "    <tr>\n",
       "        <td>India</td>\n",
       "        <td>100</td>\n",
       "    </tr>\n",
       "    <tr>\n",
       "        <td>United States</td>\n",
       "        <td>69</td>\n",
       "    </tr>\n",
       "    <tr>\n",
       "        <td>Paris, France</td>\n",
       "        <td>66</td>\n",
       "    </tr>\n",
       "    <tr>\n",
       "        <td>London, United Kingdom</td>\n",
       "        <td>63</td>\n",
       "    </tr>\n",
       "</table>"
      ],
      "text/plain": [
       "[('Germany', 117),\n",
       " ('India', 100),\n",
       " ('United States', 69),\n",
       " ('Paris, France', 66),\n",
       " ('London, United Kingdom', 63)]"
      ]
     },
     "execution_count": 84,
     "metadata": {},
     "output_type": "execute_result"
    }
   ],
   "source": [
    "%%sql\n",
    "SELECT \n",
    "    u.location AS location, \n",
    "    COUNT(u.location) AS location_count \n",
    "FROM \n",
    "    users AS u \n",
    "GROUP BY \n",
    "    u.location \n",
    "ORDER BY \n",
    "    COUNT(u.location) DESC \n",
    "LIMIT \n",
    "    5;"
   ]
  },
  {
   "cell_type": "code",
   "execution_count": 85,
   "metadata": {},
   "outputs": [],
   "source": [
    "sql = \"\"\"SELECT \n",
    "    u.location AS location, \n",
    "    COUNT(u.location) AS location_count \n",
    "FROM \n",
    "    users AS u \n",
    "GROUP BY \n",
    "    u.location \n",
    "ORDER BY \n",
    "    COUNT(u.location) DESC \n",
    "LIMIT \n",
    "    5;\"\"\"\n",
    "store_query(\"Task 2\", \"What are the top 5 locations of users?\", sql)"
   ]
  },
  {
   "cell_type": "markdown",
   "metadata": {},
   "source": [
    "Rank the days of the week from highest to lowest in terms of the volume of ViewCount as a percentage."
   ]
  },
  {
   "cell_type": "code",
   "execution_count": 86,
   "metadata": {},
   "outputs": [
    {
     "name": "stdout",
     "output_type": "stream",
     "text": [
      " * sqlite:///chatdata.db\n",
      "Done.\n"
     ]
    },
    {
     "data": {
      "text/html": [
       "<table>\n",
       "    <tr>\n",
       "        <th>day_as_integer</th>\n",
       "        <th>day</th>\n",
       "        <th>percentage_viewcount</th>\n",
       "    </tr>\n",
       "    <tr>\n",
       "        <td>4</td>\n",
       "        <td>Thursday</td>\n",
       "        <td>16.82</td>\n",
       "    </tr>\n",
       "    <tr>\n",
       "        <td>3</td>\n",
       "        <td>Wednesday</td>\n",
       "        <td>16.77</td>\n",
       "    </tr>\n",
       "    <tr>\n",
       "        <td>2</td>\n",
       "        <td>Tuesday</td>\n",
       "        <td>16.26</td>\n",
       "    </tr>\n",
       "    <tr>\n",
       "        <td>1</td>\n",
       "        <td>Monday</td>\n",
       "        <td>15.81</td>\n",
       "    </tr>\n",
       "    <tr>\n",
       "        <td>5</td>\n",
       "        <td>Friday</td>\n",
       "        <td>13.56</td>\n",
       "    </tr>\n",
       "    <tr>\n",
       "        <td>0</td>\n",
       "        <td>Sunday</td>\n",
       "        <td>11.9</td>\n",
       "    </tr>\n",
       "    <tr>\n",
       "        <td>6</td>\n",
       "        <td>Saturday</td>\n",
       "        <td>8.89</td>\n",
       "    </tr>\n",
       "</table>"
      ],
      "text/plain": [
       "[(4, 'Thursday', 16.82),\n",
       " (3, 'Wednesday', 16.77),\n",
       " (2, 'Tuesday', 16.26),\n",
       " (1, 'Monday', 15.81),\n",
       " (5, 'Friday', 13.56),\n",
       " (0, 'Sunday', 11.9),\n",
       " (6, 'Saturday', 8.89)]"
      ]
     },
     "execution_count": 86,
     "metadata": {},
     "output_type": "execute_result"
    }
   ],
   "source": [
    "%%sql\n",
    "SELECT \n",
    "    CAST (strftime('%w', p.creationdate) AS INTEGER) AS day_as_integer,\n",
    "    case cast (strftime('%w', p.creationdate) as integer)\n",
    "      when 0 then 'Sunday'\n",
    "      when 1 then 'Monday'\n",
    "      when 2 then 'Tuesday'\n",
    "      when 3 then 'Wednesday'\n",
    "      when 4 then 'Thursday'\n",
    "      when 5 then 'Friday'\n",
    "      else 'Saturday' end as day,\n",
    "    (ROUND(SUM(p.viewcount) * 100.0 / (SELECT SUM(viewcount) FROM posts),2)) AS percentage_viewcount\n",
    "FROM \n",
    "    posts AS p \n",
    "GROUP BY \n",
    "    day_as_integer\n",
    "ORDER BY \n",
    "    percentage_viewcount DESC;"
   ]
  },
  {
   "cell_type": "code",
   "execution_count": 87,
   "metadata": {},
   "outputs": [],
   "source": [
    "sql = \"\"\"SELECT \n",
    "    CAST (strftime('%w', p.creationdate) AS INTEGER) AS day_as_integer,\n",
    "    case cast (strftime('%w', p.creationdate) as integer)\n",
    "      when 0 then 'Sunday'\n",
    "      when 1 then 'Monday'\n",
    "      when 2 then 'Tuesday'\n",
    "      when 3 then 'Wednesday'\n",
    "      when 4 then 'Thursday'\n",
    "      when 5 then 'Friday'\n",
    "      else 'Saturday' end as day,\n",
    "    (ROUND(SUM(p.viewcount) * 100.0 / (SELECT SUM(viewcount) FROM posts),2)) AS percentage_viewcount\n",
    "FROM \n",
    "    posts AS p \n",
    "GROUP BY \n",
    "    day_as_integer\n",
    "ORDER BY \n",
    "    percentage_viewcount DESC;\"\"\"\n",
    "store_query(\"Task 2\", \"Rank the days of the week from highest to lowest in terms of the volume of ViewCount as a percentage.\", sql)"
   ]
  },
  {
   "cell_type": "markdown",
   "metadata": {},
   "source": [
    "# Task 3: Cross Table Queries"
   ]
  },
  {
   "cell_type": "markdown",
   "metadata": {},
   "source": [
    "## Lifecycle Stage: Analyze\n",
    "Let's continue the analysis with our multi-table queries.  "
   ]
  },
  {
   "cell_type": "markdown",
   "metadata": {},
   "source": [
    "### Cross Table Queries\n",
    "\n",
    "From the Template SQL Queries there are a series of queries requested. You are responsible for coding the result. Use the pattern above to accomplish the coding objective.  Copy and paste the question (column B Action) into a markdown cell and answer the query. Use the pattern that you have been using above. \n",
    "\n",
    "<div style=\"background-color:lemonchiffon; border:1px solid; padding:5px; margin:5px; font-weight:bold\"><font color=\"crimson\">\n",
    "TODO: Enter your code below.  Just keep on inserting cells as you need them.\n",
    "    </font></div>\n",
    "\n"
   ]
  },
  {
   "cell_type": "markdown",
   "metadata": {},
   "source": [
    "How many posts have been created by a user that has a filled out the \"AboutMe\" section?"
   ]
  },
  {
   "cell_type": "code",
   "execution_count": 88,
   "metadata": {},
   "outputs": [
    {
     "name": "stdout",
     "output_type": "stream",
     "text": [
      " * sqlite:///chatdata.db\n",
      "Done.\n"
     ]
    },
    {
     "data": {
      "text/html": [
       "<table>\n",
       "    <tr>\n",
       "        <th>COUNT(*)</th>\n",
       "    </tr>\n",
       "    <tr>\n",
       "        <td>17189</td>\n",
       "    </tr>\n",
       "</table>"
      ],
      "text/plain": [
       "[(17189,)]"
      ]
     },
     "execution_count": 88,
     "metadata": {},
     "output_type": "execute_result"
    }
   ],
   "source": [
    "%%sql\n",
    "SELECT \n",
    "    COUNT(*) \n",
    "FROM \n",
    "    posts AS p \n",
    "JOIN \n",
    "    users AS u \n",
    "    ON \n",
    "    p.owneruserid = u.id \n",
    "WHERE \n",
    "    u.aboutme != '';"
   ]
  },
  {
   "cell_type": "code",
   "execution_count": 89,
   "metadata": {},
   "outputs": [],
   "source": [
    "sql = \"\"\"SELECT \n",
    "    COUNT(*) \n",
    "FROM \n",
    "    posts AS p \n",
    "JOIN \n",
    "    users AS u \n",
    "    ON \n",
    "    p.owneruserid = u.id \n",
    "WHERE \n",
    "    u.aboutme != '';\"\"\"\n",
    "store_query(\"Task 3\", \"How many posts have been created by a user that has a filled out the AboutMe section?\", sql)"
   ]
  },
  {
   "cell_type": "markdown",
   "metadata": {},
   "source": [
    "Considering only the users with an \"AboutMe,\" how many posts are there per user?"
   ]
  },
  {
   "cell_type": "code",
   "execution_count": 90,
   "metadata": {},
   "outputs": [
    {
     "name": "stdout",
     "output_type": "stream",
     "text": [
      " * sqlite:///chatdata.db\n",
      "Done.\n"
     ]
    },
    {
     "data": {
      "text/html": [
       "<table>\n",
       "    <tr>\n",
       "        <th>posts_per_user</th>\n",
       "    </tr>\n",
       "    <tr>\n",
       "        <td>4.27</td>\n",
       "    </tr>\n",
       "</table>"
      ],
      "text/plain": [
       "[(4.27,)]"
      ]
     },
     "execution_count": 90,
     "metadata": {},
     "output_type": "execute_result"
    }
   ],
   "source": [
    "%%sql\n",
    "SELECT \n",
    "    ROUND((SELECT \n",
    "               CAST(COUNT(*) AS FLOAT)\n",
    "           FROM \n",
    "               posts AS p\n",
    "           JOIN \n",
    "               users AS u\n",
    "               ON \n",
    "               p.owneruserid = u.id\n",
    "           WHERE \n",
    "               u.aboutme != '') / \n",
    "               COUNT(*),2) AS posts_per_user\n",
    "FROM \n",
    "    users AS u\n",
    "WHERE \n",
    "    u.aboutme != '';"
   ]
  },
  {
   "cell_type": "code",
   "execution_count": 91,
   "metadata": {},
   "outputs": [],
   "source": [
    "sql = \"\"\"SELECT \n",
    "    ROUND((SELECT \n",
    "               CAST(COUNT(*) AS FLOAT)\n",
    "           FROM \n",
    "               posts AS p\n",
    "           JOIN \n",
    "               users AS u\n",
    "               ON \n",
    "               p.owneruserid = u.id\n",
    "           WHERE \n",
    "               u.aboutme != '') / \n",
    "               COUNT(*),2) AS posts_per_user\n",
    "FROM \n",
    "    users AS u\n",
    "WHERE \n",
    "    u.aboutme != '';\"\"\"\n",
    "store_query(\"Task 3\", \"Considering only the users with an AboutMe, how many posts are there per user?\", sql)"
   ]
  },
  {
   "cell_type": "markdown",
   "metadata": {},
   "source": [
    "Not taking into account the commentcount field in the table posts, what are the Top 10 posts in terms of number of comments?"
   ]
  },
  {
   "cell_type": "code",
   "execution_count": 92,
   "metadata": {},
   "outputs": [
    {
     "name": "stdout",
     "output_type": "stream",
     "text": [
      " * sqlite:///chatdata.db\n",
      "Done.\n"
     ]
    },
    {
     "data": {
      "text/html": [
       "<table>\n",
       "    <tr>\n",
       "        <th>post_id</th>\n",
       "        <th>comment_count</th>\n",
       "    </tr>\n",
       "    <tr>\n",
       "        <td>386853</td>\n",
       "        <td>66</td>\n",
       "    </tr>\n",
       "    <tr>\n",
       "        <td>386556</td>\n",
       "        <td>34</td>\n",
       "    </tr>\n",
       "    <tr>\n",
       "        <td>418910</td>\n",
       "        <td>31</td>\n",
       "    </tr>\n",
       "    <tr>\n",
       "        <td>395232</td>\n",
       "        <td>31</td>\n",
       "    </tr>\n",
       "    <tr>\n",
       "        <td>402987</td>\n",
       "        <td>27</td>\n",
       "    </tr>\n",
       "    <tr>\n",
       "        <td>386075</td>\n",
       "        <td>26</td>\n",
       "    </tr>\n",
       "    <tr>\n",
       "        <td>394118</td>\n",
       "        <td>24</td>\n",
       "    </tr>\n",
       "    <tr>\n",
       "        <td>402950</td>\n",
       "        <td>23</td>\n",
       "    </tr>\n",
       "    <tr>\n",
       "        <td>398828</td>\n",
       "        <td>23</td>\n",
       "    </tr>\n",
       "    <tr>\n",
       "        <td>396111</td>\n",
       "        <td>22</td>\n",
       "    </tr>\n",
       "</table>"
      ],
      "text/plain": [
       "[(386853, 66),\n",
       " (386556, 34),\n",
       " (418910, 31),\n",
       " (395232, 31),\n",
       " (402987, 27),\n",
       " (386075, 26),\n",
       " (394118, 24),\n",
       " (402950, 23),\n",
       " (398828, 23),\n",
       " (396111, 22)]"
      ]
     },
     "execution_count": 92,
     "metadata": {},
     "output_type": "execute_result"
    }
   ],
   "source": [
    "%%sql\n",
    "SELECT \n",
    "    p.id AS post_id, \n",
    "    COUNT(c.id) AS comment_count \n",
    "FROM \n",
    "    posts AS p \n",
    "JOIN \n",
    "    comments AS c \n",
    "    ON \n",
    "    p.id = c.postid \n",
    "GROUP BY \n",
    "    p.id \n",
    "ORDER BY \n",
    "    comment_count DESC \n",
    "LIMIT \n",
    "    10;"
   ]
  },
  {
   "cell_type": "code",
   "execution_count": 93,
   "metadata": {},
   "outputs": [],
   "source": [
    "sql = \"\"\"SELECT \n",
    "    p.id AS post_id, \n",
    "    COUNT(c.id) AS comment_count \n",
    "FROM \n",
    "    posts AS p \n",
    "JOIN \n",
    "    comments AS c \n",
    "    ON \n",
    "    p.id = c.postid \n",
    "GROUP BY \n",
    "    p.id \n",
    "ORDER BY \n",
    "    comment_count DESC \n",
    "LIMIT \n",
    "    10;\"\"\"\n",
    "store_query(\"Task 3\", \"Not taking into account the commentcount field in the table posts, what are the Top 10 posts in terms of number of comments?\", sql)"
   ]
  },
  {
   "cell_type": "markdown",
   "metadata": {},
   "source": [
    "What are the Top 10 posts which have the highest cumulative (post score + comment score) score? "
   ]
  },
  {
   "cell_type": "code",
   "execution_count": 110,
   "metadata": {},
   "outputs": [
    {
     "name": "stdout",
     "output_type": "stream",
     "text": [
      " * sqlite:///chatdata.db\n",
      "Done.\n"
     ]
    },
    {
     "data": {
      "text/html": [
       "<table>\n",
       "    <tr>\n",
       "        <th>post_id</th>\n",
       "        <th>cumulative_score</th>\n",
       "    </tr>\n",
       "    <tr>\n",
       "        <td>394118</td>\n",
       "        <td>1778</td>\n",
       "    </tr>\n",
       "    <tr>\n",
       "        <td>394128</td>\n",
       "        <td>1569</td>\n",
       "    </tr>\n",
       "    <tr>\n",
       "        <td>418910</td>\n",
       "        <td>1094</td>\n",
       "    </tr>\n",
       "    <tr>\n",
       "        <td>398653</td>\n",
       "        <td>1021</td>\n",
       "    </tr>\n",
       "    <tr>\n",
       "        <td>388578</td>\n",
       "        <td>941</td>\n",
       "    </tr>\n",
       "    <tr>\n",
       "        <td>388566</td>\n",
       "        <td>885</td>\n",
       "    </tr>\n",
       "    <tr>\n",
       "        <td>396818</td>\n",
       "        <td>808</td>\n",
       "    </tr>\n",
       "    <tr>\n",
       "        <td>418814</td>\n",
       "        <td>621</td>\n",
       "    </tr>\n",
       "    <tr>\n",
       "        <td>394258</td>\n",
       "        <td>570</td>\n",
       "    </tr>\n",
       "    <tr>\n",
       "        <td>394439</td>\n",
       "        <td>566</td>\n",
       "    </tr>\n",
       "</table>"
      ],
      "text/plain": [
       "[(394118, 1778),\n",
       " (394128, 1569),\n",
       " (418910, 1094),\n",
       " (398653, 1021),\n",
       " (388578, 941),\n",
       " (388566, 885),\n",
       " (396818, 808),\n",
       " (418814, 621),\n",
       " (394258, 570),\n",
       " (394439, 566)]"
      ]
     },
     "execution_count": 110,
     "metadata": {},
     "output_type": "execute_result"
    }
   ],
   "source": [
    "%%sql\n",
    "SELECT \n",
    "    p.id AS post_id,\n",
    "    SUM(p.score + c.score) AS cumulative_score \n",
    "FROM \n",
    "    posts AS p \n",
    "JOIN \n",
    "    comments AS c \n",
    "    ON \n",
    "    p.id = c.postid \n",
    "GROUP BY \n",
    "    p.id \n",
    "ORDER BY \n",
    "    cumulative_score DESC \n",
    "LIMIT \n",
    "    10;"
   ]
  },
  {
   "cell_type": "code",
   "execution_count": 95,
   "metadata": {},
   "outputs": [],
   "source": [
    "sql = \"\"\"SELECT \n",
    "    p.id AS post_id,\n",
    "    SUM(p.score + c.score) AS cumulative_score \n",
    "FROM \n",
    "    posts AS p \n",
    "JOIN \n",
    "    comments AS c \n",
    "    ON \n",
    "    p.id = c.postid \n",
    "GROUP BY \n",
    "    p.id \n",
    "ORDER BY \n",
    "    cumulative_score DESC \n",
    "LIMIT \n",
    "    10;\"\"\"\n",
    "store_query(\"Task 3\", \"What are the Top 10 posts which have the highest cumulative (post score + comment score) score?\", sql)"
   ]
  },
  {
   "cell_type": "markdown",
   "metadata": {},
   "source": [
    "Who are the top 10 users who comment the most? "
   ]
  },
  {
   "cell_type": "code",
   "execution_count": 96,
   "metadata": {},
   "outputs": [
    {
     "name": "stdout",
     "output_type": "stream",
     "text": [
      " * sqlite:///chatdata.db\n",
      "Done.\n"
     ]
    },
    {
     "data": {
      "text/html": [
       "<table>\n",
       "    <tr>\n",
       "        <th>Id</th>\n",
       "        <th>comment_count</th>\n",
       "        <th>Reputation</th>\n",
       "    </tr>\n",
       "    <tr>\n",
       "        <td>919</td>\n",
       "        <td>3301</td>\n",
       "        <td>223056</td>\n",
       "    </tr>\n",
       "    <tr>\n",
       "        <td>805</td>\n",
       "        <td>1153</td>\n",
       "        <td>228662</td>\n",
       "    </tr>\n",
       "    <tr>\n",
       "        <td>143489</td>\n",
       "        <td>1024</td>\n",
       "        <td>2890</td>\n",
       "    </tr>\n",
       "    <tr>\n",
       "        <td>11887</td>\n",
       "        <td>805</td>\n",
       "        <td>39200</td>\n",
       "    </tr>\n",
       "    <tr>\n",
       "        <td>85665</td>\n",
       "        <td>691</td>\n",
       "        <td>17391</td>\n",
       "    </tr>\n",
       "    <tr>\n",
       "        <td>164061</td>\n",
       "        <td>540</td>\n",
       "        <td>13485</td>\n",
       "    </tr>\n",
       "    <tr>\n",
       "        <td>22047</td>\n",
       "        <td>536</td>\n",
       "        <td>41385</td>\n",
       "    </tr>\n",
       "    <tr>\n",
       "        <td>158565</td>\n",
       "        <td>504</td>\n",
       "        <td>6482</td>\n",
       "    </tr>\n",
       "    <tr>\n",
       "        <td>7962</td>\n",
       "        <td>492</td>\n",
       "        <td>8030</td>\n",
       "    </tr>\n",
       "    <tr>\n",
       "        <td>35989</td>\n",
       "        <td>470</td>\n",
       "        <td>71548</td>\n",
       "    </tr>\n",
       "</table>"
      ],
      "text/plain": [
       "[(919, 3301, 223056),\n",
       " (805, 1153, 228662),\n",
       " (143489, 1024, 2890),\n",
       " (11887, 805, 39200),\n",
       " (85665, 691, 17391),\n",
       " (164061, 540, 13485),\n",
       " (22047, 536, 41385),\n",
       " (158565, 504, 6482),\n",
       " (7962, 492, 8030),\n",
       " (35989, 470, 71548)]"
      ]
     },
     "execution_count": 96,
     "metadata": {},
     "output_type": "execute_result"
    }
   ],
   "source": [
    "%%sql\n",
    "SELECT \n",
    "    u.id, \n",
    "    COUNT(c.id) AS comment_count, \n",
    "    u.reputation \n",
    "FROM \n",
    "    users AS u \n",
    "JOIN \n",
    "    comments AS c \n",
    "    ON \n",
    "    c.userid = u.id \n",
    "GROUP BY \n",
    "    u.id \n",
    "ORDER BY \n",
    "    comment_count DESC \n",
    "LIMIT \n",
    "    10;"
   ]
  },
  {
   "cell_type": "code",
   "execution_count": 97,
   "metadata": {},
   "outputs": [],
   "source": [
    "sql = \"\"\"SELECT \n",
    "    u.id, \n",
    "    COUNT(c.id) AS comment_count, \n",
    "    u.reputation \n",
    "FROM \n",
    "    users AS u \n",
    "JOIN \n",
    "    comments AS c \n",
    "    ON \n",
    "    c.userid = u.id \n",
    "GROUP BY \n",
    "    u.id \n",
    "ORDER BY \n",
    "    comment_count DESC \n",
    "LIMIT \n",
    "    10;\"\"\"\n",
    "store_query(\"Task 3\", \"Who are the top 10 users who comment the most?\", sql)"
   ]
  },
  {
   "cell_type": "markdown",
   "metadata": {},
   "source": [
    "Who are the top 10 users who post the most? "
   ]
  },
  {
   "cell_type": "code",
   "execution_count": 99,
   "metadata": {},
   "outputs": [
    {
     "name": "stdout",
     "output_type": "stream",
     "text": [
      " * sqlite:///chatdata.db\n",
      "Done.\n"
     ]
    },
    {
     "data": {
      "text/html": [
       "<table>\n",
       "    <tr>\n",
       "        <th>user_id</th>\n",
       "        <th>number_of_posts</th>\n",
       "        <th>Reputation</th>\n",
       "    </tr>\n",
       "    <tr>\n",
       "        <td>805</td>\n",
       "        <td>230</td>\n",
       "        <td>228662</td>\n",
       "    </tr>\n",
       "    <tr>\n",
       "        <td>919</td>\n",
       "        <td>203</td>\n",
       "        <td>223056</td>\n",
       "    </tr>\n",
       "    <tr>\n",
       "        <td>7290</td>\n",
       "        <td>35</td>\n",
       "        <td>115531</td>\n",
       "    </tr>\n",
       "    <tr>\n",
       "        <td>686</td>\n",
       "        <td>386</td>\n",
       "        <td>85077</td>\n",
       "    </tr>\n",
       "    <tr>\n",
       "        <td>28666</td>\n",
       "        <td>8</td>\n",
       "        <td>75024</td>\n",
       "    </tr>\n",
       "    <tr>\n",
       "        <td>35989</td>\n",
       "        <td>230</td>\n",
       "        <td>71548</td>\n",
       "    </tr>\n",
       "    <tr>\n",
       "        <td>7224</td>\n",
       "        <td>233</td>\n",
       "        <td>65999</td>\n",
       "    </tr>\n",
       "    <tr>\n",
       "        <td>4253</td>\n",
       "        <td>71</td>\n",
       "        <td>59952</td>\n",
       "    </tr>\n",
       "    <tr>\n",
       "        <td>1352</td>\n",
       "        <td>285</td>\n",
       "        <td>59160</td>\n",
       "    </tr>\n",
       "    <tr>\n",
       "        <td>22311</td>\n",
       "        <td>140</td>\n",
       "        <td>51155</td>\n",
       "    </tr>\n",
       "</table>"
      ],
      "text/plain": [
       "[(805, 230, 228662),\n",
       " (919, 203, 223056),\n",
       " (7290, 35, 115531),\n",
       " (686, 386, 85077),\n",
       " (28666, 8, 75024),\n",
       " (35989, 230, 71548),\n",
       " (7224, 233, 65999),\n",
       " (4253, 71, 59952),\n",
       " (1352, 285, 59160),\n",
       " (22311, 140, 51155)]"
      ]
     },
     "execution_count": 99,
     "metadata": {},
     "output_type": "execute_result"
    }
   ],
   "source": [
    "%%sql\n",
    "SELECT \n",
    "    u.id AS user_id, \n",
    "    COUNT(*) AS number_of_posts, \n",
    "    u.reputation \n",
    "FROM \n",
    "    users AS u \n",
    "JOIN \n",
    "    posts AS p \n",
    "    ON \n",
    "    p.owneruserid = u.id \n",
    "GROUP BY \n",
    "    u.id \n",
    "ORDER BY \n",
    "    u.reputation DESC \n",
    "LIMIT \n",
    "    10;"
   ]
  },
  {
   "cell_type": "code",
   "execution_count": 206,
   "metadata": {},
   "outputs": [],
   "source": [
    "sql = \"\"\"SELECT \n",
    "    u.id AS user_id, \n",
    "    COUNT(*) AS number_of_posts, \n",
    "    u.reputation \n",
    "FROM \n",
    "    users AS u \n",
    "JOIN \n",
    "    posts AS p \n",
    "    ON \n",
    "    p.owneruserid = u.id \n",
    "GROUP BY \n",
    "    u.id \n",
    "ORDER BY \n",
    "    u.reputation DESC \n",
    "LIMIT \n",
    "    10;\"\"\"\n",
    "store_query(\"Task 3\", \"Who are the top 10 users who post the most?\", sql)"
   ]
  },
  {
   "cell_type": "markdown",
   "metadata": {},
   "source": [
    "# Task 4: Check the Queries Table\n",
    "\n",
    "Now let's tidy up and check the queries table.\n",
    "\n",
    "First let's check it's contents:"
   ]
  },
  {
   "cell_type": "code",
   "execution_count": 207,
   "metadata": {},
   "outputs": [
    {
     "name": "stdout",
     "output_type": "stream",
     "text": [
      " * sqlite:///chatdata.db\n",
      "Done.\n"
     ]
    },
    {
     "data": {
      "text/html": [
       "<table>\n",
       "    <tr>\n",
       "        <th>task</th>\n",
       "        <th>action</th>\n",
       "        <th>query</th>\n",
       "    </tr>\n",
       "    <tr>\n",
       "        <td>Single Table Queries</td>\n",
       "        <td>Which 5 users have viewed the most times and what is the sum of those views per user?</td>\n",
       "        <td><br>SELECT Id, SUM(Views) AS TotalViews<br>    FROM Users<br>        GROUP BY Id<br>            ORDER BY TotalViews DESC<br>                LIMIT 5<br>                </td>\n",
       "    </tr>\n",
       "    <tr>\n",
       "        <td>Task 1</td>\n",
       "        <td>Create table comments</td>\n",
       "        <td><br>    CREATE TABLE &quot;comments&quot; (<br>    &quot;Id&quot; INTEGER,<br>    &quot;PostId&quot; INTEGER,<br>    &quot;Score&quot; INTEGER,<br>    &quot;Text&quot; TEXT,<br>    &quot;CreationDate&quot; TEXT,<br>    &quot;UserId&quot; INTEGER<br>    )<br>    </td>\n",
       "    </tr>\n",
       "    <tr>\n",
       "        <td>Task 1</td>\n",
       "        <td>Create table posts</td>\n",
       "        <td><br>CREATE TABLE &quot;posts&quot; (<br>&quot;Id&quot; INTEGER NOT NULL PRIMARY KEY,<br>&quot;PostTypeId&quot; INTEGER,<br>&quot;AcceptedAnswerId&quot; INTEGER,<br>&quot;ParentId&quot; INTEGER,<br>&quot;CreationDate&quot; TEXT,<br>&quot;Score&quot; INTEGER,<br>&quot;ViewCount&quot; INTEGER,<br>&quot;Body&quot; TEXT,<br>&quot;OwnerUserId&quot; INTEGER,<br>&quot;OwnerDisplayName&quot; TEXT,<br>&quot;LastEditorUserId&quot; INTEGER,<br>&quot;LastEditorDisplayName&quot; TEXT,<br>&quot;LastEditDate&quot; TEXT,<br>&quot;LastActivityDate&quot; TEXT,<br>&quot;Title&quot; TEXT,<br>&quot;Tags&quot; TEXT,<br>&quot;AnswerCount&quot; INTEGER,<br>&quot;CommentCount&quot; INTEGER,<br>&quot;FavoriteCount&quot; INTEGER,<br>&quot;ClosedDate&quot; TEXT,<br>&quot;CommunityOwnedDate&quot; TEXT<br>);<br></td>\n",
       "    </tr>\n",
       "    <tr>\n",
       "        <td>Task 1</td>\n",
       "        <td>Create table users</td>\n",
       "        <td><br>CREATE TABLE &quot;users&quot; (<br>&quot;Id&quot; INTEGER NOT NULL PRIMARY KEY,<br>&quot;Reputation&quot; INTEGER,<br>&quot;CreationDate&quot; TEXT,<br>&quot;DisplayName&quot; TEXT,<br>&quot;LastAccessDate&quot; TEXT,<br>&quot;WebsiteUrl&quot; TEXT,<br>&quot;Location&quot; TEXT,<br>&quot;AboutMe&quot; TEXT,<br>&quot;Views&quot; INTEGER,<br>&quot;UpVotes&quot; INTEGER,<br>&quot;DownVotes&quot; INTEGER,<br>&quot;ProfileImageUrl&quot; TEXT,<br>&quot;AccountId&quot; INTEGER<br>);<br></td>\n",
       "    </tr>\n",
       "    <tr>\n",
       "        <td>Task 1</td>\n",
       "        <td>Count rows in comments table</td>\n",
       "        <td>SELECT COUNT(*) FROM comments;</td>\n",
       "    </tr>\n",
       "    <tr>\n",
       "        <td>Task 1</td>\n",
       "        <td>Count rows in users table</td>\n",
       "        <td>SELECT COUNT(*) FROM users;</td>\n",
       "    </tr>\n",
       "    <tr>\n",
       "        <td>Task 1</td>\n",
       "        <td>Count rows in posts table</td>\n",
       "        <td>SELECT COUNT(*) FROM posts;</td>\n",
       "    </tr>\n",
       "    <tr>\n",
       "        <td>Task 1</td>\n",
       "        <td>Select 5 random rows from posts table</td>\n",
       "        <td>select * from Posts order by random() limit 5;</td>\n",
       "    </tr>\n",
       "    <tr>\n",
       "        <td>Task 1</td>\n",
       "        <td>Select 5 random rows from comments table</td>\n",
       "        <td>select * from Comments order by random() limit 5;</td>\n",
       "    </tr>\n",
       "    <tr>\n",
       "        <td>Task 1</td>\n",
       "        <td>Select 5 random rows from users table</td>\n",
       "        <td>select * from Users order by random() limit 5;</td>\n",
       "    </tr>\n",
       "    <tr>\n",
       "        <td>Task 2</td>\n",
       "        <td>How many posts have 0 comments?</td>\n",
       "        <td>SELECT <br>    COUNT(p.commentcount) AS zero_comment_count <br>FROM <br>    posts AS p <br>WHERE <br>    p.commentcount = 0;</td>\n",
       "    </tr>\n",
       "    <tr>\n",
       "        <td>Task 2</td>\n",
       "        <td>How many posts have 1 comments?</td>\n",
       "        <td>SELECT <br>    COUNT(p.commentcount) AS one_comment_count <br>FROM <br>    posts AS p <br>WHERE <br>    p.commentcount = 1;</td>\n",
       "    </tr>\n",
       "    <tr>\n",
       "        <td>Task 2</td>\n",
       "        <td>How many posts have 2 comments or more?</td>\n",
       "        <td>SELECT <br>    COUNT(commentcount) AS two_plus_comments_count <br>FROM <br>    posts AS p <br>WHERE <br>    p.commentcount &gt;= 2;</td>\n",
       "    </tr>\n",
       "    <tr>\n",
       "        <td>Task 2</td>\n",
       "        <td>Find the 5 posts with the highest viewcount</td>\n",
       "        <td>SELECT <br>    p.id, <br>    p.viewcount<br>FROM <br>    posts AS p <br>ORDER BY <br>    p.viewcount DESC <br>LIMIT <br>    5;</td>\n",
       "    </tr>\n",
       "    <tr>\n",
       "        <td>Task 2</td>\n",
       "        <td>Find the top 5 posts with the highest scores</td>\n",
       "        <td>SELECT <br>    p.id, <br>    p.score <br>FROM <br>    posts AS p <br>ORDER BY <br>    p.score DESC <br>LIMIT <br>    5;</td>\n",
       "    </tr>\n",
       "    <tr>\n",
       "        <td>Task 2</td>\n",
       "        <td>What are the 5 most frequent scores on posts?</td>\n",
       "        <td>SELECT <br>    p.score, <br>    COUNT(p.score) AS score_count <br>FROM <br>    posts AS p <br>GROUP BY <br>    p.score <br>ORDER BY <br>    COUNT(p.score) DESC <br>LIMIT <br>    5;</td>\n",
       "    </tr>\n",
       "    <tr>\n",
       "        <td>Task 2</td>\n",
       "        <td>How many posts have the keyword data in their tags?</td>\n",
       "        <td>SELECT <br>    COUNT(tags) AS tag_contains_data_keyword <br>FROM <br>    posts AS p <br>WHERE <br>    lower(p.tags) LIKE &quot;%data%&quot;;</td>\n",
       "    </tr>\n",
       "    <tr>\n",
       "        <td>Task 2</td>\n",
       "        <td>What are the 5 most frequent commentcount for posts?</td>\n",
       "        <td>SELECT <br>    p.commentcount, <br>    COUNT(p.commentcount) AS commentcount_count <br>FROM <br>    posts AS p <br>GROUP BY <br>    p.commentcount <br>ORDER BY <br>    COUNT(p.commentcount) DESC <br>LIMIT <br>    5;</td>\n",
       "    </tr>\n",
       "    <tr>\n",
       "        <td>Task 2</td>\n",
       "        <td>How many posts have an accepted answer?</td>\n",
       "        <td>SELECT <br>    COUNT(p.acceptedanswerid) AS accepted_answer_count <br>FROM <br>    posts AS p <br>WHERE <br>    p.acceptedanswerid != 0;</td>\n",
       "    </tr>\n",
       "    <tr>\n",
       "        <td>Task 2</td>\n",
       "        <td>What is the average reputation of table users?</td>\n",
       "        <td>SELECT <br>    AVG(u.reputation) AS average_reputation <br>FROM <br>    users AS u;</td>\n",
       "    </tr>\n",
       "    <tr>\n",
       "        <td>Task 2</td>\n",
       "        <td>What are the min and max reputation of users?</td>\n",
       "        <td>SELECT <br>    MIN(u.reputation) AS min_reputation, <br>    MAX(u.reputation) AS max_reputation <br>FROM <br>    users AS u;</td>\n",
       "    </tr>\n",
       "    <tr>\n",
       "        <td>Task 2</td>\n",
       "        <td>What is the length of the body of 5 most viewed posts?</td>\n",
       "        <td>SELECT <br>    p.len_body, <br>    p.viewcount <br>FROM <br>    posts AS p <br>ORDER BY <br>    p.viewcount DESC <br>LIMIT <br>    5;</td>\n",
       "    </tr>\n",
       "    <tr>\n",
       "        <td>Task 2</td>\n",
       "        <td>How many different locations are there in the users table?</td>\n",
       "        <td>SELECT <br>    COUNT(DISTINCT u.location) AS unique_locations <br>FROM <br>    users AS u;</td>\n",
       "    </tr>\n",
       "    <tr>\n",
       "        <td>Task 2</td>\n",
       "        <td>What are the top 5 locations of users?</td>\n",
       "        <td>SELECT <br>    u.location AS location, <br>    COUNT(u.location) AS location_count <br>FROM <br>    users AS u <br>GROUP BY <br>    u.location <br>ORDER BY <br>    COUNT(u.location) DESC <br>LIMIT <br>    5;</td>\n",
       "    </tr>\n",
       "    <tr>\n",
       "        <td>Task 2</td>\n",
       "        <td>Rank the days of the week from highest to lowest in terms of the volume of ViewCount as a percentage.</td>\n",
       "        <td>SELECT <br>    CAST (strftime(&#x27;%w&#x27;, p.creationdate) AS INTEGER) AS day_as_integer,<br>    case cast (strftime(&#x27;%w&#x27;, p.creationdate) as integer)<br>      when 0 then &#x27;Sunday&#x27;<br>      when 1 then &#x27;Monday&#x27;<br>      when 2 then &#x27;Tuesday&#x27;<br>      when 3 then &#x27;Wednesday&#x27;<br>      when 4 then &#x27;Thursday&#x27;<br>      when 5 then &#x27;Friday&#x27;<br>      else &#x27;Saturday&#x27; end as day,<br>    (ROUND(SUM(p.viewcount) * 100.0 / (SELECT SUM(viewcount) FROM posts),2)) AS percentage_viewcount<br>FROM <br>    posts AS p <br>GROUP BY <br>    day_as_integer<br>ORDER BY <br>    percentage_viewcount DESC;</td>\n",
       "    </tr>\n",
       "    <tr>\n",
       "        <td>Task 3</td>\n",
       "        <td>How many posts have been created by a user that has a filled out the AboutMe section?</td>\n",
       "        <td>SELECT <br>    COUNT(*) <br>FROM <br>    posts AS p <br>JOIN <br>    users AS u <br>    ON <br>    p.owneruserid = u.id <br>WHERE <br>    u.aboutme != &#x27;&#x27;;</td>\n",
       "    </tr>\n",
       "    <tr>\n",
       "        <td>Task 3</td>\n",
       "        <td>Considering only the users with an AboutMe, how many posts are there per user?</td>\n",
       "        <td>SELECT <br>    ROUND((SELECT <br>               CAST(COUNT(*) AS FLOAT)<br>           FROM <br>               posts AS p<br>           JOIN <br>               users AS u<br>               ON <br>               p.owneruserid = u.id<br>           WHERE <br>               u.aboutme != &#x27;&#x27;) / <br>               COUNT(*),2) AS posts_per_user<br>FROM <br>    users AS u<br>WHERE <br>    u.aboutme != &#x27;&#x27;;</td>\n",
       "    </tr>\n",
       "    <tr>\n",
       "        <td>Task 3</td>\n",
       "        <td>Not taking into account the commentcount field in the table posts, what are the Top 10 posts in terms of number of comments?</td>\n",
       "        <td>SELECT <br>    p.id AS post_id, <br>    COUNT(c.id) AS comment_count <br>FROM <br>    posts AS p <br>JOIN <br>    comments AS c <br>    ON <br>    p.id = c.postid <br>GROUP BY <br>    p.id <br>ORDER BY <br>    comment_count DESC <br>LIMIT <br>    10;</td>\n",
       "    </tr>\n",
       "    <tr>\n",
       "        <td>Task 3</td>\n",
       "        <td>What are the Top 10 posts which have the highest cumulative (post score + comment score) score?</td>\n",
       "        <td>SELECT <br>    p.id AS post_id,<br>    SUM(p.score) + SUM(c.score) AS cumulative_score <br>FROM <br>    posts AS p <br>JOIN <br>    comments AS c <br>    ON <br>    p.id = c.postid <br>GROUP BY <br>    p.id <br>ORDER BY <br>    cumulative_score DESC <br>LIMIT <br>    10;</td>\n",
       "    </tr>\n",
       "    <tr>\n",
       "        <td>Task 3</td>\n",
       "        <td>Who are the top 10 users who comment the most?</td>\n",
       "        <td>SELECT <br>    u.id, <br>    COUNT(c.id) AS comment_count, <br>    u.reputation <br>FROM <br>    users AS u <br>JOIN <br>    comments AS c <br>    ON <br>    c.userid = u.id <br>GROUP BY <br>    u.id <br>ORDER BY <br>    u.reputation DESC <br>LIMIT <br>    10;</td>\n",
       "    </tr>\n",
       "    <tr>\n",
       "        <td>Task 3</td>\n",
       "        <td>Who are the top 10 users who post the most?</td>\n",
       "        <td>SELECT <br>    u.id AS user_id, <br>    COUNT(*) AS number_of_posts, <br>    u.reputation <br>FROM <br>    users AS u <br>JOIN <br>    posts AS p <br>    ON <br>    p.owneruserid = u.id <br>GROUP BY <br>    u.id <br>ORDER BY <br>    u.reputation DESC <br>LIMIT <br>    10;</td>\n",
       "    </tr>\n",
       "</table>"
      ],
      "text/plain": [
       "[('Single Table Queries', 'Which 5 users have viewed the most times and what is the sum of those views per user?', '\\nSELECT Id, SUM(Views) AS TotalViews\\n    FROM Users\\n        GROUP BY Id\\n            ORDER BY TotalViews DESC\\n                LIMIT 5\\n                '),\n",
       " ('Task 1', 'Create table comments', '\\n    CREATE TABLE \"comments\" (\\n    \"Id\" INTEGER,\\n    \"PostId\" INTEGER,\\n    \"Score\" INTEGER,\\n    \"Text\" TEXT,\\n    \"CreationDate\" TEXT,\\n    \"UserId\" INTEGER\\n    )\\n    '),\n",
       " ('Task 1', 'Create table posts', '\\nCREATE TABLE \"posts\" (\\n\"Id\" INTEGER NOT NULL PRIMARY KEY,\\n\"PostTypeId\" INTEGER,\\n\"AcceptedAnswerId\" INTEGER,\\n\"ParentId\" INTEGER,\\n\"CreationDate\" ... (226 characters truncated) ... \" TEXT,\\n\"Tags\" TEXT,\\n\"AnswerCount\" INTEGER,\\n\"CommentCount\" INTEGER,\\n\"FavoriteCount\" INTEGER,\\n\"ClosedDate\" TEXT,\\n\"CommunityOwnedDate\" TEXT\\n);\\n'),\n",
       " ('Task 1', 'Create table users', '\\nCREATE TABLE \"users\" (\\n\"Id\" INTEGER NOT NULL PRIMARY KEY,\\n\"Reputation\" INTEGER,\\n\"CreationDate\" TEXT,\\n\"DisplayName\" TEXT,\\n\"LastAccessDate\" TEXT ... (19 characters truncated) ... T,\\n\"Location\" TEXT,\\n\"AboutMe\" TEXT,\\n\"Views\" INTEGER,\\n\"UpVotes\" INTEGER,\\n\"DownVotes\" INTEGER,\\n\"ProfileImageUrl\" TEXT,\\n\"AccountId\" INTEGER\\n);\\n'),\n",
       " ('Task 1', 'Count rows in comments table', 'SELECT COUNT(*) FROM comments;'),\n",
       " ('Task 1', 'Count rows in users table', 'SELECT COUNT(*) FROM users;'),\n",
       " ('Task 1', 'Count rows in posts table', 'SELECT COUNT(*) FROM posts;'),\n",
       " ('Task 1', 'Select 5 random rows from posts table', 'select * from Posts order by random() limit 5;'),\n",
       " ('Task 1', 'Select 5 random rows from comments table', 'select * from Comments order by random() limit 5;'),\n",
       " ('Task 1', 'Select 5 random rows from users table', 'select * from Users order by random() limit 5;'),\n",
       " ('Task 2', 'How many posts have 0 comments?', 'SELECT \\n    COUNT(p.commentcount) AS zero_comment_count \\nFROM \\n    posts AS p \\nWHERE \\n    p.commentcount = 0;'),\n",
       " ('Task 2', 'How many posts have 1 comments?', 'SELECT \\n    COUNT(p.commentcount) AS one_comment_count \\nFROM \\n    posts AS p \\nWHERE \\n    p.commentcount = 1;'),\n",
       " ('Task 2', 'How many posts have 2 comments or more?', 'SELECT \\n    COUNT(commentcount) AS two_plus_comments_count \\nFROM \\n    posts AS p \\nWHERE \\n    p.commentcount >= 2;'),\n",
       " ('Task 2', 'Find the 5 posts with the highest viewcount', 'SELECT \\n    p.id, \\n    p.viewcount\\nFROM \\n    posts AS p \\nORDER BY \\n    p.viewcount DESC \\nLIMIT \\n    5;'),\n",
       " ('Task 2', 'Find the top 5 posts with the highest scores', 'SELECT \\n    p.id, \\n    p.score \\nFROM \\n    posts AS p \\nORDER BY \\n    p.score DESC \\nLIMIT \\n    5;'),\n",
       " ('Task 2', 'What are the 5 most frequent scores on posts?', 'SELECT \\n    p.score, \\n    COUNT(p.score) AS score_count \\nFROM \\n    posts AS p \\nGROUP BY \\n    p.score \\nORDER BY \\n    COUNT(p.score) DESC \\nLIMIT \\n    5;'),\n",
       " ('Task 2', 'How many posts have the keyword data in their tags?', 'SELECT \\n    COUNT(tags) AS tag_contains_data_keyword \\nFROM \\n    posts AS p \\nWHERE \\n    lower(p.tags) LIKE \"%data%\";'),\n",
       " ('Task 2', 'What are the 5 most frequent commentcount for posts?', 'SELECT \\n    p.commentcount, \\n    COUNT(p.commentcount) AS commentcount_count \\nFROM \\n    posts AS p \\nGROUP BY \\n    p.commentcount \\nORDER BY \\n    COUNT(p.commentcount) DESC \\nLIMIT \\n    5;'),\n",
       " ('Task 2', 'How many posts have an accepted answer?', 'SELECT \\n    COUNT(p.acceptedanswerid) AS accepted_answer_count \\nFROM \\n    posts AS p \\nWHERE \\n    p.acceptedanswerid != 0;'),\n",
       " ('Task 2', 'What is the average reputation of table users?', 'SELECT \\n    AVG(u.reputation) AS average_reputation \\nFROM \\n    users AS u;'),\n",
       " ('Task 2', 'What are the min and max reputation of users?', 'SELECT \\n    MIN(u.reputation) AS min_reputation, \\n    MAX(u.reputation) AS max_reputation \\nFROM \\n    users AS u;'),\n",
       " ('Task 2', 'What is the length of the body of 5 most viewed posts?', 'SELECT \\n    p.len_body, \\n    p.viewcount \\nFROM \\n    posts AS p \\nORDER BY \\n    p.viewcount DESC \\nLIMIT \\n    5;'),\n",
       " ('Task 2', 'How many different locations are there in the users table?', 'SELECT \\n    COUNT(DISTINCT u.location) AS unique_locations \\nFROM \\n    users AS u;'),\n",
       " ('Task 2', 'What are the top 5 locations of users?', 'SELECT \\n    u.location AS location, \\n    COUNT(u.location) AS location_count \\nFROM \\n    users AS u \\nGROUP BY \\n    u.location \\nORDER BY \\n    COUNT(u.location) DESC \\nLIMIT \\n    5;'),\n",
       " ('Task 2', 'Rank the days of the week from highest to lowest in terms of the volume of ViewCount as a percentage.', \"SELECT \\n    CAST (strftime('%w', p.creationdate) AS INTEGER) AS day_as_integer,\\n    case cast (strftime('%w', p.creationdate) as integer)\\n      wh ... (250 characters truncated) ... (viewcount) FROM posts),2)) AS percentage_viewcount\\nFROM \\n    posts AS p \\nGROUP BY \\n    day_as_integer\\nORDER BY \\n    percentage_viewcount DESC;\"),\n",
       " ('Task 3', 'How many posts have been created by a user that has a filled out the AboutMe section?', \"SELECT \\n    COUNT(*) \\nFROM \\n    posts AS p \\nJOIN \\n    users AS u \\n    ON \\n    p.owneruserid = u.id \\nWHERE \\n    u.aboutme != '';\"),\n",
       " ('Task 3', 'Considering only the users with an AboutMe, how many posts are there per user?', \"SELECT \\n    ROUND((SELECT \\n               CAST(COUNT(*) AS FLOAT)\\n           FROM \\n               posts AS p\\n           JOIN \\n               us ... (70 characters truncated) ...         WHERE \\n               u.aboutme != '') / \\n               COUNT(*),2) AS posts_per_user\\nFROM \\n    users AS u\\nWHERE \\n    u.aboutme != '';\"),\n",
       " ('Task 3', 'Not taking into account the commentcount field in the table posts, what are the Top 10 posts in terms of number of comments?', 'SELECT \\n    p.id AS post_id, \\n    COUNT(c.id) AS comment_count \\nFROM \\n    posts AS p \\nJOIN \\n    comments AS c \\n    ON \\n    p.id = c.postid \\nGROUP BY \\n    p.id \\nORDER BY \\n    comment_count DESC \\nLIMIT \\n    10;'),\n",
       " ('Task 3', 'What are the Top 10 posts which have the highest cumulative (post score + comment score) score?', 'SELECT \\n    p.id AS post_id,\\n    SUM(p.score) + SUM(c.score) AS cumulative_score \\nFROM \\n    posts AS p \\nJOIN \\n    comments AS c \\n    ON \\n    p.id = c.postid \\nGROUP BY \\n    p.id \\nORDER BY \\n    cumulative_score DESC \\nLIMIT \\n    10;'),\n",
       " ('Task 3', 'Who are the top 10 users who comment the most?', 'SELECT \\n    u.id, \\n    COUNT(c.id) AS comment_count, \\n    u.reputation \\nFROM \\n    users AS u \\nJOIN \\n    comments AS c \\n    ON \\n    c.userid = u.id \\nGROUP BY \\n    u.id \\nORDER BY \\n    u.reputation DESC \\nLIMIT \\n    10;'),\n",
       " ('Task 3', 'Who are the top 10 users who post the most?', 'SELECT \\n    u.id AS user_id, \\n    COUNT(*) AS number_of_posts, \\n    u.reputation \\nFROM \\n    users AS u \\nJOIN \\n    posts AS p \\n    ON \\n    p.owneruserid = u.id \\nGROUP BY \\n    u.id \\nORDER BY \\n    u.reputation DESC \\nLIMIT \\n    10;')]"
      ]
     },
     "execution_count": 207,
     "metadata": {},
     "output_type": "execute_result"
    }
   ],
   "source": [
    "%sql SELECT * FROM queries"
   ]
  },
  {
   "cell_type": "markdown",
   "metadata": {},
   "source": [
    "## Drop Duplicates\n",
    "\n",
    "You likely have some duplicates. Lets drop them. "
   ]
  },
  {
   "cell_type": "code",
   "execution_count": 208,
   "metadata": {},
   "outputs": [],
   "source": [
    "# Read the queries table into pandas\n",
    "sql = 'SELECT * FROM queries'\n",
    "queries = pd.read_sql(sql, con)\n",
    "\n",
    "# Drop duplicates\n",
    "queries.drop_duplicates(inplace = True) # drop duplicates"
   ]
  },
  {
   "cell_type": "markdown",
   "metadata": {},
   "source": [
    "## Case Issues"
   ]
  },
  {
   "cell_type": "markdown",
   "metadata": {},
   "source": [
    "Remember, SQL is case insensitive. Pandas IS case sensitive. Lets deal with this now by making all of the text uppercase. "
   ]
  },
  {
   "cell_type": "code",
   "execution_count": 209,
   "metadata": {},
   "outputs": [
    {
     "data": {
      "text/html": [
       "<div>\n",
       "<style scoped>\n",
       "    .dataframe tbody tr th:only-of-type {\n",
       "        vertical-align: middle;\n",
       "    }\n",
       "\n",
       "    .dataframe tbody tr th {\n",
       "        vertical-align: top;\n",
       "    }\n",
       "\n",
       "    .dataframe thead th {\n",
       "        text-align: right;\n",
       "    }\n",
       "</style>\n",
       "<table border=\"1\" class=\"dataframe\">\n",
       "  <thead>\n",
       "    <tr style=\"text-align: right;\">\n",
       "      <th></th>\n",
       "      <th>task</th>\n",
       "      <th>action</th>\n",
       "      <th>query</th>\n",
       "    </tr>\n",
       "  </thead>\n",
       "  <tbody>\n",
       "    <tr>\n",
       "      <th>0</th>\n",
       "      <td>SINGLE TABLE QUERIES</td>\n",
       "      <td>WHICH 5 USERS HAVE VIEWED THE MOST TIMES AND W...</td>\n",
       "      <td>\\nSELECT ID, SUM(VIEWS) AS TOTALVIEWS\\n    FRO...</td>\n",
       "    </tr>\n",
       "    <tr>\n",
       "      <th>1</th>\n",
       "      <td>TASK 1</td>\n",
       "      <td>CREATE TABLE COMMENTS</td>\n",
       "      <td>\\n    CREATE TABLE \"COMMENTS\" (\\n    \"ID\" INTE...</td>\n",
       "    </tr>\n",
       "    <tr>\n",
       "      <th>2</th>\n",
       "      <td>TASK 1</td>\n",
       "      <td>CREATE TABLE POSTS</td>\n",
       "      <td>\\nCREATE TABLE \"POSTS\" (\\n\"ID\" INTEGER NOT NUL...</td>\n",
       "    </tr>\n",
       "    <tr>\n",
       "      <th>3</th>\n",
       "      <td>TASK 1</td>\n",
       "      <td>CREATE TABLE USERS</td>\n",
       "      <td>\\nCREATE TABLE \"USERS\" (\\n\"ID\" INTEGER NOT NUL...</td>\n",
       "    </tr>\n",
       "    <tr>\n",
       "      <th>4</th>\n",
       "      <td>TASK 1</td>\n",
       "      <td>COUNT ROWS IN COMMENTS TABLE</td>\n",
       "      <td>SELECT COUNT(*) FROM COMMENTS;</td>\n",
       "    </tr>\n",
       "    <tr>\n",
       "      <th>5</th>\n",
       "      <td>TASK 1</td>\n",
       "      <td>COUNT ROWS IN USERS TABLE</td>\n",
       "      <td>SELECT COUNT(*) FROM USERS;</td>\n",
       "    </tr>\n",
       "    <tr>\n",
       "      <th>6</th>\n",
       "      <td>TASK 1</td>\n",
       "      <td>COUNT ROWS IN POSTS TABLE</td>\n",
       "      <td>SELECT COUNT(*) FROM POSTS;</td>\n",
       "    </tr>\n",
       "    <tr>\n",
       "      <th>7</th>\n",
       "      <td>TASK 1</td>\n",
       "      <td>SELECT 5 RANDOM ROWS FROM POSTS TABLE</td>\n",
       "      <td>SELECT * FROM POSTS ORDER BY RANDOM() LIMIT 5;</td>\n",
       "    </tr>\n",
       "    <tr>\n",
       "      <th>8</th>\n",
       "      <td>TASK 1</td>\n",
       "      <td>SELECT 5 RANDOM ROWS FROM COMMENTS TABLE</td>\n",
       "      <td>SELECT * FROM COMMENTS ORDER BY RANDOM() LIMIT 5;</td>\n",
       "    </tr>\n",
       "    <tr>\n",
       "      <th>9</th>\n",
       "      <td>TASK 1</td>\n",
       "      <td>SELECT 5 RANDOM ROWS FROM USERS TABLE</td>\n",
       "      <td>SELECT * FROM USERS ORDER BY RANDOM() LIMIT 5;</td>\n",
       "    </tr>\n",
       "    <tr>\n",
       "      <th>10</th>\n",
       "      <td>TASK 2</td>\n",
       "      <td>HOW MANY POSTS HAVE 0 COMMENTS?</td>\n",
       "      <td>SELECT \\n    COUNT(P.COMMENTCOUNT) AS ZERO_COM...</td>\n",
       "    </tr>\n",
       "    <tr>\n",
       "      <th>11</th>\n",
       "      <td>TASK 2</td>\n",
       "      <td>HOW MANY POSTS HAVE 1 COMMENTS?</td>\n",
       "      <td>SELECT \\n    COUNT(P.COMMENTCOUNT) AS ONE_COMM...</td>\n",
       "    </tr>\n",
       "    <tr>\n",
       "      <th>12</th>\n",
       "      <td>TASK 2</td>\n",
       "      <td>HOW MANY POSTS HAVE 2 COMMENTS OR MORE?</td>\n",
       "      <td>SELECT \\n    COUNT(COMMENTCOUNT) AS TWO_PLUS_C...</td>\n",
       "    </tr>\n",
       "    <tr>\n",
       "      <th>13</th>\n",
       "      <td>TASK 2</td>\n",
       "      <td>FIND THE 5 POSTS WITH THE HIGHEST VIEWCOUNT</td>\n",
       "      <td>SELECT \\n    P.ID, \\n    P.VIEWCOUNT\\nFROM \\n ...</td>\n",
       "    </tr>\n",
       "    <tr>\n",
       "      <th>14</th>\n",
       "      <td>TASK 2</td>\n",
       "      <td>FIND THE TOP 5 POSTS WITH THE HIGHEST SCORES</td>\n",
       "      <td>SELECT \\n    P.ID, \\n    P.SCORE \\nFROM \\n    ...</td>\n",
       "    </tr>\n",
       "    <tr>\n",
       "      <th>15</th>\n",
       "      <td>TASK 2</td>\n",
       "      <td>WHAT ARE THE 5 MOST FREQUENT SCORES ON POSTS?</td>\n",
       "      <td>SELECT \\n    P.SCORE, \\n    COUNT(P.SCORE) AS ...</td>\n",
       "    </tr>\n",
       "    <tr>\n",
       "      <th>16</th>\n",
       "      <td>TASK 2</td>\n",
       "      <td>HOW MANY POSTS HAVE THE KEYWORD DATA IN THEIR ...</td>\n",
       "      <td>SELECT \\n    COUNT(TAGS) AS TAG_CONTAINS_DATA_...</td>\n",
       "    </tr>\n",
       "    <tr>\n",
       "      <th>17</th>\n",
       "      <td>TASK 2</td>\n",
       "      <td>WHAT ARE THE 5 MOST FREQUENT COMMENTCOUNT FOR ...</td>\n",
       "      <td>SELECT \\n    P.COMMENTCOUNT, \\n    COUNT(P.COM...</td>\n",
       "    </tr>\n",
       "    <tr>\n",
       "      <th>18</th>\n",
       "      <td>TASK 2</td>\n",
       "      <td>HOW MANY POSTS HAVE AN ACCEPTED ANSWER?</td>\n",
       "      <td>SELECT \\n    COUNT(P.ACCEPTEDANSWERID) AS ACCE...</td>\n",
       "    </tr>\n",
       "    <tr>\n",
       "      <th>19</th>\n",
       "      <td>TASK 2</td>\n",
       "      <td>WHAT IS THE AVERAGE REPUTATION OF TABLE USERS?</td>\n",
       "      <td>SELECT \\n    AVG(U.REPUTATION) AS AVERAGE_REPU...</td>\n",
       "    </tr>\n",
       "    <tr>\n",
       "      <th>20</th>\n",
       "      <td>TASK 2</td>\n",
       "      <td>WHAT ARE THE MIN AND MAX REPUTATION OF USERS?</td>\n",
       "      <td>SELECT \\n    MIN(U.REPUTATION) AS MIN_REPUTATI...</td>\n",
       "    </tr>\n",
       "    <tr>\n",
       "      <th>21</th>\n",
       "      <td>TASK 2</td>\n",
       "      <td>WHAT IS THE LENGTH OF THE BODY OF 5 MOST VIEWE...</td>\n",
       "      <td>SELECT \\n    P.LEN_BODY, \\n    P.VIEWCOUNT \\nF...</td>\n",
       "    </tr>\n",
       "    <tr>\n",
       "      <th>22</th>\n",
       "      <td>TASK 2</td>\n",
       "      <td>HOW MANY DIFFERENT LOCATIONS ARE THERE IN THE ...</td>\n",
       "      <td>SELECT \\n    COUNT(DISTINCT U.LOCATION) AS UNI...</td>\n",
       "    </tr>\n",
       "    <tr>\n",
       "      <th>23</th>\n",
       "      <td>TASK 2</td>\n",
       "      <td>WHAT ARE THE TOP 5 LOCATIONS OF USERS?</td>\n",
       "      <td>SELECT \\n    U.LOCATION AS LOCATION, \\n    COU...</td>\n",
       "    </tr>\n",
       "    <tr>\n",
       "      <th>24</th>\n",
       "      <td>TASK 2</td>\n",
       "      <td>RANK THE DAYS OF THE WEEK FROM HIGHEST TO LOWE...</td>\n",
       "      <td>SELECT \\n    CAST (STRFTIME('%W', P.CREATIONDA...</td>\n",
       "    </tr>\n",
       "    <tr>\n",
       "      <th>25</th>\n",
       "      <td>TASK 3</td>\n",
       "      <td>HOW MANY POSTS HAVE BEEN CREATED BY A USER THA...</td>\n",
       "      <td>SELECT \\n    COUNT(*) \\nFROM \\n    POSTS AS P ...</td>\n",
       "    </tr>\n",
       "    <tr>\n",
       "      <th>26</th>\n",
       "      <td>TASK 3</td>\n",
       "      <td>CONSIDERING ONLY THE USERS WITH AN ABOUTME, HO...</td>\n",
       "      <td>SELECT \\n    ROUND((SELECT \\n               CA...</td>\n",
       "    </tr>\n",
       "    <tr>\n",
       "      <th>27</th>\n",
       "      <td>TASK 3</td>\n",
       "      <td>NOT TAKING INTO ACCOUNT THE COMMENTCOUNT FIELD...</td>\n",
       "      <td>SELECT \\n    P.ID AS POST_ID, \\n    COUNT(C.ID...</td>\n",
       "    </tr>\n",
       "    <tr>\n",
       "      <th>28</th>\n",
       "      <td>TASK 3</td>\n",
       "      <td>WHAT ARE THE TOP 10 POSTS WHICH HAVE THE HIGHE...</td>\n",
       "      <td>SELECT \\n    P.ID AS POST_ID,\\n    SUM(P.SCORE...</td>\n",
       "    </tr>\n",
       "    <tr>\n",
       "      <th>29</th>\n",
       "      <td>TASK 3</td>\n",
       "      <td>WHO ARE THE TOP 10 USERS WHO COMMENT THE MOST?</td>\n",
       "      <td>SELECT \\n    U.ID, \\n    COUNT(C.ID) AS COMMEN...</td>\n",
       "    </tr>\n",
       "    <tr>\n",
       "      <th>30</th>\n",
       "      <td>TASK 3</td>\n",
       "      <td>WHO ARE THE TOP 10 USERS WHO POST THE MOST?</td>\n",
       "      <td>SELECT \\n    U.ID AS USER_ID, \\n    COUNT(*) A...</td>\n",
       "    </tr>\n",
       "  </tbody>\n",
       "</table>\n",
       "</div>"
      ],
      "text/plain": [
       "                    task                                             action  \\\n",
       "0   SINGLE TABLE QUERIES  WHICH 5 USERS HAVE VIEWED THE MOST TIMES AND W...   \n",
       "1                 TASK 1                              CREATE TABLE COMMENTS   \n",
       "2                 TASK 1                                 CREATE TABLE POSTS   \n",
       "3                 TASK 1                                 CREATE TABLE USERS   \n",
       "4                 TASK 1                       COUNT ROWS IN COMMENTS TABLE   \n",
       "5                 TASK 1                          COUNT ROWS IN USERS TABLE   \n",
       "6                 TASK 1                          COUNT ROWS IN POSTS TABLE   \n",
       "7                 TASK 1              SELECT 5 RANDOM ROWS FROM POSTS TABLE   \n",
       "8                 TASK 1           SELECT 5 RANDOM ROWS FROM COMMENTS TABLE   \n",
       "9                 TASK 1              SELECT 5 RANDOM ROWS FROM USERS TABLE   \n",
       "10                TASK 2                    HOW MANY POSTS HAVE 0 COMMENTS?   \n",
       "11                TASK 2                    HOW MANY POSTS HAVE 1 COMMENTS?   \n",
       "12                TASK 2            HOW MANY POSTS HAVE 2 COMMENTS OR MORE?   \n",
       "13                TASK 2        FIND THE 5 POSTS WITH THE HIGHEST VIEWCOUNT   \n",
       "14                TASK 2       FIND THE TOP 5 POSTS WITH THE HIGHEST SCORES   \n",
       "15                TASK 2      WHAT ARE THE 5 MOST FREQUENT SCORES ON POSTS?   \n",
       "16                TASK 2  HOW MANY POSTS HAVE THE KEYWORD DATA IN THEIR ...   \n",
       "17                TASK 2  WHAT ARE THE 5 MOST FREQUENT COMMENTCOUNT FOR ...   \n",
       "18                TASK 2            HOW MANY POSTS HAVE AN ACCEPTED ANSWER?   \n",
       "19                TASK 2     WHAT IS THE AVERAGE REPUTATION OF TABLE USERS?   \n",
       "20                TASK 2      WHAT ARE THE MIN AND MAX REPUTATION OF USERS?   \n",
       "21                TASK 2  WHAT IS THE LENGTH OF THE BODY OF 5 MOST VIEWE...   \n",
       "22                TASK 2  HOW MANY DIFFERENT LOCATIONS ARE THERE IN THE ...   \n",
       "23                TASK 2             WHAT ARE THE TOP 5 LOCATIONS OF USERS?   \n",
       "24                TASK 2  RANK THE DAYS OF THE WEEK FROM HIGHEST TO LOWE...   \n",
       "25                TASK 3  HOW MANY POSTS HAVE BEEN CREATED BY A USER THA...   \n",
       "26                TASK 3  CONSIDERING ONLY THE USERS WITH AN ABOUTME, HO...   \n",
       "27                TASK 3  NOT TAKING INTO ACCOUNT THE COMMENTCOUNT FIELD...   \n",
       "28                TASK 3  WHAT ARE THE TOP 10 POSTS WHICH HAVE THE HIGHE...   \n",
       "29                TASK 3     WHO ARE THE TOP 10 USERS WHO COMMENT THE MOST?   \n",
       "30                TASK 3        WHO ARE THE TOP 10 USERS WHO POST THE MOST?   \n",
       "\n",
       "                                                query  \n",
       "0   \\nSELECT ID, SUM(VIEWS) AS TOTALVIEWS\\n    FRO...  \n",
       "1   \\n    CREATE TABLE \"COMMENTS\" (\\n    \"ID\" INTE...  \n",
       "2   \\nCREATE TABLE \"POSTS\" (\\n\"ID\" INTEGER NOT NUL...  \n",
       "3   \\nCREATE TABLE \"USERS\" (\\n\"ID\" INTEGER NOT NUL...  \n",
       "4                      SELECT COUNT(*) FROM COMMENTS;  \n",
       "5                         SELECT COUNT(*) FROM USERS;  \n",
       "6                         SELECT COUNT(*) FROM POSTS;  \n",
       "7      SELECT * FROM POSTS ORDER BY RANDOM() LIMIT 5;  \n",
       "8   SELECT * FROM COMMENTS ORDER BY RANDOM() LIMIT 5;  \n",
       "9      SELECT * FROM USERS ORDER BY RANDOM() LIMIT 5;  \n",
       "10  SELECT \\n    COUNT(P.COMMENTCOUNT) AS ZERO_COM...  \n",
       "11  SELECT \\n    COUNT(P.COMMENTCOUNT) AS ONE_COMM...  \n",
       "12  SELECT \\n    COUNT(COMMENTCOUNT) AS TWO_PLUS_C...  \n",
       "13  SELECT \\n    P.ID, \\n    P.VIEWCOUNT\\nFROM \\n ...  \n",
       "14  SELECT \\n    P.ID, \\n    P.SCORE \\nFROM \\n    ...  \n",
       "15  SELECT \\n    P.SCORE, \\n    COUNT(P.SCORE) AS ...  \n",
       "16  SELECT \\n    COUNT(TAGS) AS TAG_CONTAINS_DATA_...  \n",
       "17  SELECT \\n    P.COMMENTCOUNT, \\n    COUNT(P.COM...  \n",
       "18  SELECT \\n    COUNT(P.ACCEPTEDANSWERID) AS ACCE...  \n",
       "19  SELECT \\n    AVG(U.REPUTATION) AS AVERAGE_REPU...  \n",
       "20  SELECT \\n    MIN(U.REPUTATION) AS MIN_REPUTATI...  \n",
       "21  SELECT \\n    P.LEN_BODY, \\n    P.VIEWCOUNT \\nF...  \n",
       "22  SELECT \\n    COUNT(DISTINCT U.LOCATION) AS UNI...  \n",
       "23  SELECT \\n    U.LOCATION AS LOCATION, \\n    COU...  \n",
       "24  SELECT \\n    CAST (STRFTIME('%W', P.CREATIONDA...  \n",
       "25  SELECT \\n    COUNT(*) \\nFROM \\n    POSTS AS P ...  \n",
       "26  SELECT \\n    ROUND((SELECT \\n               CA...  \n",
       "27  SELECT \\n    P.ID AS POST_ID, \\n    COUNT(C.ID...  \n",
       "28  SELECT \\n    P.ID AS POST_ID,\\n    SUM(P.SCORE...  \n",
       "29  SELECT \\n    U.ID, \\n    COUNT(C.ID) AS COMMEN...  \n",
       "30  SELECT \\n    U.ID AS USER_ID, \\n    COUNT(*) A...  "
      ]
     },
     "execution_count": 209,
     "metadata": {},
     "output_type": "execute_result"
    }
   ],
   "source": [
    "for col in queries.columns:\n",
    "    queries[col] = queries[col].str.upper()\n",
    "    \n",
    "queries"
   ]
  },
  {
   "cell_type": "code",
   "execution_count": 210,
   "metadata": {},
   "outputs": [
    {
     "data": {
      "text/plain": [
       "31"
      ]
     },
     "execution_count": 210,
     "metadata": {},
     "output_type": "execute_result"
    }
   ],
   "source": [
    "# Write the now deduped uppercase dataframe back to sqlite and replace the table\n",
    "queries.to_sql('queries', con, if_exists='replace', index=False)"
   ]
  },
  {
   "cell_type": "markdown",
   "metadata": {},
   "source": [
    "## Use Case\n",
    "\n",
    "Now that we have this queries table, lets give you some ideas about how you would use it.\n",
    "\n",
    "Suppose you wanted to find all of the queries where you did a GROUP BY:"
   ]
  },
  {
   "cell_type": "code",
   "execution_count": 211,
   "metadata": {},
   "outputs": [
    {
     "name": "stdout",
     "output_type": "stream",
     "text": [
      " * sqlite:///chatdata.db\n",
      "Done.\n"
     ]
    },
    {
     "data": {
      "text/html": [
       "<table>\n",
       "    <tr>\n",
       "        <th>query</th>\n",
       "    </tr>\n",
       "    <tr>\n",
       "        <td><br>SELECT ID, SUM(VIEWS) AS TOTALVIEWS<br>    FROM USERS<br>        GROUP BY ID<br>            ORDER BY TOTALVIEWS DESC<br>                LIMIT 5<br>                </td>\n",
       "    </tr>\n",
       "    <tr>\n",
       "        <td>SELECT <br>    P.SCORE, <br>    COUNT(P.SCORE) AS SCORE_COUNT <br>FROM <br>    POSTS AS P <br>GROUP BY <br>    P.SCORE <br>ORDER BY <br>    COUNT(P.SCORE) DESC <br>LIMIT <br>    5;</td>\n",
       "    </tr>\n",
       "    <tr>\n",
       "        <td>SELECT <br>    P.COMMENTCOUNT, <br>    COUNT(P.COMMENTCOUNT) AS COMMENTCOUNT_COUNT <br>FROM <br>    POSTS AS P <br>GROUP BY <br>    P.COMMENTCOUNT <br>ORDER BY <br>    COUNT(P.COMMENTCOUNT) DESC <br>LIMIT <br>    5;</td>\n",
       "    </tr>\n",
       "    <tr>\n",
       "        <td>SELECT <br>    U.LOCATION AS LOCATION, <br>    COUNT(U.LOCATION) AS LOCATION_COUNT <br>FROM <br>    USERS AS U <br>GROUP BY <br>    U.LOCATION <br>ORDER BY <br>    COUNT(U.LOCATION) DESC <br>LIMIT <br>    5;</td>\n",
       "    </tr>\n",
       "    <tr>\n",
       "        <td>SELECT <br>    CAST (STRFTIME(&#x27;%W&#x27;, P.CREATIONDATE) AS INTEGER) AS DAY_AS_INTEGER,<br>    CASE CAST (STRFTIME(&#x27;%W&#x27;, P.CREATIONDATE) AS INTEGER)<br>      WHEN 0 THEN &#x27;SUNDAY&#x27;<br>      WHEN 1 THEN &#x27;MONDAY&#x27;<br>      WHEN 2 THEN &#x27;TUESDAY&#x27;<br>      WHEN 3 THEN &#x27;WEDNESDAY&#x27;<br>      WHEN 4 THEN &#x27;THURSDAY&#x27;<br>      WHEN 5 THEN &#x27;FRIDAY&#x27;<br>      ELSE &#x27;SATURDAY&#x27; END AS DAY,<br>    (ROUND(SUM(P.VIEWCOUNT) * 100.0 / (SELECT SUM(VIEWCOUNT) FROM POSTS),2)) AS PERCENTAGE_VIEWCOUNT<br>FROM <br>    POSTS AS P <br>GROUP BY <br>    DAY_AS_INTEGER<br>ORDER BY <br>    PERCENTAGE_VIEWCOUNT DESC;</td>\n",
       "    </tr>\n",
       "    <tr>\n",
       "        <td>SELECT <br>    P.ID AS POST_ID, <br>    COUNT(C.ID) AS COMMENT_COUNT <br>FROM <br>    POSTS AS P <br>JOIN <br>    COMMENTS AS C <br>    ON <br>    P.ID = C.POSTID <br>GROUP BY <br>    P.ID <br>ORDER BY <br>    COMMENT_COUNT DESC <br>LIMIT <br>    10;</td>\n",
       "    </tr>\n",
       "    <tr>\n",
       "        <td>SELECT <br>    P.ID AS POST_ID,<br>    SUM(P.SCORE) + SUM(C.SCORE) AS CUMULATIVE_SCORE <br>FROM <br>    POSTS AS P <br>JOIN <br>    COMMENTS AS C <br>    ON <br>    P.ID = C.POSTID <br>GROUP BY <br>    P.ID <br>ORDER BY <br>    CUMULATIVE_SCORE DESC <br>LIMIT <br>    10;</td>\n",
       "    </tr>\n",
       "    <tr>\n",
       "        <td>SELECT <br>    U.ID, <br>    COUNT(C.ID) AS COMMENT_COUNT, <br>    U.REPUTATION <br>FROM <br>    USERS AS U <br>JOIN <br>    COMMENTS AS C <br>    ON <br>    C.USERID = U.ID <br>GROUP BY <br>    U.ID <br>ORDER BY <br>    U.REPUTATION DESC <br>LIMIT <br>    10;</td>\n",
       "    </tr>\n",
       "    <tr>\n",
       "        <td>SELECT <br>    U.ID AS USER_ID, <br>    COUNT(*) AS NUMBER_OF_POSTS, <br>    U.REPUTATION <br>FROM <br>    USERS AS U <br>JOIN <br>    POSTS AS P <br>    ON <br>    P.OWNERUSERID = U.ID <br>GROUP BY <br>    U.ID <br>ORDER BY <br>    U.REPUTATION DESC <br>LIMIT <br>    10;</td>\n",
       "    </tr>\n",
       "</table>"
      ],
      "text/plain": [
       "[('\\nSELECT ID, SUM(VIEWS) AS TOTALVIEWS\\n    FROM USERS\\n        GROUP BY ID\\n            ORDER BY TOTALVIEWS DESC\\n                LIMIT 5\\n                ',),\n",
       " ('SELECT \\n    P.SCORE, \\n    COUNT(P.SCORE) AS SCORE_COUNT \\nFROM \\n    POSTS AS P \\nGROUP BY \\n    P.SCORE \\nORDER BY \\n    COUNT(P.SCORE) DESC \\nLIMIT \\n    5;',),\n",
       " ('SELECT \\n    P.COMMENTCOUNT, \\n    COUNT(P.COMMENTCOUNT) AS COMMENTCOUNT_COUNT \\nFROM \\n    POSTS AS P \\nGROUP BY \\n    P.COMMENTCOUNT \\nORDER BY \\n    COUNT(P.COMMENTCOUNT) DESC \\nLIMIT \\n    5;',),\n",
       " ('SELECT \\n    U.LOCATION AS LOCATION, \\n    COUNT(U.LOCATION) AS LOCATION_COUNT \\nFROM \\n    USERS AS U \\nGROUP BY \\n    U.LOCATION \\nORDER BY \\n    COUNT(U.LOCATION) DESC \\nLIMIT \\n    5;',),\n",
       " (\"SELECT \\n    CAST (STRFTIME('%W', P.CREATIONDATE) AS INTEGER) AS DAY_AS_INTEGER,\\n    CASE CAST (STRFTIME('%W', P.CREATIONDATE) AS INTEGER)\\n      WH ... (250 characters truncated) ... (VIEWCOUNT) FROM POSTS),2)) AS PERCENTAGE_VIEWCOUNT\\nFROM \\n    POSTS AS P \\nGROUP BY \\n    DAY_AS_INTEGER\\nORDER BY \\n    PERCENTAGE_VIEWCOUNT DESC;\",),\n",
       " ('SELECT \\n    P.ID AS POST_ID, \\n    COUNT(C.ID) AS COMMENT_COUNT \\nFROM \\n    POSTS AS P \\nJOIN \\n    COMMENTS AS C \\n    ON \\n    P.ID = C.POSTID \\nGROUP BY \\n    P.ID \\nORDER BY \\n    COMMENT_COUNT DESC \\nLIMIT \\n    10;',),\n",
       " ('SELECT \\n    P.ID AS POST_ID,\\n    SUM(P.SCORE) + SUM(C.SCORE) AS CUMULATIVE_SCORE \\nFROM \\n    POSTS AS P \\nJOIN \\n    COMMENTS AS C \\n    ON \\n    P.ID = C.POSTID \\nGROUP BY \\n    P.ID \\nORDER BY \\n    CUMULATIVE_SCORE DESC \\nLIMIT \\n    10;',),\n",
       " ('SELECT \\n    U.ID, \\n    COUNT(C.ID) AS COMMENT_COUNT, \\n    U.REPUTATION \\nFROM \\n    USERS AS U \\nJOIN \\n    COMMENTS AS C \\n    ON \\n    C.USERID = U.ID \\nGROUP BY \\n    U.ID \\nORDER BY \\n    U.REPUTATION DESC \\nLIMIT \\n    10;',),\n",
       " ('SELECT \\n    U.ID AS USER_ID, \\n    COUNT(*) AS NUMBER_OF_POSTS, \\n    U.REPUTATION \\nFROM \\n    USERS AS U \\nJOIN \\n    POSTS AS P \\n    ON \\n    P.OWNERUSERID = U.ID \\nGROUP BY \\n    U.ID \\nORDER BY \\n    U.REPUTATION DESC \\nLIMIT \\n    10;',)]"
      ]
     },
     "execution_count": 211,
     "metadata": {},
     "output_type": "execute_result"
    }
   ],
   "source": [
    "%%sql\n",
    "SELECT query\n",
    "    FROM queries\n",
    "        WHERE query LIKE '%GROUP BY%'"
   ]
  },
  {
   "cell_type": "markdown",
   "metadata": {},
   "source": [
    "## Now Your Turn\n",
    "Find the queries that have 'DISTINCT' in them. You can do it with the %sql command or with Pandas and sql.\n",
    "\n",
    "<div style=\"background-color:lemonchiffon; border:1px solid; padding:5px; margin:5px; font-weight:bold\"><font color=\"crimson\">\n",
    "TODO: Complete the following code cell\n",
    "    </font></div>"
   ]
  },
  {
   "cell_type": "code",
   "execution_count": 212,
   "metadata": {},
   "outputs": [
    {
     "name": "stdout",
     "output_type": "stream",
     "text": [
      " * sqlite:///chatdata.db\n",
      "Done.\n"
     ]
    },
    {
     "data": {
      "text/html": [
       "<table>\n",
       "    <tr>\n",
       "        <th>query</th>\n",
       "    </tr>\n",
       "    <tr>\n",
       "        <td>SELECT <br>    COUNT(DISTINCT U.LOCATION) AS UNIQUE_LOCATIONS <br>FROM <br>    USERS AS U;</td>\n",
       "    </tr>\n",
       "</table>"
      ],
      "text/plain": [
       "[('SELECT \\n    COUNT(DISTINCT U.LOCATION) AS UNIQUE_LOCATIONS \\nFROM \\n    USERS AS U;',)]"
      ]
     },
     "execution_count": 212,
     "metadata": {},
     "output_type": "execute_result"
    }
   ],
   "source": [
    "%%sql\n",
    "SELECT query\n",
    "    FROM queries\n",
    "        WHERE query LIKE '%DISTINCT%'"
   ]
  },
  {
   "cell_type": "markdown",
   "metadata": {},
   "source": [
    "# Close SQLite\n",
    "\n",
    "It is good practise to close all relational databases as soon as you are finished updating them."
   ]
  },
  {
   "cell_type": "code",
   "execution_count": 213,
   "metadata": {},
   "outputs": [],
   "source": [
    "con.close()"
   ]
  },
  {
   "cell_type": "markdown",
   "metadata": {},
   "source": [
    "# All Done!\n",
    "\n",
    "Great job. You now have a good idea for how to use sql and pandas with sql. You can create your own databases from csv files and you can do extensive querying using sql. These are valuable skills that will take you a long ways in todays technological world."
   ]
  }
 ],
 "metadata": {
  "kernelspec": {
   "display_name": "Python 3 (ipykernel)",
   "language": "python",
   "name": "python3"
  },
  "language_info": {
   "codemirror_mode": {
    "name": "ipython",
    "version": 3
   },
   "file_extension": ".py",
   "mimetype": "text/x-python",
   "name": "python",
   "nbconvert_exporter": "python",
   "pygments_lexer": "ipython3",
   "version": "3.9.12"
  },
  "toc": {
   "base_numbering": 1,
   "nav_menu": {},
   "number_sections": true,
   "sideBar": true,
   "skip_h1_title": false,
   "title_cell": "Table of Contents",
   "title_sidebar": "Contents",
   "toc_cell": false,
   "toc_position": {
    "height": "calc(100% - 180px)",
    "left": "10px",
    "top": "150px",
    "width": "165px"
   },
   "toc_section_display": true,
   "toc_window_display": true
  }
 },
 "nbformat": 4,
 "nbformat_minor": 4
}
